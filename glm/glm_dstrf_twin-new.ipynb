{
 "cells": [
  {
   "cell_type": "markdown",
   "metadata": {},
   "source": [
    "# GLM twin experiment\n",
    "\n",
    "This script runs a twin experiment with a exp nonlinearity and a cosine basis GLM model."
   ]
  },
  {
   "cell_type": "code",
   "execution_count": 2,
   "metadata": {},
   "outputs": [
    {
     "name": "stderr",
     "output_type": "stream",
     "text": [
      "/home/tyler/.virtualenvs/dstrf/local/lib/python2.7/site-packages/IPython/html.py:14: ShimWarning: The `IPython.html` package has been deprecated since IPython 4.0. You should import from `notebook` instead. `IPython.html.widgets` has moved to `ipywidgets`.\n",
      "  \"`IPython.html.widgets` has moved to `ipywidgets`.\", ShimWarning)\n"
     ]
    }
   ],
   "source": [
    "from __future__ import print_function, division\n",
    "import numpy as np\n",
    "import scipy as sp\n",
    "import neurofit as nf\n",
    "import pyspike as pyspk\n",
    "from scipy.signal import resample\n",
    "\n",
    "import sys\n",
    "sys.path.append(\"../\") # for importing utils and glm\n",
    "\n",
    "import utils\n",
    "import glm\n",
    "\n",
    "from neurofit import utils as nfutils\n",
    "\n",
    "\n",
    "# plotting packages\n",
    "%matplotlib inline\n",
    "from matplotlib.pyplot import * # plotting functions\n",
    "import seaborn as sns           # data visualization package\n",
    "sns.set_style(\"whitegrid\")"
   ]
  },
  {
   "cell_type": "markdown",
   "metadata": {},
   "source": [
    "## Setting paramters and loading data"
   ]
  },
  {
   "cell_type": "code",
   "execution_count": 120,
   "metadata": {},
   "outputs": [],
   "source": [
    "# assimilation parameters\n",
    "nwalkers = 1000\n",
    "burn = 100\n",
    "threads = 8\n",
    "keep = 1\n",
    "num_assim_stims = 15\n",
    "tracker = nfutils.convergence_tracker(burn,burn/10)\n",
    "\n",
    "# glm model settings\n",
    "ncos = 10\n",
    "spcos = 5\n",
    "dt = 0.001\n",
    "tcoslin = 100\n",
    "tcoslin = 10\n",
    "channels = 1\n",
    "\n",
    "# data parameters \n",
    "nspec = 30\n",
    "t_dsample = 5\n",
    "tlen = int(np.rint(150/t_dsample))\n",
    "plen = int(np.rint(50/t_dsample))\n",
    "psth_smooth = 5/t_dsample\n",
    "compress = 1\n",
    "\n",
    "# load data from crcns\n",
    "cell = \"yg0616_4_B\"\n",
    "stim_type = \"conspecific\"\n",
    "\n",
    "stims,durations = utils.load_crcns(cell,stim_type,nspec,t_dsample,compress)[:2]\n",
    "durations = [int(d/t_dsample) for d in durations]"
   ]
  },
  {
   "cell_type": "markdown",
   "metadata": {},
   "source": [
    "## Defining the model \n",
    "\n",
    "Note that each model needs the following functions: `__init__, dim, set, run`"
   ]
  },
  {
   "cell_type": "code",
   "execution_count": 23,
   "metadata": {
    "collapsed": true
   },
   "outputs": [],
   "source": [
    "import cneurons as cn\n",
    "\n",
    "# strf model with time in cosine basis (a la Pillow)\n",
    "class cosstrf():\n",
    "    def __init__(self, channels, nspec, tlen, ncos=10,tcoslin=1,normalize=False,center=False):\n",
    "        self.channels = channels\n",
    "        self.nspec = nspec\n",
    "        self.tlen = tlen\n",
    "        self.ncos = ncos\n",
    "        self.cosbas = utils.cosbasis(tlen,ncos,lin=tcoslin)\n",
    "        self.invbas = np.linalg.pinv(self.cosbas)\n",
    "        self.tfilt = None\n",
    "        self.sfilt = None\n",
    "        self.filt = None\n",
    "        self.normalize = normalize\n",
    "        self.center = center\n",
    "        \n",
    "    def dim(self):\n",
    "        return self.channels*(self.nspec+self.ncos)\n",
    "\n",
    "    def set(self,theta):\n",
    "        flat_sfilt = theta[:self.nspec*self.channels]\n",
    "        flat_tfilt = theta[self.nspec*self.channels:]\n",
    "        self.sfilt = np.reshape(flat_sfilt,(self.channels,self.nspec))\n",
    "        self.tfilt = np.matmul(self.cosbas,np.reshape(flat_tfilt,(self.channels,self.ncos)).T).T\n",
    "        self.filt  = np.matmul(self.sfilt.T,self.tfilt)\n",
    "\n",
    "    def run(self,stim):\n",
    "        r = utils.spgconv(self.filt,stim)\n",
    "        if self.normalize: r = nfutils.normalize(r,center=self.center)\n",
    "        return r\n",
    "\n",
    "# glm model with a cosine basis\n",
    "class GLM_cos():\n",
    "    def __init__(self,channels,nspec,tlen,hlen,tcos=10,hcos=8,tcoslin=1,htcoslin=10,nonlin=np.exp,spike=False,dt=0.001):\n",
    "        self.nonlin = nonlin if nonlin is not None else lambda x: x\n",
    "        self.k = cosstrf(channels,nspec,tlen,tcos,tcoslin)\n",
    "        self.h = cosstrf(1,1,hlen,hcos,htcoslin)\n",
    "        self.post_spike = None\n",
    "        self.offset = 0\n",
    "        self.spike=spike\n",
    "        self.nh = hlen\n",
    "        self.dt=dt\n",
    "        self.nspec = nspec\n",
    "        self.tcos = tcos\n",
    "        self.hcos = hcos\n",
    "        \n",
    "    def dim():\n",
    "        return channels*(self.nspec + self.tcos + self.hcos)\n",
    "\n",
    "    def set(self,theta):\n",
    "        self.offset,ktheta,htheta = np.split(theta,[1,-self.h.ncos])\n",
    "        self.k.set(ktheta)\n",
    "        self.h.set(np.hstack((1,htheta)))\n",
    "        \n",
    "    def run(self,data):\n",
    "        stim, observed_spikes = data if np.shape(data) == (2,) else (data,None)\n",
    "            \n",
    "        synap = self.k.run(stim)\n",
    "        \n",
    "        duration = synap.size\n",
    "        \n",
    "        spikes = np.zeros(duration+1) \n",
    "        spike_times = []    \n",
    "        \n",
    "        \n",
    "        if observed_spikes is not None:\n",
    "            rate = []\n",
    "            oneobv = False\n",
    "            if np.shape(observed_spikes[0]) == ():\n",
    "                observed_spikes = [observed_spikes]\n",
    "                oneobv = True\n",
    "            for ob in observed_spikes:    \n",
    "                if len(ob) >= duration:\n",
    "                    spikes = ob[:duration]\n",
    "                    spike_times = np.where(spikes>0)\n",
    "\n",
    "                else:\n",
    "                    spikes *= 0\n",
    "                    times = np.asarray(ob)\n",
    "                    spikes[times+1] = 1\n",
    "                    spike_times.append(times)\n",
    "\n",
    "                post = self.h.run([spikes[:duration]])\n",
    "                rate.append(self.nonlin(synap + post + self.offset)*self.dt)\n",
    "            if oneobv:\n",
    "                rate = rate[0]\n",
    "                spike_times = spike_times[0]\n",
    "\n",
    "        else:\n",
    "            rate = np.zeros(duration)\n",
    "            post_spike = np.fliplr(self.h.filt)\n",
    "            for i in range(1,duration):\n",
    "                window = spikes[max(0,i-self.nh):i]\n",
    "                if i < self.nh: window = np.pad(window,(self.nh-i,0),\"constant\")\n",
    "                post = np.dot(post_spike,window)\n",
    "                r = synap[i] + post + self.offset\n",
    "                rate[i] = self.nonlin(r)*self.dt\n",
    "                if np.random.poisson(rate[i]) > 0:\n",
    "                    spikes[i] = 1\n",
    "                    spike_times.append(i)   \n",
    "\n",
    "        return (rate, spike_times) if self.spike else rate"
   ]
  },
  {
   "cell_type": "markdown",
   "metadata": {},
   "source": [
    "## Simulating data for the twin experiment\n",
    "\n",
    "### Building the STRF"
   ]
  },
  {
   "cell_type": "code",
   "execution_count": 109,
   "metadata": {},
   "outputs": [
    {
     "data": {
      "text/plain": [
       "[<matplotlib.lines.Line2D at 0x7f08724139d0>]"
      ]
     },
     "execution_count": 109,
     "metadata": {},
     "output_type": "execute_result"
    },
    {
     "data": {
      "image/png": "[encoded data removed]",
      "text/plain": [
       "<matplotlib.figure.Figure at 0x7f0873159cd0>"
      ]
     },
     "metadata": {},
     "output_type": "display_data"
    }
   ],
   "source": [
    "# construct stimulus the filter\n",
    "sres = nspec - 1 #resolution of the filter in pixels\n",
    "tres = tlen      #time window of the filter in ms\n",
    "maxfreq = 8000   #maximum frequency of the signal\n",
    "latency = 75     #offset between stimulus and response in ms (range: 0 to time)\n",
    "frequency = 4000 #centering frequency for the filter\n",
    "A = 0.25         #amplitude of the wavelet peak -- probably don't need to change this\n",
    "sigma = 0.01     #width of the filter in the time axis -- bigger sigma = narrower time band\n",
    "gamma = 0.0015   #width of the filter in the frequency axis -- bigger gamma = narrower frequency band\n",
    "alpha = 1        #depth of inhibitory sidebands on time axis -- bigger alpha = deeper sidebands\n",
    "beta = 1         #depth of inhibitory sidebands on frequency axis -- bigger beta = deeper sidebands\n",
    "\n",
    "#ss.strf returns three arguments: h is the strf, t and f are correctly labeled axes for plotting\n",
    "k, t, f = utils.strf(sres,150,maxfreq,latency,frequency,A,sigma,gamma,alpha,beta)\n",
    "\n",
    "k = resample(k,tres,axis=1)*0.1\n",
    "\n",
    "# create cosine basis for time dimension\n",
    "spec,tim = utils.factorize(k)\n",
    "tbas, fromt, tot = utils.cosbasis(tlen,ncos,tcoslin,retfn=True)\n",
    "costim = tot(tim)\n",
    " \n",
    "# create post spike filter\n",
    "hparam  = [-10,0.5,1,0.25,0]\n",
    "hparam  = [-10,0.5,1,0.25,0]\n",
    "tbas, fromt, tot = utils.cosbasis(tlen,10,100,retfn=True)\n",
    "\n",
    "hbas, fromh, toh = utils.cosbasis(plen,5,lin=10,retfn=True)\n",
    "h = fromh(hparam)\n",
    "\n",
    "subplot(211)\n",
    "sns.heatmap(k)\n",
    "subplot(212)\n",
    "plot(h)"
   ]
  },
  {
   "cell_type": "markdown",
   "metadata": {},
   "source": [
    "### Generating noisy data"
   ]
  },
  {
   "cell_type": "code",
   "execution_count": 110,
   "metadata": {},
   "outputs": [
    {
     "name": "stdout",
     "output_type": "stream",
     "text": [
      "EO: 0.84\n"
     ]
    }
   ],
   "source": [
    "# data settings\n",
    "ntrials = 5\n",
    "intercept = 0\n",
    "\n",
    "dataparam = np.hstack(([intercept],spec[0],costim[0],hparam))\n",
    "M = GLM_cos(1,nspec,tlen,plen,ncos,spcos,tcoslin,spike=True,dt=dt)\n",
    "M.set(dataparam)\n",
    "\n",
    "# generate the data\n",
    "spikes_data = []\n",
    "spiky_data = []\n",
    "binary_data = []\n",
    "model_data   = []\n",
    "for s,dur in zip(stims,durations):\n",
    "    sr = []\n",
    "    sspk = []\n",
    "    s0 = []\n",
    "    sspiky = []\n",
    "    for n in range(ntrials):\n",
    "        z = np.zeros(dur,dtype=int)\n",
    "        r,spikes = M.run(s)\n",
    "        z[spikes] = 1\n",
    "        sr.append(r)\n",
    "        sspk.append(spikes)\n",
    "        sspiky.append(pyspk.SpikeTrain(spikes,[0,dur]))\n",
    "        s0.append(z)\n",
    "    model_data.append(sr)\n",
    "    spikes_data.append(sspk)\n",
    "    spiky_data.append(sspiky)\n",
    "    binary_data.append(s0)\n",
    "psth_data = [utils.psth(spk,dur,psth_smooth) for spk,st,dur in zip(spikes_data,stims,durations)]\n",
    "\n",
    "# separate the simulation and validation sets\n",
    "assim_psth, test_psth = np.split(psth_data,[num_assim_stims])\n",
    "assim_spikes, test_spikes = np.split(spikes_data,[num_assim_stims])\n",
    "assim_spiky, test_spiky = np.split(spiky_data,[num_assim_stims])\n",
    "assim_stims, test_stims = stims[:num_assim_stims], stims[num_assim_stims:]\n",
    "assim_dur, test_dur = np.split(durations,[num_assim_stims])\n",
    "\n",
    "# calculate correlation between even and odd trial psths\n",
    "eocorr = [utils.evenoddcorr(spks,dur,psth_smooth,0) for spks,dur in zip(spikes_data,durations)]\n",
    "print(\"EO: {:.2f}\".format(np.mean(eocorr)))"
   ]
  },
  {
   "cell_type": "markdown",
   "metadata": {},
   "source": [
    "## Getting initial guess for STRF"
   ]
  },
  {
   "cell_type": "code",
   "execution_count": 115,
   "metadata": {},
   "outputs": [
    {
     "name": "stderr",
     "output_type": "stream",
     "text": [
      "/home/tyler/.virtualenvs/dstrf/local/lib/python2.7/site-packages/sklearn/linear_model/coordinate_descent.py:484: ConvergenceWarning: Objective did not converge. You might want to increase the number of iterations. Fitting data with very small alpha may cause precision problems.\n",
      "  ConvergenceWarning)\n"
     ]
    }
   ],
   "source": [
    "# estimate STRF using elastic net regression\n",
    "fit_psth = [np.log(p*1000 + 1) for p in assim_psth]\n",
    "\n",
    "STRF_GUESS, B_GUESS = utils.get_strf(assim_stims,fit_psth,tlen,fit_intercept=False)\n",
    "SPEC,TIM = utils.factorize(STRF_GUESS,1)\n",
    "\n",
    "# create initial paramter vector from estimated strf\n",
    "filt_start = np.hstack((SPEC,tot(TIM))).flatten()"
   ]
  },
  {
   "cell_type": "code",
   "execution_count": 122,
   "metadata": {},
   "outputs": [
    {
     "name": "stdout",
     "output_type": "stream",
     "text": [
      "0.858863496049\n"
     ]
    },
    {
     "data": {
      "image/png": "[encoded data removed]",
      "text/plain": [
       "<matplotlib.figure.Figure at 0x7f0872a877d0>"
      ]
     },
     "metadata": {},
     "output_type": "display_data"
    }
   ],
   "source": [
    "# plot true and estimated strf\n",
    "subplot(211)\n",
    "sns.heatmap(M.k.filt)\n",
    "\n",
    "subplot(212)\n",
    "strf_model = cosstrf(channels,nspec,tlen,ncos,tcoslin)\n",
    "strf_model.set(filt_start)\n",
    "sns.heatmap(strf_model.filt)\n",
    "\n",
    "print(utils.evaluate(strf_model.filt,test_stims,test_psth))"
   ]
  },
  {
   "cell_type": "markdown",
   "metadata": {},
   "source": [
    "## Define loss and prior functions"
   ]
  },
  {
   "cell_type": "code",
   "execution_count": null,
   "metadata": {
    "collapsed": true
   },
   "outputs": [],
   "source": [
    "from neurofit import priors\n",
    "from neurofit import costs\n",
    "\n",
    "def spike_distance(predict,data):\n",
    "    trace, spikes = predict\n",
    "    spiky = pyspk.SpikeTrain(spikes,[0,data[0].t_end])\n",
    "    dist = 1000*np.mean([pyspk.spike_distance(spiky,trial) for trial in data])\n",
    "    return dist\n",
    "\n",
    "mat_prior = priors.joint_independent(\n",
    "                [ nf.priors.uniform(-1000,  1000),\n",
    "                  nf.priors.uniform( -100,   100),\n",
    "                  nf.priors.uniform( -100,   100),\n",
    "                  nf.priors.uniform( -1000,  1000)])\n",
    "\n",
    "cost = spike_distance\n",
    "unbounded = priors.unbounded()\n",
    "\n",
    "def dstrf_shrink_prior(theta):\n",
    "    return np.sum(np.abs(start[:-4])) + mat_prior(start[-4:])"
   ]
  },
  {
   "cell_type": "markdown",
   "metadata": {},
   "source": [
    "## Run initial MAT parameter fit"
   ]
  },
  {
   "cell_type": "code",
   "execution_count": null,
   "metadata": {},
   "outputs": [
    {
     "name": "stdout",
     "output_type": "stream",
     "text": [
      "  step      lnprob        time         ETA\n",
      "------------------------------------------\n"
     ]
    }
   ],
   "source": [
    "from neurofit import startpos\n",
    "\n",
    "# get I with STRF fixed\n",
    "Iapp = []\n",
    "for s,dur in zip(stims,durations):\n",
    "    R = resample(strf_model.run(s),dur)\n",
    "    if normalize: nfutils.normalize(R,center=center)\n",
    "    Iapp.append(R*scale)\n",
    "    \n",
    "assim_Iapp, test_Iapp = np.split(Iapp,[num_assim_stims])\n",
    "\n",
    "# initalize the mat model\n",
    "mat_model = mat(free_ts=free_ts)\n",
    "\n",
    "# generate starting positions of emcee walkers\n",
    "p0 = startpos.uniform_independent(nwalkers,[-100,-10,-10,-10],[100,10,10,10])\n",
    "#p0 = startpos.normal_independent(nwalkers,[5,0,0,1],[0.1]*4)\n",
    "#p0 = startpos.normal_independent(nwalkers,matparam,[0.1]*4)\n",
    "\n",
    "# run emcee\n",
    "mat_smplr = nf.sampler(mat_model,mat_prior,cost,nwalkers,zip(assim_Iapp,assim_spiky),8)\n",
    "\n",
    "for pos,_,_ in tracker(mat_smplr.sample(p0,iterations=burn)): continue\n",
    "mat_smplr.reset()\n",
    "mat_smplr.run_mcmc(pos,1);"
   ]
  },
  {
   "cell_type": "code",
   "execution_count": null,
   "metadata": {
    "collapsed": true
   },
   "outputs": [],
   "source": [
    "# check the performance of the fit mat model\n",
    "mml = mat_smplr.flatchain[np.argmax(mat_smplr.flatlnprobability)]\n",
    "mat_map = mat()\n",
    "mat_map.set(mml)\n",
    "mat_corr = []\n",
    "\n",
    "param_corr = utils.evaluate(STRF_GUESS,test_stims,test_psth)\n",
    "\n",
    "for i,p,d in zip(test_Iapp,test_psth,test_dur):\n",
    "    trace,spikes = mat_map.run(i)\n",
    "    mat_psth = utils.psth_spiky(pyspk.SpikeTrain(spikes,[0,d]),binres=1,smooth=psth_smooth,dsample=t_dsample)\n",
    "    mat_corr.append(np.corrcoef(p,mat_psth)[0][1])\n",
    "        \n",
    "start = np.hstack((filt_start,mml))\n",
    "print(\"Filt R: {:.3f}, MAT R: {:.3f}\".format(param_corr,np.mean(mat_corr)))"
   ]
  },
  {
   "cell_type": "markdown",
   "metadata": {},
   "source": [
    "## Fit dSTRF model using emcee"
   ]
  },
  {
   "cell_type": "code",
   "execution_count": null,
   "metadata": {
    "collapsed": true
   },
   "outputs": [],
   "source": [
    "# initalize the model\n",
    "model = dstrf(1,nspec,tlen,ncos,tcoslin,t_dsample,scale=scale,normalize=norm,center=center)\n",
    "\n",
    "# set starting positions for walkers\n",
    "p0 = startpos.normal_independent(nwalkers-1,start,[1e-4]*len(start))\n",
    "p0 = np.vstack((start,p0))\n",
    "\n",
    "# run emcee\n",
    "dstrf_smplr = nf.sampler(model,dstrf_shrink_prior,spike_distance,nwalkers,zip(assim_stims,assim_spiky),8)\n",
    "for pos,_,_ in tracker(dstrf_smplr.sample(p0,iterations=burn)): continue\n",
    "dstrf_smplr.reset()\n",
    "dstrf_smplr.run_mcmc(pos,1);"
   ]
  },
  {
   "cell_type": "markdown",
   "metadata": {},
   "source": [
    "## Evaluate the model fit"
   ]
  },
  {
   "cell_type": "code",
   "execution_count": null,
   "metadata": {
    "collapsed": true
   },
   "outputs": [],
   "source": [
    "# initalize model with MAP parameter estimate\n",
    "dmap = dstrf_smplr.flatchain[np.argmax(dstrf_smplr.flatlnprobability)]\n",
    "model.set(dmap)\n",
    "\n",
    "figure(figsize=(4,4))\n",
    "# compare true and estimated STRFs\n",
    "subplot(211)\n",
    "sns.heatmap(M.pstrf.filt,cbar=False)\n",
    "\n",
    "subplot(212)\n",
    "sns.heatmap(model.pstrf.filt,cbar = False)\n",
    "tight_layout()"
   ]
  },
  {
   "cell_type": "code",
   "execution_count": null,
   "metadata": {
    "collapsed": true
   },
   "outputs": [],
   "source": [
    "map_corr = utils.dstrf_sample_validate(model,dmap,test_stims,test_psth,test_spiky,t_dsample,psth_smooth,plt=True,figsize=(4,1))\n",
    "ppcorr = utils.posterior_predict_corr(model,test_stims,test_psth,dstrf_smplr.flatchain,t_dsample,psth_smooth)\n",
    "corr_means = np.mean([map_corr,ppcorr,eocorr[num_assim_stims:]],axis=1)\n",
    "print(\"MAP: {:.2f}, Dist: {:.2f}, EO: {:.2f}\".format(corr_means[0],corr_means[1],corr_means[2]))\n",
    "print(\"MAP/EO: {:.2f}, Dist/EO: {:.2f}\".format(corr_means[0]/corr_means[2],corr_means[1]/corr_means[2]))"
   ]
  },
  {
   "cell_type": "code",
   "execution_count": null,
   "metadata": {
    "collapsed": true,
    "scrolled": false
   },
   "outputs": [],
   "source": [
    "from corner import corner\n",
    "\n",
    "matlabs = ['a','b','c','w']\n",
    "corner(dstrf_smplr.flatchain[:,-4:],\n",
    "       range=[[-100,100],\n",
    "              [-10,10],\n",
    "              [-10,10],\n",
    "              [-100,100]],\n",
    "       bins=50, smooth=2,mooth1d=5,\n",
    "       labels=matlabs,\n",
    "       truths=matparam);"
   ]
  }
 ],
 "metadata": {
  "kernelspec": {
   "display_name": "Python 2",
   "language": "python",
   "name": "python2"
  },
  "language_info": {
   "codemirror_mode": {
    "name": "ipython",
    "version": 2
   },
   "file_extension": ".py",
   "mimetype": "text/x-python",
   "name": "python",
   "nbconvert_exporter": "python",
   "pygments_lexer": "ipython2",
   "version": "2.7.9"
  }
 },
 "nbformat": 4,
 "nbformat_minor": 1
}
