{
 "cells": [
  {
   "cell_type": "markdown",
   "metadata": {},
   "source": [
    "# MAT dSTRF twin experiment\n",
    "\n",
    "This script runs a twin experiment with a dSTRF model composed of the augmented MAT model and a cosine basis STRF."
   ]
  },
  {
   "cell_type": "code",
   "execution_count": 164,
   "metadata": {
    "collapsed": true
   },
   "outputs": [],
   "source": [
    "from __future__ import print_function, division\n",
    "import numpy as np\n",
    "import scipy as sp\n",
    "import neurofit as nf\n",
    "import pyspike as pyspk\n",
    "from scipy.signal import resample\n",
    "\n",
    "import sys\n",
    "sys.path.append(\"../\") # for importing utils and glm\n",
    "\n",
    "import utils\n",
    "import glm\n",
    "\n",
    "from neurofit import utils as nfutils\n",
    "\n",
    "\n",
    "# plotting packages\n",
    "%matplotlib inline\n",
    "from matplotlib.pyplot import * # plotting functions\n",
    "import seaborn as sns           # data visualization package\n",
    "sns.set_style(\"whitegrid\")"
   ]
  },
  {
   "cell_type": "markdown",
   "metadata": {},
   "source": [
    "## Setting paramters and loading data"
   ]
  },
  {
   "cell_type": "code",
   "execution_count": 165,
   "metadata": {
    "collapsed": true
   },
   "outputs": [],
   "source": [
    "# assimilation parameters\n",
    "nwalkers = 1000\n",
    "burn = 1000\n",
    "threads = 8\n",
    "keep = 1\n",
    "num_assim_stims = 15\n",
    "tracker = nfutils.convergence_tracker(burn,burn/10)\n",
    "\n",
    "# dstrf model settings\n",
    "free_ts = False\n",
    "scale = 10\n",
    "channels = 1\n",
    "ncos = 10\n",
    "coslin = 100\n",
    "norm = True\n",
    "center = True\n",
    "\n",
    "# data parameters \n",
    "nspec = 30\n",
    "t_dsample = 5\n",
    "tlen = int(np.rint(150/t_dsample))\n",
    "psth_smooth = 5/t_dsample\n",
    "compress = 1\n",
    "\n",
    "# load data from crcns\n",
    "cell = \"yg0616_4_B\"\n",
    "stim_type = \"conspecific\"\n",
    "\n",
    "stims,durations = utils.load_crcns(cell,stim_type,nspec,t_dsample,compress)[:2]"
   ]
  },
  {
   "cell_type": "markdown",
   "metadata": {},
   "source": [
    "## Defining the model \n",
    "\n",
    "Note that each model needs the following functions: `__init__, dim, set, run`"
   ]
  },
  {
   "cell_type": "code",
   "execution_count": 166,
   "metadata": {
    "collapsed": true
   },
   "outputs": [],
   "source": [
    "import cneurons as cn\n",
    "\n",
    "# strf model with time in cosine basis (a la Pillow)\n",
    "class cosstrf():\n",
    "    def __init__(self, channels, nspec, tlen, ncos=10,coslin=1,normalize=False,center=False):\n",
    "        self.channels = channels\n",
    "        self.nspec = nspec\n",
    "        self.tlen = tlen\n",
    "        self.ncos = ncos\n",
    "        self.cosbas = utils.cosbasis(tlen,ncos,lin=coslin)\n",
    "        self.invbas = np.linalg.pinv(self.cosbas)\n",
    "        self.tfilt = None\n",
    "        self.sfilt = None\n",
    "        self.filt = None\n",
    "        self.normalize = normalize\n",
    "        self.center = center\n",
    "        \n",
    "    def dim(self):\n",
    "        return self.channels*(self.nspec+self.ncos)\n",
    "\n",
    "    def set(self,theta):\n",
    "        flat_sfilt = theta[:self.nspec*self.channels]\n",
    "        flat_tfilt = theta[self.nspec*self.channels:]\n",
    "        self.sfilt = np.reshape(flat_sfilt,(self.channels,self.nspec))\n",
    "        self.tfilt = np.matmul(self.cosbas,np.reshape(flat_tfilt,(self.channels,self.ncos)).T).T\n",
    "        self.filt  = np.matmul(self.sfilt.T,self.tfilt)\n",
    "\n",
    "    def run(self,stim):\n",
    "        r = utils.spgconv(self.filt,stim)\n",
    "        if self.normalize: r = nfutils.normalize(r,center=self.center)\n",
    "        return r\n",
    "\n",
    "# augmented mat model with R and tm fixed to 1\n",
    "class mat():\n",
    "    def __init__(self, free_ts=False):\n",
    "        self.nrn = None\n",
    "        self.free_ts = free_ts\n",
    "\n",
    "    def dim(self):\n",
    "        return 6 if self.free_ts else 4\n",
    "\n",
    "    def set(self, theta):\n",
    "        a, b, c, w = theta[:4]\n",
    "        self.nrn = cn.augmat(a, b, c, w)\n",
    "        self.nrn.R = 1\n",
    "        self.nrn.tm = 1\n",
    "\n",
    "        if self.free_ts:\n",
    "            t1, t2 = theta[4:]\n",
    "            self.nrn.t1 = t1\n",
    "            self.nrn.t2 = t2\n",
    "\n",
    "    def run(self, iapp):\n",
    "        self.nrn.apply_current(iapp, 1)\n",
    "        return self.nrn.simulate(len(iapp), 1)\n",
    "\n",
    "# combining the strf and mat models\n",
    "class dstrf():\n",
    "    def __init__(self,channels=1,nspec=15,tlen=30,ncos=10,coslin=1,upsample=1,\n",
    "                 scale=1,free_ts=False,normalize=False,center=False,noise=None):\n",
    "        self.mat = mat(free_ts=free_ts)\n",
    "        self.pstrf = cosstrf(channels,nspec,tlen,ncos,coslin)\n",
    "        self.upsample = upsample\n",
    "        self.scale = scale\n",
    "        self.free_ts = free_ts\n",
    "        self.norm = normalize\n",
    "        self.center = center\n",
    "        self.channels = channels\n",
    "        self.nspec = nspec\n",
    "        self.tlen = tlen\n",
    "        self.ncos = ncos\n",
    "        self.noise = noise\n",
    "                \n",
    "    def dim(self):\n",
    "        return self.channels*(self.nspec+self.ncos) + ( 6 if self.free_ts else 4 )\n",
    "     \n",
    "    def set(self, theta):\n",
    "        cut = -6 if self.free_ts else -4\n",
    "        self.pstrf.set(theta[:cut])\n",
    "        self.mat.set(theta[cut:])\n",
    "        self.mat.nrn.R = 1\n",
    "        self.mat.nrn.tm = 1\n",
    "        \n",
    "    def run(self, stim):\n",
    "        r = self.pstrf.run(stim)\n",
    "        if noise is not None: r += np.random.randn(len(r))*noise\n",
    "        if self.norm: r = nfutils.normalize(r,center=self.center)\n",
    "        r = resample(r,len(r)*self.upsample)*self.scale\n",
    "        return self.mat.run(r)"
   ]
  },
  {
   "cell_type": "markdown",
   "metadata": {},
   "source": [
    "## Simulating data for the twin experiment\n",
    "\n",
    "### Building the STRF"
   ]
  },
  {
   "cell_type": "code",
   "execution_count": 167,
   "metadata": {},
   "outputs": [
    {
     "data": {
      "image/png": "[encoded data removed]",
      "text/plain": [
       "<matplotlib.figure.Figure at 0x7f49dc3bf650>"
      ]
     },
     "metadata": {},
     "output_type": "display_data"
    },
    {
     "data": {
      "image/png": "[encoded data removed]",
      "text/plain": [
       "<matplotlib.figure.Figure at 0x7f49dc48fd50>"
      ]
     },
     "metadata": {},
     "output_type": "display_data"
    }
   ],
   "source": [
    "#Construct the filter\n",
    "sres = nspec - 1 #resolution of the filter in pixels\n",
    "tres = tlen      #time window of the filter in ms\n",
    "maxfreq = 8000   #maximum frequency of the signal\n",
    "latency = 75     #offset between stimulus and response in ms (range: 0 to time)\n",
    "frequency = 4000 #centering frequency for the filter\n",
    "A = 0.25         #amplitude of the wavelet peak -- probably don't need to change this\n",
    "sigma = 0.01     #width of the filter in the time axis -- bigger sigma = narrower time band\n",
    "gamma = 0.0015   #width of the filter in the frequency axis -- bigger gamma = narrower frequency band\n",
    "alpha = 1        #depth of inhibitory sidebands on time axis -- bigger alpha = deeper sidebands\n",
    "beta = 1         #depth of inhibitory sidebands on frequency axis -- bigger beta = deeper sidebands\n",
    "\n",
    "#ss.strf returns three arguments: h is the strf, t and f are correctly labeled axes for plotting\n",
    "k, t, f = utils.strf(sres,150,maxfreq,latency,frequency,A,sigma,gamma,alpha,beta)\n",
    "\n",
    "k = resample(k,tres,axis=1)\n",
    "\n",
    "figure()\n",
    "sns.heatmap(k,linewidths = 0)\n",
    "\n",
    "figure()\n",
    "B = np.sum(k,axis=1)\n",
    "A = np.sum(k,axis=0)\n",
    "subplot(211)\n",
    "plot(A)\n",
    "subplot(212)\n",
    "plot(B)\n",
    "\n",
    "# create cosine basis for time dimension\n",
    "spec,tim = utils.factorize(k)\n",
    "tbas, fromt, tot = utils.cosbasis(tlen,ncos,coslin,retfn=True)\n",
    "costim = tot(tim)\n",
    " \n",
    "# set MAT model parameters\n",
    "matparam  = [10,2,0,8]"
   ]
  },
  {
   "cell_type": "markdown",
   "metadata": {},
   "source": [
    "### Generating noisy data"
   ]
  },
  {
   "cell_type": "code",
   "execution_count": 168,
   "metadata": {},
   "outputs": [
    {
     "name": "stdout",
     "output_type": "stream",
     "text": [
      "EO: 0.72\n"
     ]
    }
   ],
   "source": [
    "# data settings\n",
    "ntrials = 5\n",
    "noise = 2\n",
    "dataparam = np.hstack((spec[0],costim[0],matparam))\n",
    "M = dstrf(1,nspec,tlen,ncos,coslin,t_dsample,scale=scale,noise=noise,normalize=norm,center=center)\n",
    "M.set(dataparam)\n",
    "\n",
    "# generate the data\n",
    "spikes_data = []\n",
    "spiky_data = []\n",
    "binary_data = []\n",
    "model_data   = []\n",
    "for s,dur in zip(stims,durations):\n",
    "    dsdur = int(dur/t_dsample)\n",
    "    sr = []\n",
    "    sspk = []\n",
    "    s0 = []\n",
    "    sspiky = []\n",
    "    for n in range(ntrials):\n",
    "        z = np.zeros(dur,dtype=int)\n",
    "        r,spikes = M.run(s)\n",
    "        z[spikes] = 1\n",
    "        sr.append(r)\n",
    "        sspk.append(spikes)\n",
    "        sspiky.append(pyspk.SpikeTrain(spikes,[0,dur]))\n",
    "        s0.append(z)\n",
    "    model_data.append(sr)\n",
    "    spikes_data.append(sspk)\n",
    "    spiky_data.append(sspiky)\n",
    "    binary_data.append(s0)\n",
    "psth_data = [utils.psth(spk,dur,t_dsample,dsample=t_dsample) for spk,st,dur in zip(spikes_data,stims,durations)]\n",
    "\n",
    "# separate the simulation and validation sets\n",
    "assim_psth, test_psth = np.split(psth_data,[num_assim_stims])\n",
    "assim_spikes, test_spikes = np.split(spikes_data,[num_assim_stims])\n",
    "assim_spiky, test_spiky = np.split(spiky_data,[num_assim_stims])\n",
    "assim_stims, test_stims = stims[:num_assim_stims], stims[num_assim_stims:]\n",
    "assim_dur, test_dur = np.split(durations,[num_assim_stims])\n",
    "\n",
    "# calculate correlation between even and odd trial psths\n",
    "eocorr = [utils.evenoddcorr(spks,dur,dsample=t_dsample,smooth=psth_smooth) for spks,dur in zip(spikes_data,durations)]\n",
    "print(\"EO: {:.2f}\".format(np.mean(eocorr)))"
   ]
  },
  {
   "cell_type": "code",
   "execution_count": 169,
   "metadata": {},
   "outputs": [
    {
     "data": {
      "text/plain": [
       "[<matplotlib.lines.Line2D at 0x7f49dc138750>,\n",
       " <matplotlib.lines.Line2D at 0x7f49dc138910>]"
      ]
     },
     "execution_count": 169,
     "metadata": {},
     "output_type": "execute_result"
    },
    {
     "data": {
      "image/png": "[encoded data removed]",
      "text/plain": [
       "<matplotlib.figure.Figure at 0x7f49dc4a2610>"
      ]
     },
     "metadata": {},
     "output_type": "display_data"
    }
   ],
   "source": [
    "plot(model_data[0][0])"
   ]
  },
  {
   "cell_type": "markdown",
   "metadata": {},
   "source": [
    "## Getting initial guess for STRF"
   ]
  },
  {
   "cell_type": "code",
   "execution_count": 170,
   "metadata": {
    "collapsed": true
   },
   "outputs": [],
   "source": [
    "# estimate STRF using elastic net regression\n",
    "fit_psth = [p*1000 for p in assim_psth]\n",
    "#fit_psth = [normalize(p,False) for p in assim_psth]\n",
    "\n",
    "STRF_GUESS, B_GUESS = utils.get_strf(assim_stims,fit_psth,tlen,fit_intercept=False)\n",
    "SPEC,TIM = utils.factorize(STRF_GUESS,1)\n",
    "\n",
    "# create initial paramter vector from estimated strf\n",
    "filt_start = np.hstack((SPEC,tot(TIM))).flatten()"
   ]
  },
  {
   "cell_type": "code",
   "execution_count": 171,
   "metadata": {},
   "outputs": [
    {
     "name": "stdout",
     "output_type": "stream",
     "text": [
      "0.564334508039\n"
     ]
    },
    {
     "data": {
      "image/png": "[encoded data removed]",
      "text/plain": [
       "<matplotlib.figure.Figure at 0x7f49dc17a090>"
      ]
     },
     "metadata": {},
     "output_type": "display_data"
    }
   ],
   "source": [
    "# plot true and estimated strf\n",
    "subplot(211)\n",
    "sns.heatmap(M.pstrf.filt)\n",
    "\n",
    "subplot(212)\n",
    "strf_model = cosstrf(channels,nspec,tlen,ncos,coslin,normalize=norm,center=center)\n",
    "strf_model.set(filt_start)\n",
    "sns.heatmap(strf_model.filt)\n",
    "\n",
    "print(utils.evaluate(strf_model.filt,test_stims,test_psth))"
   ]
  },
  {
   "cell_type": "markdown",
   "metadata": {},
   "source": [
    "## Define loss and prior functions"
   ]
  },
  {
   "cell_type": "code",
   "execution_count": 172,
   "metadata": {
    "collapsed": true
   },
   "outputs": [],
   "source": [
    "from neurofit import priors\n",
    "from neurofit import costs\n",
    "\n",
    "def spike_distance(predict,data):\n",
    "    trace, spikes = predict\n",
    "    spiky = pyspk.SpikeTrain(spikes,[0,data[0].t_end])\n",
    "    dist = 1000*np.mean([pyspk.spike_distance(spiky,trial) for trial in data])\n",
    "    return dist\n",
    "\n",
    "mat_prior = priors.joint_independent(\n",
    "                [ nf.priors.uniform(-1000,  1000),\n",
    "                  nf.priors.uniform( -100,   100),\n",
    "                  nf.priors.uniform( -100,   100),\n",
    "                  nf.priors.uniform( -1000,  1000)])\n",
    "\n",
    "cost = spike_distance\n",
    "unbounded = priors.unbounded()\n",
    "\n",
    "def dstrf_shrink_prior(theta):\n",
    "    return np.sum(np.abs(start[:-4])) + mat_prior(start[-4:])"
   ]
  },
  {
   "cell_type": "markdown",
   "metadata": {},
   "source": [
    "## Run initial MAT parameter fit"
   ]
  },
  {
   "cell_type": "code",
   "execution_count": 173,
   "metadata": {},
   "outputs": [
    {
     "name": "stdout",
     "output_type": "stream",
     "text": [
      "  step      lnprob        time         ETA\n",
      "------------------------------------------\n",
      "   100     -2187.8     0:01:26     0:13:11\n",
      "   200     -1968.6     0:02:52     0:11:32\n",
      "   300     -1895.7     0:04:18     0:10:04\n",
      "   400     -1846.2     0:05:45     0:08:39\n",
      "   500     -1804.8     0:07:09     0:07:10\n",
      "   600     -1792.7     0:08:34     0:05:44\n",
      "   700     -1787.1     0:10:00     0:04:18\n",
      "   800     -1764.8     0:11:25     0:02:52\n",
      "   900     -1749.4     0:12:50     0:01:26\n",
      "  1000       -1745     0:14:15     0:00:00\n",
      "  1001       -1745     0:14:16     0:00:00\n"
     ]
    }
   ],
   "source": [
    "from neurofit import startpos\n",
    "\n",
    "# get I with STRF fixed\n",
    "Iapp = []\n",
    "for s,dur in zip(stims,durations):\n",
    "    R = resample(strf_model.run(s),dur)\n",
    "    Iapp.append(R*scale)\n",
    "    \n",
    "assim_Iapp, test_Iapp = np.split(Iapp,[num_assim_stims])\n",
    "\n",
    "# initalize the mat model\n",
    "mat_model = mat(free_ts=free_ts)\n",
    "\n",
    "# generate starting positions of emcee walkers\n",
    "p0 = startpos.uniform_independent(nwalkers,[-100,-10,-10,-10],[100,10,10,10])\n",
    "#p0 = startpos.normal_independent(nwalkers,[5,0,0,1],[0.1]*4)\n",
    "#p0 = startpos.normal_independent(nwalkers,matparam,[0.1]*4)\n",
    "\n",
    "# run emcee\n",
    "mat_smplr = nf.sampler(mat_model,mat_prior,cost,nwalkers,zip(assim_Iapp,assim_spiky),8)\n",
    "\n",
    "for pos,_,_ in tracker(mat_smplr.sample(p0,iterations=burn)): continue\n",
    "mat_smplr.reset()\n",
    "mat_smplr.run_mcmc(pos,1);"
   ]
  },
  {
   "cell_type": "code",
   "execution_count": null,
   "metadata": {},
   "outputs": [
    {
     "name": "stdout",
     "output_type": "stream",
     "text": [
      "Filt R: 0.592, MAT R: 0.562\n"
     ]
    }
   ],
   "source": [
    "# check the performance of the fit mat model\n",
    "mml = mat_smplr.flatchain[np.argmax(mat_smplr.flatlnprobability)]\n",
    "mat_map = mat()\n",
    "mat_map.set(mml)\n",
    "mat_corr = []\n",
    "\n",
    "param_corr = utils.evaluate(STRF_GUESS,test_stims,test_psth)\n",
    "\n",
    "for i,p,d in zip(test_Iapp,test_psth,test_dur):\n",
    "    trace,spikes = mat_map.run(i)\n",
    "    mat_psth = utils.psth_spiky(pyspk.SpikeTrain(spikes,[0,d]),binres=1,smooth=psth_smooth,dsample=t_dsample)\n",
    "    mat_corr.append(np.corrcoef(p,mat_psth)[0][1])\n",
    "        \n",
    "start = np.hstack((filt_start,mml))\n",
    "print(\"Filt R: {:.3f}, MAT R: {:.3f}\".format(param_corr,np.mean(mat_corr)))"
   ]
  },
  {
   "cell_type": "markdown",
   "metadata": {},
   "source": [
    "## Fit dSTRF model using emcee"
   ]
  },
  {
   "cell_type": "code",
   "execution_count": null,
   "metadata": {},
   "outputs": [
    {
     "name": "stdout",
     "output_type": "stream",
     "text": [
      "  step      lnprob        time         ETA\n",
      "------------------------------------------\n",
      "   100     -1502.2     0:05:06     0:46:28\n",
      "   200     -1097.2     0:10:08     0:40:48\n"
     ]
    }
   ],
   "source": [
    "# initalize the model\n",
    "model = dstrf(1,nspec,tlen,ncos,coslin,t_dsample,scale=scale,normalize=norm,center=center)\n",
    "\n",
    "# set starting positions for walkers\n",
    "p0 = startpos.normal_independent(nwalkers-1,start,[1e-4]*len(start))\n",
    "p0 = np.vstack((start,p0))\n",
    "\n",
    "# run emcee\n",
    "dstrf_smplr = nf.sampler(model,dstrf_shrink_prior,spike_distance,nwalkers,zip(assim_stims,assim_spiky),8)\n",
    "for pos,_,_ in tracker(dstrf_smplr.sample(p0,iterations=burn)): continue\n",
    "dstrf_smplr.reset()\n",
    "dstrf_smplr.run_mcmc(pos,1);"
   ]
  },
  {
   "cell_type": "markdown",
   "metadata": {},
   "source": [
    "## Evaluate the model fit"
   ]
  },
  {
   "cell_type": "code",
   "execution_count": null,
   "metadata": {
    "collapsed": true
   },
   "outputs": [],
   "source": [
    "# initalize model with MAP parameter estimate\n",
    "dmap = dstrf_smplr.flatchain[np.argmax(dstrf_smplr.flatlnprobability)]\n",
    "model.set(dmap)\n",
    "\n",
    "figure(figsize=(4,4))\n",
    "# compare true and estimated STRFs\n",
    "subplot(211)\n",
    "sns.heatmap(M.pstrf.filt,cbar=False)\n",
    "\n",
    "subplot(212)\n",
    "sns.heatmap(model.pstrf.filt,cbar = False)\n",
    "tight_layout()"
   ]
  },
  {
   "cell_type": "code",
   "execution_count": null,
   "metadata": {
    "collapsed": true
   },
   "outputs": [],
   "source": [
    "map_corr = utils.dstrf_sample_validate(model,dmap,test_stims,test_psth,test_spiky,t_dsample,psth_smooth,plt=True,figsize=(4,1))\n",
    "ppcorr = utils.posterior_predict_corr(model,test_stims,test_psth,dstrf_smplr.flatchain,t_dsample,psth_smooth)\n",
    "corr_means = np.mean([map_corr,ppcorr,eocorr[num_assim_stims:]],axis=1)\n",
    "print(\"MAP: {:.2f}, Dist: {:.2f}, EO: {:.2f}\".format(corr_means[0],corr_means[1],corr_means[2]))\n",
    "print(\"MAP/EO: {:.2f}, Dist/EO: {:.2f}\".format(corr_means[0]/corr_means[2],corr_means[1]/corr_means[2]))"
   ]
  },
  {
   "cell_type": "code",
   "execution_count": null,
   "metadata": {
    "collapsed": true,
    "scrolled": false
   },
   "outputs": [],
   "source": [
    "from corner import corner\n",
    "\n",
    "matlabs = ['a','b','c','w']\n",
    "corner(dstrf_smplr.flatchain[:,-4:],\n",
    "       range=[[-100,100],\n",
    "              [-10,10],\n",
    "              [-10,10],\n",
    "              [-100,100]],\n",
    "       bins=50, smooth=2,mooth1d=5,\n",
    "       labels=matlabs,\n",
    "       truths=matparam);"
   ]
  }
 ],
 "metadata": {
  "kernelspec": {
   "display_name": "Python 2",
   "language": "python",
   "name": "python2"
  }
 },
 "nbformat": 4,
 "nbformat_minor": 1
}
