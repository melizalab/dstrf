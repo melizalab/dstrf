{
 "cells": [
  {
   "cell_type": "code",
   "execution_count": null,
   "metadata": {},
   "outputs": [],
   "source": [
    "import csv\n",
    "import numpy as np\n",
    "import matplotlib.pyplot as plt\n",
    "import os\n",
    "import pandas as pd\n",
    "import seaborn as sns\n",
    "import scipy as sp\n",
    "import matplotlib.gridspec as gridspec\n",
    "import corner\n",
    "import matplotlib.gridspec as grid\n",
    "from matplotlib.backends.backend_pdf import PdfPages\n",
    "from corner import corner\n",
    "sns.set_style(\"ticks\")\n",
    "\n",
    "sns.set_context(\"paper\", font_scale=0.7)\n",
    "plt.rcParams['pdf.fonttype'] = 42\n",
    "plt.rcParams['ps.fonttype'] = 42\n",
    "plt.rcParams['lines.linewidth'] = 0.5\n",
    "plt.rcParams['axes.linewidth'] = 0.5\n",
    "plt.rcParams['xtick.major.width'] = 0.5\n",
    "plt.rcParams['ytick.major.width'] = 0.5\n",
    "plt.rcParams['xtick.major.size'] = 1.5\n",
    "plt.rcParams['ytick.major.size'] = 1.5\n",
    "outdir = '/Users/christof/dstrf/output/'"
   ]
  },
  {
   "cell_type": "code",
   "execution_count": null,
   "metadata": {},
   "outputs": [],
   "source": [
    "os.chdir('/Users/christof/dstrf')"
   ]
  },
  {
   "cell_type": "code",
   "execution_count": null,
   "metadata": {},
   "outputs": [],
   "source": [
    "phasic_4 = np.load(\"resultsMCMC_4_22_23/old/phasic_4_mcmc.npz\")\n",
    "phasic_22 = np.load(\"resultsMCMC_4_22_23/old/phasic_22_mcmc.npz\")\n",
    "phasic_23 = np.load(\"resultsMCMC_4_22_23/old/phasic_23_mcmc.npz\")\n",
    "phasics = [phasic_4,phasic_22,phasic_23]\n",
    "\n",
    "tonic_4 = np.load(\"resultsMCMC_4_22_23/old/tonic_4_mcmc.npz\")\n",
    "tonic_22 = np.load(\"resultsMCMC_4_22_23/old/tonic_22_mcmc.npz\")\n",
    "tonic_23 = np.load(\"resultsMCMC_4_22_23/old/tonic_23_mcmc.npz\")\n",
    "tonics = [tonic_4,tonic_22,tonic_23]\n",
    "\n",
    "m = [phasics,tonics]\n",
    "r = [(4,12),(-1,40),(-.8,.4)]"
   ]
  },
  {
   "cell_type": "code",
   "execution_count": null,
   "metadata": {},
   "outputs": [],
   "source": []
  },
  {
   "cell_type": "code",
   "execution_count": null,
   "metadata": {},
   "outputs": [],
   "source": [
    "def rf_corner(m,r):\n",
    "    for i in np.arange(0,3):\n",
    "        est_clr = [\"darkcyan\",\"goldenrod\"]\n",
    "        matlabs = ['$\\omega$',r\"$\\alpha_1$\",r\"$\\alpha_2$\"]\n",
    "        ranges = r\n",
    "        fig, axes = plt.subplots(nrows=3, ncols=3, figsize=(7, 7))\n",
    "        for data, row in [(m[0][i], 0), (m[1][i], 1)]:\n",
    "            c = corner(data[\"samples\"][:, :3],\n",
    "                       labels=matlabs,\n",
    "                       fig=fig,\n",
    "                       range=ranges,\n",
    "                       color=est_clr[row],\n",
    "                       bins=50, \n",
    "                       smooth=1.5,\n",
    "                       smooth1d=0\n",
    "                      )\n",
    "        for ax in fig.get_axes():\n",
    "              ax.tick_params(axis='both', which='major', labelsize=4)\n",
    "        fig.legend((\"Phasic\",\"Tonic\"), framealpha = 0,loc=\"upper right\")\n",
    "\n",
    "        for ax in axes.flat:\n",
    "            ax.tick_params(labelrotation=0)\n",
    "        plt.savefig(os.path.join(outdir, \"{0}_posterior_RFs.pdf\".format(i)))\n",
    "\n",
    "        fig.set_figwidth(7)\n",
    "        fig.set_figheight(7)\n",
    "        plt.show()        \n",
    "        plt.close()"
   ]
  },
  {
   "cell_type": "code",
   "execution_count": null,
   "metadata": {},
   "outputs": [],
   "source": [
    "rf_corner(m,r)"
   ]
  },
  {
   "cell_type": "code",
   "execution_count": null,
   "metadata": {},
   "outputs": [],
   "source": [
    "def model_corner(m,r):\n",
    "    for i in np.arange(0,2):\n",
    "        est_clr = [\"darkred\",\"darkmagenta\",\"chocolate\"]\n",
    "        matlabs = ['$\\omega$',r\"$\\alpha_1$\",r\"$\\alpha_2$\"]\n",
    "        ranges = r\n",
    "        fig, axes = plt.subplots(nrows=3, ncols=3, figsize=(7, 7))\n",
    "        for data, row in [(m[i][0], 2), (m[i][1], 1),(m[i][2],0)]:\n",
    "            c = corner(data[\"samples\"][:, :3],\n",
    "                       labels=matlabs,\n",
    "                       fig=fig,\n",
    "                       range=ranges,\n",
    "                       color=est_clr[row],\n",
    "                       bins=50, \n",
    "                       smooth=1.5,\n",
    "                       smooth1d=0\n",
    "                      )\n",
    "        for ax in fig.get_axes():\n",
    "              ax.tick_params(axis='both', which='major', labelsize=4)\n",
    "        fig.legend((\"RF4\",\"RF22\",\"RF23\"), framealpha = 0,loc=\"upper right\")\n",
    "\n",
    "\n",
    "        for ax in axes.flat:\n",
    "            ax.tick_params(labelrotation=0)\n",
    "        plt.savefig(os.path.join(outdir, \"{0}_posterior_models.pdf\".format(i)))\n",
    "        fig.set_figwidth(7)\n",
    "        fig.set_figheight(7)\n",
    "        plt.show()\n",
    "\n"
   ]
  },
  {
   "cell_type": "code",
   "execution_count": null,
   "metadata": {},
   "outputs": [],
   "source": [
    "model_corner(m,r)"
   ]
  },
  {
   "cell_type": "code",
   "execution_count": null,
   "metadata": {},
   "outputs": [],
   "source": [
    "from munch import Munch\n",
    "from dstrf import spikes, strf, simulate\n",
    "import matplotlib.gridspec as grid\n",
    "import seaborn as sns"
   ]
  },
  {
   "cell_type": "code",
   "execution_count": null,
   "metadata": {},
   "outputs": [],
   "source": [
    "args = \"config/song_dynamical.yml\"\n",
    "with open(args, \"rt\") as fp:\n",
    "    cf = Munch.fromYAML(fp) #config file, song_dynamical.yml\n",
    "    \n",
    "rf_type = cf.data.filter.rf\n",
    "if(rf_type == 4):\n",
    "    est_clr = \"darkred\"\n",
    "elif(rf_type ==22):\n",
    "    est_clr = \"darkmagenta\"\n",
    "else:\n",
    "    est_clr = \"chocolate\"\n",
    "plt.figure(figsize = (7,7))\n",
    "g = grid.GridSpec(3,2,height_ratios=[1,1,1], wspace = 0.1, hspace = 0.1, top = 0.9)\n",
    "# Filter stuff\n",
    "ncos = cf.model.filter.ncos\n",
    "kcosbas = strf.cosbasis(cf.model.filter.len, ncos)\n",
    "krank = cf.model.filter.get(\"rank\", None)\n",
    "\n",
    "k1, k1t, k1f = simulate.get_filter(cf)\n",
    "\n",
    "\n",
    "\n",
    "#######\n",
    "predfile = phasic_22\n",
    "est = predfile[\"mle\"]\n",
    "estparams = est[:3]\n",
    "\n",
    "model_info = cf.data.dynamics.model\n",
    "model_type = model_info[model_info.find('/') + 1:]\n",
    "model_type = model_type[:model_type.find('.yml')]\n",
    "\n",
    "rf_type = cf.data.filter.rf\n",
    "rf_mle = strf.from_basis(strf.defactorize(est[3:], cf.data.filter.nfreq, krank), kcosbas)\n",
    "\n",
    "\n",
    "#Input and Estimaed RFs\n",
    "axes = plt.subplot(g[0,0])\n",
    "plt.imshow(k1,extent=(k1t[0], k1t[-1], k1f[0], k1f[-1]),cmap='jet',aspect='auto')\n",
    "plt.xticks([])\n",
    "plt.yticks([])\n",
    "    \n",
    "\n",
    "axes = plt.subplot(g[0,1])\n",
    "plt.imshow(rf_mle,extent=(k1t[0], k1t[-1], k1f[0], k1f[-1]), cmap='jet', aspect='auto')\n",
    "plt.xticks([])\n",
    "plt.yticks([])\n",
    "\n",
    "#Dan file stuff\n",
    "data = np.load(os.path.join(base_dir, \"phasic_22_pred.npz\"))\n",
    "V = data[\"V\"]\n",
    "stim = data[\"stim\"].squeeze()\n",
    "tspk = data[\"spike_v\"]\n",
    "pspk = data[\"pspike_v\"]\n",
    "ntrials = min(tspk.shape[1], 10)\n",
    "\n",
    "upsample = int(cf.data.dt / cf.model.dt)\n",
    "test_psth = spikes.psth(tspk, upsample, 1)\n",
    "pred_psth = spikes.psth(pspk, upsample, 1)\n",
    "t_psth = np.linspace(0, data[\"duration\"], test_psth.size)\n",
    "\n",
    "#Raster\n",
    "axes = plt.subplot(g[1,:])\n",
    "# axes 2: rasters\n",
    "for i in range(ntrials):\n",
    "    spk_t = np.nonzero(tspk[:, i])[0] * cf.model.dt - 1000\n",
    "    plt.vlines(spk_t, i - 0.4 + ntrials, i + 0.4 + ntrials)\n",
    "for i in range(ntrials):\n",
    "    spk_t = np.nonzero(pspk[:, i])[0] * cf.model.dt - 1000\n",
    "    plt.vlines(spk_t, i - 0.4, i + 0.4, color=est_clr[0])\n",
    "\n",
    "axes.set_xlim(1000, 3000);\n",
    "\n",
    "\n",
    "# PSTHs\n",
    "axes = plt.subplot(g[2,:])\n",
    "plt.plot(t_psth, test_psth, linewidth=1, color='k', label=\"data\")\n",
    "plt.plot(t_psth, pred_psth, linewidth=1, color=est_clr[0], label=\"data\")\n",
    "axes.set_xlim(1000,3000)\n",
    "\n",
    "\n",
    "#plt.savefig(os.path.join(outdir, \"univariate_{}_example.pdf\".format(name)))"
   ]
  },
  {
   "cell_type": "code",
   "execution_count": null,
   "metadata": {},
   "outputs": [],
   "source": []
  },
  {
   "cell_type": "code",
   "execution_count": null,
   "metadata": {},
   "outputs": [],
   "source": [
    "\n"
   ]
  },
  {
   "cell_type": "code",
   "execution_count": null,
   "metadata": {},
   "outputs": [],
   "source": [
    "data = np.load('/Users/christof/dstrf/resultsMCMC_4_22_23/phasic_4_pred.npz')\n",
    "data.allow_pickle=True\n",
    "keys = np.array(list(data.keys()))\n",
    "keys"
   ]
  },
  {
   "cell_type": "code",
   "execution_count": null,
   "metadata": {},
   "outputs": [],
   "source": [
    "data = np.load('/Users/christof/dstrf/resultsMCMC_4_22_23/old/phasic_4_mcmc.npz')\n",
    "data.allow_pickle=True\n",
    "keys = np.array(list(data.keys()))\n",
    "keys"
   ]
  },
  {
   "cell_type": "code",
   "execution_count": null,
   "metadata": {},
   "outputs": [],
   "source": [
    "data = np.load('/Users/christof/dstrf/results/phasic_4_samples.npz')\n",
    "data.allow_pickle=True\n",
    "keys = np.array(list(data.keys()))\n",
    "keys"
   ]
  },
  {
   "cell_type": "code",
   "execution_count": null,
   "metadata": {},
   "outputs": [],
   "source": [
    "data = np.load('/Users/christof/dstrf/results/phasic_4_predict.npz')\n",
    "data.allow_pickle=True\n",
    "keys = np.array(list(data.keys()))\n",
    "keys"
   ]
  },
  {
   "cell_type": "code",
   "execution_count": null,
   "metadata": {},
   "outputs": [],
   "source": [
    "keys"
   ]
  },
  {
   "cell_type": "code",
   "execution_count": null,
   "metadata": {},
   "outputs": [],
   "source": [
    "data = np.load(\"results/phasic_22_predict.npz\")\n",
    "data.allow_pickle=True\n",
    "keys = np.array(list(phasic_4.keys()))\n",
    "keys"
   ]
  },
  {
   "cell_type": "code",
   "execution_count": null,
   "metadata": {},
   "outputs": [],
   "source": []
  }
 ],
 "metadata": {
  "kernelspec": {
   "display_name": "Python 3",
   "language": "python",
   "name": "python3"
  },
  "language_info": {
   "codemirror_mode": {
    "name": "ipython",
    "version": 3
   },
   "file_extension": ".py",
   "mimetype": "text/x-python",
   "name": "python",
   "nbconvert_exporter": "python",
   "pygments_lexer": "ipython3",
   "version": "3.7.3"
  }
 },
 "nbformat": 4,
 "nbformat_minor": 2
}
