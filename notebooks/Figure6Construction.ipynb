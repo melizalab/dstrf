{
 "cells": [
  {
   "cell_type": "code",
   "execution_count": null,
   "metadata": {},
   "outputs": [],
   "source": [
    "import csv\n",
    "import numpy as np\n",
    "import matplotlib.pyplot as plt\n",
    "import os\n",
    "import pandas as pd\n",
    "import seaborn as sns\n",
    "import matplotlib.gridspec as gridspec\n",
    "import corner\n",
    "from matplotlib.backends.backend_pdf import PdfPages\n",
    "outdir = '/Users/christof/dstrf/output/'\n",
    "sns.set_context(\"paper\", font_scale=0.7)\n",
    "plt.rcParams['pdf.fonttype'] = 42\n",
    "plt.rcParams['ps.fonttype'] = 42\n",
    "plt.rcParams['lines.linewidth'] = 0.5\n",
    "plt.rcParams['axes.linewidth'] = 0.5\n",
    "plt.rcParams['xtick.major.width'] = 0.5\n",
    "plt.rcParams['ytick.major.width'] = 0.5\n",
    "plt.rcParams['xtick.major.size'] = 1.5\n",
    "plt.rcParams['ytick.major.size'] = 1.5\n",
    "plt.rcParams[\"figure.figsize\"] = (3.5, 6.5)\n",
    "est_clr = [\"#148B8B\", \"#D9A522\"]"
   ]
  },
  {
   "cell_type": "code",
   "execution_count": null,
   "metadata": {},
   "outputs": [],
   "source": [
    "os.chdir('/Users/christof/dstrf/TimePeakDistortionFigures')\n",
    "timedistort = pd.read_csv('TimePeak.csv',header=None)\n",
    "filters = pd.read_csv('../config/hg_filters.csv')"
   ]
  },
  {
   "cell_type": "code",
   "execution_count": null,
   "metadata": {},
   "outputs": [],
   "source": [
    "timedistort = timedistort.rename(columns={0:\"True_Max_Freq\",\n",
    "                            1:\"Expected_Max_Freq\",\n",
    "                            2:\"Estimated_Max_Freq\",\n",
    "                            3:\"True_Pwr_Diff\",\n",
    "                            4:\"Expected_Pwr_Diff\",\n",
    "                            5:\"Estimated_Pwr_Diff\",\n",
    "                            6:\"True_Bandpass\",\n",
    "                            7:\"Expected_Bandpass\",\n",
    "                            8:\"Estimated_Bandpass\",\n",
    "                            9:\"RF\",\n",
    "                            10:\"Model\"})\n",
    "\n",
    "timedistort = pd.merge(timedistort,filters,on = 'RF')"
   ]
  },
  {
   "cell_type": "code",
   "execution_count": null,
   "metadata": {},
   "outputs": [],
   "source": [
    "timedistort[\"delta_l\"] = timedistort['True_Bandpass']-timedistort['Estimated_Bandpass']\n",
    "data = timedistort[[\"Model\",\"RF\",\"Pt\",\"delta_l\"]]\n",
    "data[\"pt\"] = data[\"Pt\"]\n",
    "offset = -0.2\n",
    "for i in range(len(data[\"Pt\"])):\n",
    "        if data[\"Model\"][i] == \"phasic\":\n",
    "            data[\"pt\"][i] = data[\"Pt\"][i]-offset\n",
    "        else:\n",
    "            data[\"pt\"][i] = data[\"Pt\"][i]+offset"
   ]
  },
  {
   "cell_type": "code",
   "execution_count": null,
   "metadata": {},
   "outputs": [],
   "source": [
    "#Seperates by Model\n",
    "phasic = data[\"Model\"] == \"phasic\"\n",
    "tonic = data[\"Model\"] == \"tonic\"\n",
    "\n",
    "#Seperates the types by rotation parameter\n",
    "\n",
    "phasic_0 = (data[\"Model\"]==\"phasic\")&(data[\"Pt\"]==0)\n",
    "phasic_pi2 = (data[\"Model\"]==\"phasic\")&(data[\"Pt\"]!=0)\n",
    "\n",
    "tonic_0 = (data[\"Model\"]==\"tonic\")&(data[\"Pt\"]==0)\n",
    "tonic_pi2 = (data[\"Model\"]==\"tonic\")&(data[\"Pt\"]!=0)\n",
    "\n",
    "#Gets the mean of Exp-Est_freq by phi parameter\n",
    "\n",
    "ph_0 = np.mean(data[phasic_0][\"delta_l\"])\n",
    "ph_pi2 = np.mean(data[phasic_pi2][\"delta_l\"])\n",
    "\n",
    "tc_0 = np.mean(data[tonic_0][\"delta_l\"])\n",
    "tc_pi2 = np.mean(data[tonic_pi2][\"delta_l\"])"
   ]
  },
  {
   "cell_type": "code",
   "execution_count": null,
   "metadata": {},
   "outputs": [],
   "source": [
    "plt.close()\n",
    "fig, ax = plt.subplots()\n",
    "ax.set(xlabel='Temporal Tuning',ylabel='$\\Delta l$')\n",
    "\n",
    "#Plot phasic delta_l and means\n",
    "ax.scatter(data[:][\"Pt\"][phasic]-offset,data[:][\"delta_l\"][phasic],alpha=0.5,label=\"phasic\",color=est_clr[0])\n",
    "#ax.plot([-offset,(np.pi/2)-offset],[ph_0,ph_pi2],linestyle=\"--\",dashes=(5,5),linewidth = 2,color=est_clr[0])\n",
    "ax.plot([-offset], [ph_0], marker='o', markersize=10, color=est_clr[0],alpha = 0.5)\n",
    "ax.plot([-offset], [ph_0], marker='.', markersize=5, color=\"black\")\n",
    "ax.plot([(np.pi/2)-offset], [ph_pi2], marker='o', markersize=10, color=est_clr[0],alpha = 0.5)\n",
    "ax.plot([(np.pi/2)-offset], [ph_pi2], marker='.', markersize=5, color=\"black\")\n",
    "\n",
    "#Plot tonic delta_l and means\n",
    "ax.scatter(data[:][\"Pt\"][tonic]+offset,data[:][\"delta_l\"][tonic],alpha=0.5,label=\"tonic\",color=est_clr[1])\n",
    "#ax.plot([offset,(np.pi/2)+offset],[tc_0,tc_pi2],linestyle=\"--\",dashes=(5,5),linewidth = 2, color=est_clr[1])\n",
    "ax.plot([offset], [tc_0], marker='o', markersize=10, color=est_clr[1],alpha = 0.5)\n",
    "ax.plot([offset], [tc_0], marker='.', markersize=5, color=\"black\")\n",
    "ax.plot([(np.pi/2)+offset], [tc_pi2], marker='o', markersize=10, color=est_clr[1],alpha = 0.5)\n",
    "ax.plot([(np.pi/2)+offset], [tc_pi2], marker='.', markersize=5, color=\"black\")\n",
    "\n",
    "#Means by phase\n",
    "ax.plot([offset,-offset],[tc_0,ph_0],\n",
    "        linestyle = \"--\",dashes = (3,4),linewidth = 2, color = \"black\", alpha = 0.7)\n",
    "        \n",
    "ax.plot([(np.pi/2)+offset,(np.pi/2)-offset],[tc_pi2,ph_pi2],\n",
    "        linestyle = \"--\",dashes = (3,4),linewidth = 2, color = \"black\", alpha = 0.7)\n",
    "#Plot repeated measures data\n",
    "for i in range(59):\n",
    "    x1,x2 = data.loc[data[\"RF\"]==i+1][\"pt\"]\n",
    "    y1,y2 = data.loc[data[\"RF\"]==i+1][\"delta_l\"]\n",
    "    ax.plot([x1,x2],[y1,y2],linestyle=\"--\",dashes=(5,5),color=\"black\",alpha=0.4)\n",
    "\n",
    "#Figure Params\n",
    "plt.legend(loc=\"upper right\")\n",
    "ax.set_xlim([2*offset,(np.pi/2)-2*offset])\n",
    "plt.setp(ax, xticks=[0,np.pi/2], xticklabels=['WB','BP'])\n",
    "fig.set_figwidth(6.5)\n",
    "fig.set_figheight(6.5)\n",
    "plt.savefig(os.path.join(outdir, \"delta_l.pdf\"))"
   ]
  },
  {
   "cell_type": "code",
   "execution_count": null,
   "metadata": {},
   "outputs": [],
   "source": []
  },
  {
   "cell_type": "code",
   "execution_count": null,
   "metadata": {},
   "outputs": [],
   "source": []
  },
  {
   "cell_type": "code",
   "execution_count": null,
   "metadata": {},
   "outputs": [],
   "source": []
  },
  {
   "cell_type": "code",
   "execution_count": null,
   "metadata": {},
   "outputs": [],
   "source": []
  }
 ],
 "metadata": {
  "kernelspec": {
   "display_name": "Python 3",
   "language": "python",
   "name": "python3"
  },
  "language_info": {
   "codemirror_mode": {
    "name": "ipython",
    "version": 3
   },
   "file_extension": ".py",
   "mimetype": "text/x-python",
   "name": "python",
   "nbconvert_exporter": "python",
   "pygments_lexer": "ipython3",
   "version": "3.7.3"
  }
 },
 "nbformat": 4,
 "nbformat_minor": 2
}
