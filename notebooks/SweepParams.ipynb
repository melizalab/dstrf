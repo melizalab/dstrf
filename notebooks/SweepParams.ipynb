{
 "cells": [
  {
   "cell_type": "code",
   "execution_count": null,
   "metadata": {},
   "outputs": [],
   "source": [
    "import csv\n",
    "import numpy as np\n",
    "import matplotlib.pyplot as plt\n",
    "import os\n",
    "import pandas as pd\n",
    "import seaborn as sns\n",
    "import matplotlib.gridspec as gridspec\n",
    "import corner\n",
    "import scipy as sp\n",
    "sns.set_style(\"ticks\")\n",
    "\n",
    "sns.set_context(\"paper\", font_scale=0.7)\n",
    "plt.rcParams['pdf.fonttype'] = 42\n",
    "plt.rcParams['ps.fonttype'] = 42\n",
    "plt.rcParams['lines.linewidth'] = 0.5\n",
    "plt.rcParams['axes.linewidth'] = 0.5\n",
    "plt.rcParams['xtick.major.width'] = 0.5\n",
    "plt.rcParams['ytick.major.width'] = 0.5\n",
    "plt.rcParams['xtick.major.size'] = 1.5\n",
    "plt.rcParams['ytick.major.size'] = 1.5\n",
    "outdir = '/Users/christof/dstrf/output/'"
   ]
  },
  {
   "cell_type": "code",
   "execution_count": null,
   "metadata": {},
   "outputs": [],
   "source": [
    "sweep = pd.read_csv('SweepParams/songtwin_sweep_params.csv')"
   ]
  },
  {
   "cell_type": "code",
   "execution_count": null,
   "metadata": {},
   "outputs": [],
   "source": [
    "sweep_rf = pd.read_csv(\"sweep_results/TimePeak.csv\",header=None)"
   ]
  },
  {
   "cell_type": "code",
   "execution_count": null,
   "metadata": {},
   "outputs": [],
   "source": [
    "rf22 = sweep[:][\"file.rf\"] == 22\n",
    "rf23 = sweep[:][\"file.rf\"] == 23\n",
    "rf4 = sweep[:][\"file.rf\"] == 4"
   ]
  },
  {
   "cell_type": "code",
   "execution_count": null,
   "metadata": {},
   "outputs": [],
   "source": [
    "def paramplot(df):\n",
    "    params = [\"w\",\"a1\",\"a2\"]\n",
    "    fig,ax = plt.subplots(3,1,figsize = (5,15))\n",
    "    for i in np.arange(0,len(params)):\n",
    "        ax[i].plot(df[\"file.glt\"],df[params[i]],\"o\")\n",
    "        ax[i].set(xlabel=\"glt\",ylabel = params[i])\n",
    "paramplot(sweep[rf4])"
   ]
  },
  {
   "cell_type": "code",
   "execution_count": null,
   "metadata": {},
   "outputs": [],
   "source": [
    "paramplot(sweep[rf22])"
   ]
  },
  {
   "cell_type": "code",
   "execution_count": null,
   "metadata": {},
   "outputs": [],
   "source": [
    "paramplot(sweep[rf23])"
   ]
  },
  {
   "cell_type": "code",
   "execution_count": null,
   "metadata": {},
   "outputs": [],
   "source": []
  },
  {
   "cell_type": "code",
   "execution_count": null,
   "metadata": {},
   "outputs": [],
   "source": [
    "plt.plot(sweep[rf24][\"file.glt\"],sweep[rf24][\"a2\"],\"o\")"
   ]
  },
  {
   "cell_type": "code",
   "execution_count": null,
   "metadata": {},
   "outputs": [],
   "source": [
    "plt.plot(sweep[rf22][\"w\"],sweep[rf22][\"a1\"],\"o\")"
   ]
  },
  {
   "cell_type": "code",
   "execution_count": null,
   "metadata": {},
   "outputs": [],
   "source": [
    "import matplotlib.pyplot as plt\n",
    "from mpl_toolkits.mplot3d import Axes3D\n",
    "fig = plt.figure()\n",
    "ax = fig.add_subplot(111, projection='3d')\n",
    "ax.scatter(sweep[rf4][\"file.glt\"],sweep[rf4][\"w\"],sweep[rf4][\"w\"])"
   ]
  },
  {
   "cell_type": "code",
   "execution_count": null,
   "metadata": {},
   "outputs": [],
   "source": [
    "gs = gridspec.GridSpec(3, 3)\n",
    "\n",
    "#Define paramter ranges\n",
    "om_min, om_max = 3,11\n",
    "a1_min, a1_max = -10, 70\n",
    "a2_min, a2_max = -1.5,0.5\n",
    "\n",
    "\n",
    "#Omega\n",
    "ax1 = plt.subplot(gs[0, 0])\n",
    "r4[\"Omega\"].plot(kind=\"density\",color=est_clr[0])\n",
    "r22[\"Omega\"].plot(kind=\"density\",color=est_clr[1])\n",
    "rf23[\"Omega\"].plot(kind=\"density\",color=est_clr[2])\n",
    "plt.legend((\"RF 4\", \"RF 22\", \"RF 23\"), framealpha = 0, loc = \"upper right\", fontsize = \"xx-small\")\n",
    "plt.ylabel(\"$\\omega$\")\n",
    "#plt.xlim(om_min,om_max)\n",
    "plt.xticks([])\n",
    "plt.yticks([])\n",
    "\n",
    "#Alpha1\n",
    "ax2 = plt.subplot(gs[1,1])\n",
    "phasic_0[\"Alpha1\"].plot(kind=\"density\",color=est_clr[0])\n",
    "phasic_2[\"Alpha1\"].plot(kind=\"density\",color=est_clr[1])\n",
    "tonic_0[\"Alpha1\"].plot(kind=\"density\",color=est_clr[2])\n",
    "tonic_2[\"Alpha1\"].plot(kind=\"density\",color=est_clr[3])\n",
    "plt.ylabel(\"\")\n",
    "plt.xlim(a1_min,a1_max)\n",
    "sns.despine(top=True, right=True, left=True, bottom=False)\n",
    "plt.xticks([])\n",
    "plt.yticks([])\n",
    "\n",
    "#Alpha2\n",
    "ax3 = plt.subplot(gs[2,2])\n",
    "phasic_0[\"Alpha2\"].plot(kind=\"density\",color=est_clr[0])\n",
    "phasic_2[\"Alpha2\"].plot(kind=\"density\",color=est_clr[1])\n",
    "tonic_0[\"Alpha2\"].plot(kind=\"density\",color=est_clr[2])\n",
    "tonic_2[\"Alpha2\"].plot(kind=\"density\",color=est_clr[3])\n",
    "plt.xlabel(r\"$\\alpha_2$\")\n",
    "plt.ylabel(\"\")\n",
    "plt.xlim(a2_min,a2_max)\n",
    "sns.despine(top=True, right=True, left=True, bottom=False)\n",
    "plt.yticks([])\n",
    "plt.xticks([-1.5,-1,-.5,0,.5],fontsize = 6)\n",
    "\n",
    "#Omega-Alpha1\n",
    "ax4 = plt.subplot(gs[1, 0])\n",
    "\n",
    "plt.scatter(phasic_0[\"Omega\"],\n",
    "            phasic_0[\"Alpha1\"],alpha = 0.5,s = 2,color=est_clr[0])\n",
    "plt.scatter(phasic_2[\"Omega\"],\n",
    "            phasic_2[\"Alpha1\"],alpha = 0.5, s = 2,color=est_clr[1])\n",
    "plt.scatter(tonic_0[\"Omega\"],\n",
    "            tonic_0[\"Alpha1\"],alpha = 0.5,s = 2,color=est_clr[2])\n",
    "plt.scatter(tonic_2[\"Omega\"],\n",
    "            tonic_2[\"Alpha1\"],alpha = 0.5, s = 2,color=est_clr[3])\n",
    "\n",
    "sns.despine(top=True, right=True, left=True, bottom=False)\n",
    "plt.ylabel(r\"$\\alpha_1$\")\n",
    "plt.axis([om_min,om_max,a1_min,a1_max])\n",
    "plt.xticks([])\n",
    "plt.yticks([-10,10,30,50,70], fontsize = 6)\n",
    "\n",
    "#Omega-Alpha2\n",
    "ax5 = plt.subplot(gs[2, 0])\n",
    "\n",
    "plt.scatter(phasic_0[\"Omega\"],\n",
    "            phasic_0[\"Alpha2\"],alpha = 0.5,s = 2,color=est_clr[0])\n",
    "plt.scatter(phasic_2[\"Omega\"],\n",
    "            phasic_2[\"Alpha2\"],alpha = 0.5, s = 2,color=est_clr[1])\n",
    "plt.scatter(tonic_0[\"Omega\"],\n",
    "            tonic_0[\"Alpha2\"],alpha = 0.5,s = 2,color=est_clr[2])\n",
    "plt.scatter(tonic_2[\"Omega\"],\n",
    "            tonic_2[\"Alpha2\"],alpha = 0.5, s = 2,color=est_clr[3])\n",
    "\n",
    "plt.xlabel(\"$\\omega$\")\n",
    "plt.ylabel(r\"$\\alpha_2$\")\n",
    "plt.axis([om_min,om_max,a2_min,a2_max])\n",
    "plt.xticks([3,5,7,9,11], fontsize = 6)\n",
    "plt.yticks([-1.5,-1,-.5,0,.5],fontsize = 6)\n",
    "sns.despine(top=True, right=True, left=True, bottom=False)\n",
    "\n",
    "#Alpha1-Alpha2\n",
    "ax6 = plt.subplot(gs[2,1])\n",
    "\n",
    "plt.scatter(phasic_0[\"Alpha1\"],\n",
    "            phasic_0[\"Alpha2\"],alpha = 0.5,s = 2,color=est_clr[0])\n",
    "plt.scatter(phasic_2[\"Alpha1\"],\n",
    "            phasic_2[\"Alpha2\"],alpha = 0.5, s = 2,color=est_clr[1])\n",
    "plt.scatter(tonic_0[\"Alpha1\"],\n",
    "            tonic_0[\"Alpha2\"],alpha = 0.5,s = 2,color=est_clr[2])\n",
    "plt.scatter(tonic_2[\"Alpha1\"],\n",
    "            tonic_2[\"Alpha2\"],alpha = 0.5, s = 2,color=est_clr[3])\n",
    "\n",
    "sns.despine(top=True, right=True, left=True, bottom=False)\n",
    "plt.xlabel(r\"$\\alpha_1$\")\n",
    "plt.axis([a1_min,a1_max,a2_min,a2_max])\n",
    "plt.yticks([])\n",
    "plt.xticks([-10,10,30,50,70], fontsize = 6)\n",
    "plt.savefig(os.path.join(outdir, \"parameters_phi_corner.pdf\"))"
   ]
  },
  {
   "cell_type": "code",
   "execution_count": null,
   "metadata": {},
   "outputs": [],
   "source": [
    "gs = gridspec.GridSpec(3, 3)\n",
    "est_clr = [\"black\", \"#d62728\",\"#1f77b4\"]\n",
    "\n",
    "#Define paramter ranges\n",
    "om_min, om_max = 4,10\n",
    "a1_min, a1_max = 7, 30\n",
    "a2_min, a2_max = -0.7,0\n",
    "\n",
    "\n",
    "#Omega\n",
    "ax1 = plt.subplot(gs[0, 0])\n",
    "sweep[rf4][\"w\"].plot(kind=\"density\",color=est_clr[0])\n",
    "sweep[rf22][\"w\"].plot(kind=\"density\",color=est_clr[1])\n",
    "sweep[rf23][\"w\"].plot(kind=\"density\",color=est_clr[2])\n",
    "plt.legend((\"RF 4\", \"RF 22\", \"RF 23\"), framealpha = 0, loc = \"upper right\", fontsize = \"xx-small\")\n",
    "plt.ylabel(\"$\\omega$\")\n",
    "plt.xlim(om_min,om_max)\n",
    "plt.xticks([])\n",
    "plt.yticks([])\n",
    "\n",
    "#Alpha1\n",
    "ax2 = plt.subplot(gs[1,1])\n",
    "sweep[rf4][\"a1\"].plot(kind=\"density\",color=est_clr[0])\n",
    "sweep[rf22][\"a1\"].plot(kind=\"density\",color=est_clr[1])\n",
    "sweep[rf23][\"a1\"].plot(kind=\"density\",color=est_clr[2])\n",
    "plt.ylabel(\"\")\n",
    "plt.xlim(a1_min,a1_max)\n",
    "sns.despine(top=True, right=True, left=True, bottom=False)\n",
    "plt.xticks([])\n",
    "plt.yticks([])\n",
    "\n",
    "#Alpha2\n",
    "ax3 = plt.subplot(gs[2,2])\n",
    "sweep[rf4][\"a2\"].plot(kind=\"density\",color=est_clr[0])\n",
    "sweep[rf22][\"a2\"].plot(kind=\"density\",color=est_clr[1])\n",
    "sweep[rf23][\"a2\"].plot(kind=\"density\",color=est_clr[2])\n",
    "plt.xlabel(r\"$\\alpha_2$\")\n",
    "plt.ylabel(\"\")\n",
    "plt.xlim(a2_min,a2_max)\n",
    "sns.despine(top=True, right=True, left=True, bottom=False)\n",
    "plt.yticks([])\n",
    "#plt.xticks([-1.5,-1,-.5,0,.5],fontsize = 6)\n",
    "\n",
    "#Omega-Alpha1\n",
    "ax4 = plt.subplot(gs[1, 0])\n",
    "\n",
    "plt.scatter(sweep[rf4][\"w\"],\n",
    "            sweep[rf4][\"a1\"],alpha = 0.5,s = 2,color=est_clr[0])\n",
    "plt.scatter(sweep[rf22][\"w\"],\n",
    "            sweep[rf22][\"a1\"],alpha = 0.5, s = 2,color=est_clr[1])\n",
    "plt.scatter(sweep[rf23][\"w\"],\n",
    "            sweep[rf23][\"a1\"],alpha = 0.5,s = 2,color=est_clr[2])\n",
    "plt.ylabel(r\"$\\alpha_1$\")\n",
    "plt.xticks([])\n",
    "\n",
    "#Omega-Alpha2\n",
    "ax4 = plt.subplot(gs[2, 0])\n",
    "\n",
    "plt.scatter(sweep[rf4][\"w\"],\n",
    "            sweep[rf4][\"a2\"],alpha = 0.5,s = 2,color=est_clr[0])\n",
    "plt.scatter(sweep[rf22][\"w\"],\n",
    "            sweep[rf22][\"a2\"],alpha = 0.5, s = 2,color=est_clr[1])\n",
    "plt.scatter(sweep[rf23][\"w\"],\n",
    "            sweep[rf23][\"a2\"],alpha = 0.5,s = 2,color=est_clr[2])\n",
    "\n",
    "sns.despine(top=True, right=True, left=True, bottom=False)\n",
    "plt.ylabel(r\"$\\alpha_2$\")\n",
    "plt.xlabel(\"$\\omega$\")\n",
    "plt.axis([om_min,om_max,a2_min,a2_max])\n",
    "#plt.xticks([])\n",
    "#plt.yticks([-10,10,30,50,70], fontsize = 6)\n",
    "\n",
    "#Alpha1-Alpha2\n",
    "ax6 = plt.subplot(gs[2,1])\n",
    "\n",
    "plt.scatter(sweep[rf4][\"a1\"],\n",
    "            sweep[rf4][\"a2\"],alpha = 0.5,s = 2,color=est_clr[0])\n",
    "plt.scatter(sweep[rf22][\"a1\"],\n",
    "            sweep[rf22][\"a2\"],alpha = 0.5, s = 2,color=est_clr[1])\n",
    "plt.scatter(sweep[rf23][\"a1\"],\n",
    "            sweep[rf23][\"a2\"],alpha = 0.5,s = 2,color=est_clr[2])\n",
    "\n",
    "sns.despine(top=True, right=True, left=True, bottom=False)\n",
    "plt.xlabel(r\"$\\alpha_1$\")\n",
    "plt.axis([a1_min,a1_max,a2_min,a2_max])\n",
    "plt.yticks([])\n",
    "#plt.xticks([-10,10,30,50,70], fontsize = 6)\n",
    "outdir = '/Users/christof/dstrf/output/'\n",
    "plt.savefig(os.path.join(outdir, \"sweep_parameters_corner.pdf\"))"
   ]
  },
  {
   "cell_type": "code",
   "execution_count": null,
   "metadata": {},
   "outputs": [],
   "source": [
    "est_clr = [\"darkred\",\"darkmagenta\",\"chocolate\"]\n",
    "yticks = [[4,5,6,7,8,9],[5,10,15,20,25,30],[-.5,-.4,-.3,-.2,-.1,0]]\n",
    "ylims = [(3.8,9),(4,30),(-.52,0)]\n",
    "ylabels = [\"$\\omega$\",r\"$\\alpha_1$\",r\"$\\alpha_2$\"]\n",
    "def paramplot(df1,df2,df3):\n",
    "    params = [\"w\",\"a1\",\"a2\"]\n",
    "    fig,ax = plt.subplots(1,3,figsize = (15,5))\n",
    "    for i in np.arange(0,len(params)):\n",
    "        ax[i].plot(df1[\"file.glt\"],df1[params[i]],\"o\",color=est_clr[0],markersize=6,alpha=0.5)\n",
    "        ax[i].set_yticks(yticks[i])\n",
    "    for i in np.arange(0,len(params)):\n",
    "        ax[i].plot(df2[\"file.glt\"],df2[params[i]],\"o\",color=est_clr[1],markersize=6, alpha = 0.5)\n",
    "    for i in np.arange(0,len(params)):\n",
    "        ax[i].plot(df3[\"file.glt\"],df3[params[i]],\"o\",color=est_clr[2],markersize=6, alpha = 0.5)\n",
    "        ax[i].set_yticks(yticks[i])\n",
    "        ax[i].set_xlabel(\"$g_{KLT}$\")\n",
    "        ax[i].set_ylabel(ylabels[i])\n",
    "        ax[i].grid(False)\n",
    "        ax[0].legend([\"$RF_{lp}$\",\"$RF_{bp}$\",\"$RF_{wb}$\"])\n",
    "        ax[i].set_ylim(ylims[i])\n",
    "paramplot(sweep[rf4],sweep[rf22],sweep[rf23])\n",
    "plt.savefig(\"SweepParams.pdf\")"
   ]
  },
  {
   "cell_type": "code",
   "execution_count": null,
   "metadata": {},
   "outputs": [],
   "source": []
  },
  {
   "cell_type": "code",
   "execution_count": null,
   "metadata": {},
   "outputs": [],
   "source": []
  },
  {
   "cell_type": "code",
   "execution_count": null,
   "metadata": {},
   "outputs": [],
   "source": [
    "fig,ax = plt.subplots(1,3,figsize = (15,5))\n",
    "ax[0].plot(sweep[rf4][\"file.glt\"],sweep[rf4][\"cor_pred\"],\"o\",color = est_clr[0],markersize=6,alpha = 0.5)\n",
    "ax[0].plot(sweep[rf22][\"file.glt\"],sweep[rf22][\"cor_pred\"],\"o\",color = est_clr[2],markersize=6, alpha = 0.5)\n",
    "ax[0].plot(sweep[rf23][\"file.glt\"],sweep[rf23][\"cor_pred\"],\"o\",color = est_clr[1],markersize=6, alpha = 0.5)\n",
    "ax[0].set_yticks([.6,.7,.8,.9,1])\n",
    "ax[0].set_ylim([.58,1])\n",
    "ax[0].set_xlabel(\"$g_{KLT}$\")\n",
    "ax[0].grid(False)\n",
    "ax[0].set_ylabel(\"Prediction Correlation\")\n",
    "\n",
    "ax[1].plot(sweep[rf4][\"file.glt\"],sweep[rf4][\"cor_data\"],\"o\",color = est_clr[0],markersize=6,alpha = 0.5)\n",
    "ax[1].plot(sweep[rf22][\"file.glt\"],sweep[rf22][\"cor_data\"],\"o\",color = est_clr[1],markersize=6, alpha = 0.5)\n",
    "ax[1].plot(sweep[rf23][\"file.glt\"],sweep[rf23][\"cor_data\"],\"o\",color = est_clr[2],markersize=6, alpha = 0.5)\n",
    "ax[1].set_yticks([.6,.7,.8,.9,1])\n",
    "ax[1].set_ylim([.58,1])\n",
    "ax[1].set_xlabel(\"$g_{KLT}$\")\n",
    "ax[1].grid(False)\n",
    "ax[1].set_ylabel(\"Even-Odd Trial Correlation\")\n",
    "\n",
    "ax[2].plot(sweep_rf[rf4_rf][\"glt\"],\n",
    "         (sweep_rf[rf4_rf][\"True_Bandpass\"]-\n",
    "         sweep_rf[rf4_rf][\"Estimated_Bandpass\"]),\n",
    "         \"o\",color = est_clr[0],markersize=6,alpha=0.5)\n",
    "ax[2].plot(sweep_rf[rf22_rf][\"glt\"],\n",
    "         (sweep_rf[rf22_rf][\"True_Bandpass\"]-\n",
    "         sweep_rf[rf22_rf][\"Estimated_Bandpass\"]),\n",
    "         \"o\",color = est_clr[1],markersize=6,alpha=0.5)\n",
    "ax[2].plot(sweep_rf[rf23_rf][\"glt\"],\n",
    "         (sweep_rf[rf23_rf][\"True_Bandpass\"]-\n",
    "         sweep_rf[rf23_rf][\"Estimated_Bandpass\"]),\n",
    "         \"o\",color = est_clr[2],markersize=6,alpha=0.5)\n",
    "ax[2].set_xlabel(\"$g_{KLT}$\")\n",
    "ax[2].set_yticks([-0.6,-0.3,0,0.3,0.6])\n",
    "ax[2].set_ylim([-0.65,.6])\n",
    "ax[2].grid(False)\n",
    "ax[2].set_ylabel(\"Lowpass Attenuation\")\n",
    "plt.savefig(\"SweepParams_BCD.pdf\")"
   ]
  },
  {
   "cell_type": "code",
   "execution_count": null,
   "metadata": {},
   "outputs": [],
   "source": [
    "\n",
    "plt.plot(sweep[rf4][\"file.glt\"],sweep[rf4][\"cor_data\"],\"o\",color = est_clr[0],markersize=6,alpha = 0.5)\n",
    "plt.plot(sweep[rf22][\"file.glt\"],sweep[rf22][\"cor_data\"],\"o\",color = est_clr[1],markersize=6, alpha = 0.5)\n",
    "plt.plot(sweep[rf23][\"file.glt\"],sweep[rf23][\"cor_data\"],\"o\",color = est_clr[2],markersize=6, alpha = 0.5)\n",
    "plt.yticks([.7,.8,.9,1])\n",
    "plt.ylim([.68,1])\n",
    "plt.xlabel(\"$g_{KLT}$\")\n",
    "plt.grid(False)\n",
    "plt.ylabel(\"\")\n",
    "plt.savefig(\"SweepEO.pdf\")"
   ]
  },
  {
   "cell_type": "code",
   "execution_count": null,
   "metadata": {},
   "outputs": [],
   "source": [
    "plt.plot(sweep[rf4][\"file.glt\"],sweep[rf4][\"rate_mean_pred\"]-sweep[rf4][\"rate_mean_data\"],\n",
    "         \"o\",color = est_clr[0],markersize=2)\n",
    "plt.plot(sweep[rf23][\"file.glt\"],sweep[rf22][\"rate_mean_pred\"]-sweep[rf22][\"rate_mean_data\"],\n",
    "         \"o\",color = est_clr[1],markersize=2)\n",
    "plt.plot(sweep[rf22][\"file.glt\"],sweep[rf23][\"rate_mean_pred\"]-sweep[rf23][\"rate_mean_data\"],\n",
    "         \"o\",color = est_clr[2],markersize=2)\n",
    "plt.grid(False)\n",
    "plt.xlabel(\"$g_{KLT}$\")\n",
    "plt.ylabel(\"Predicted - Simulated Mean Rate\")\n",
    "#plt.title(\"Difference in Predicted and Simulated Mean Firing Rate\")\n",
    "plt.savefig(\"Experiment1MeanRateErrors.png\")"
   ]
  },
  {
   "cell_type": "code",
   "execution_count": null,
   "metadata": {},
   "outputs": [],
   "source": [
    "plt.plot(sweep[rf4][\"file.glt\"],sweep[rf4][\"rate_sd_pred\"]-sweep[rf4][\"rate_sd_data\"],\"o\")\n",
    "plt.plot(sweep[rf22][\"file.glt\"],sweep[rf22][\"rate_sd_pred\"]-sweep[rf22][\"rate_sd_data\"],\"o\")\n",
    "plt.plot(sweep[rf23][\"file.glt\"],sweep[rf23][\"rate_sd_pred\"]-sweep[rf23][\"rate_sd_data\"],\"o\")"
   ]
  },
  {
   "cell_type": "code",
   "execution_count": null,
   "metadata": {},
   "outputs": [],
   "source": [
    "(sweep[rf4][\"rate_mean_pred\"]-sweep[rf4][\"rate_mean_data\"]).plot(kind=\"density\",color = est_clr[0])\n",
    "(sweep[rf22][\"rate_mean_pred\"]-sweep[rf22][\"rate_mean_data\"]).plot(kind=\"density\",color= est_clr[1])\n",
    "(sweep[rf23][\"rate_mean_pred\"]-sweep[rf23][\"rate_mean_data\"]).plot(kind=\"density\",color= est_clr[2])"
   ]
  },
  {
   "cell_type": "code",
   "execution_count": null,
   "metadata": {},
   "outputs": [],
   "source": [
    "sp.stats.f_oneway(sweep[rf4][\"rate_mean_pred\"]-sweep[rf4][\"rate_mean_data\"],\n",
    "                 sweep[rf22][\"rate_mean_pred\"]-sweep[rf22][\"rate_mean_data\"],\n",
    "                 sweep[rf23][\"rate_mean_pred\"]-sweep[rf23][\"rate_mean_data\"])"
   ]
  },
  {
   "cell_type": "code",
   "execution_count": null,
   "metadata": {},
   "outputs": [],
   "source": [
    "sweep_rf = sweep_rf.rename(columns={0:\"True_Max_Freq\",\n",
    "                            1:\"Expected_Max_Freq\",\n",
    "                            2:\"Estimated_Max_Freq\",\n",
    "                            3:\"True_Pwr_Diff\",\n",
    "                            4:\"Expected_Pwr_Diff\",\n",
    "                            5:\"Estimated_Pwr_Diff\",\n",
    "                            6:\"True_Bandpass\",\n",
    "                            7:\"Expected_Bandpass\",\n",
    "                            8:\"Estimated_Bandpass\",\n",
    "                            9:\"RF\",\n",
    "                            10:\"glt\"})\n",
    "\n",
    "#sweep_rf = pd.merge(sweep_rf,filters,on = 'RF')"
   ]
  },
  {
   "cell_type": "code",
   "execution_count": null,
   "metadata": {},
   "outputs": [],
   "source": [
    "rf22_rf = sweep_rf[:][\"RF\"] == 22\n",
    "rf23_rf = sweep_rf[:][\"RF\"] == 23\n",
    "rf4_rf = sweep_rf[:][\"RF\"] == 4"
   ]
  },
  {
   "cell_type": "code",
   "execution_count": null,
   "metadata": {},
   "outputs": [],
   "source": [
    "est_clr = [\"darkred\",\"darkmagenta\",\"darkblue\"]\n",
    "plt.plot(sweep_rf[rf4_rf][\"glt\"],\n",
    "         (sweep_rf[rf4_rf][\"True_Bandpass\"]-\n",
    "         sweep_rf[rf4_rf][\"Estimated_Bandpass\"]),\n",
    "         \"o\",color = est_clr[0],markersize=6,alpha=0.5)\n",
    "plt.plot(sweep_rf[rf22_rf][\"glt\"],\n",
    "         (sweep_rf[rf22_rf][\"True_Bandpass\"]-\n",
    "         sweep_rf[rf22_rf][\"Estimated_Bandpass\"]),\n",
    "         \"o\",color = est_clr[1],markersize=6,alpha=0.5)\n",
    "plt.plot(sweep_rf[rf23_rf][\"glt\"],\n",
    "         (sweep_rf[rf23_rf][\"True_Bandpass\"]-\n",
    "         sweep_rf[rf23_rf][\"Estimated_Bandpass\"]),\n",
    "         \"o\",color = est_clr[2],markersize=6,alpha=0.5)\n",
    "plt.xlabel(\"$g_{KLT}$\")\n",
    "plt.yticks([-0.6,-0.3,0,0.3,0.6])\n",
    "plt.grid(False)\n",
    "plt.ylabel(\"Lowpass Attenuation\")\n",
    "plt.savefig(\"SweepAttenuation.png\")"
   ]
  },
  {
   "cell_type": "code",
   "execution_count": null,
   "metadata": {},
   "outputs": [],
   "source": [
    "test = sweep[[\"file.rf\",\"file.glt\",\"cor_pred\",\"cor_data\"]]"
   ]
  },
  {
   "cell_type": "code",
   "execution_count": null,
   "metadata": {},
   "outputs": [],
   "source": [
    "test.columns = [\"RF\",\"glt\",\"cor_pred\",\"cor_data\"]"
   ]
  },
  {
   "cell_type": "code",
   "execution_count": null,
   "metadata": {},
   "outputs": [],
   "source": [
    "Test = pd.merge(sweep_rf,test,on = ['RF','glt'])"
   ]
  },
  {
   "cell_type": "code",
   "execution_count": null,
   "metadata": {},
   "outputs": [],
   "source": [
    "Test[\"delta_l\"] = Test[\"True_Bandpass\"]-Test[\"Estimated_Bandpass\"]"
   ]
  },
  {
   "cell_type": "code",
   "execution_count": null,
   "metadata": {},
   "outputs": [],
   "source": [
    "rf4 = Test[Test[:][\"RF\"] == 4]\n",
    "rf22 = Test[Test[:][\"RF\"] == 22]\n",
    "rf23 = Test[Test[:][\"RF\"] == 23]"
   ]
  },
  {
   "cell_type": "code",
   "execution_count": null,
   "metadata": {},
   "outputs": [],
   "source": []
  },
  {
   "cell_type": "code",
   "execution_count": null,
   "metadata": {},
   "outputs": [],
   "source": [
    "est_clr = ['#377eb8', '#ff7f00', '#4daf4a']\n",
    "plt.plot(rf4[\"delta_l\"], rf4[\"cor_pred\"],\n",
    "         \"o\",color = est_clr[0],markersize=2)\n",
    "plt.plot(rf22[\"delta_l\"],rf22[\"cor_pred\"],\n",
    "         \"o\",color = est_clr[2],markersize=2)\n",
    "plt.plot(rf23[\"delta_l\"],rf23[\"cor_pred\"],\n",
    "         \"o\",color = est_clr[1],markersize=2)\n",
    "plt.xlabel(\"Lowpass Attneuation\")\n",
    "plt.grid(False)\n",
    "plt.ylabel(\"Prediction Correlation\")"
   ]
  },
  {
   "cell_type": "code",
   "execution_count": null,
   "metadata": {},
   "outputs": [],
   "source": [
    "est_clr = ['#377eb8', '#ff7f00', '#4daf4a']\n",
    "plt.plot(rf4[\"cor_data\"], rf4[\"delta_l\"],\n",
    "         \"o\",color = est_clr[0],markersize=2)\n",
    "plt.plot(rf22[\"cor_data\"],rf22[\"delta_l\"],\n",
    "         \"o\",color = est_clr[2],markersize=2)\n",
    "plt.plot(rf23[\"cor_data\"],rf23[\"delta_l\"],\n",
    "         \"o\",color = est_clr[1],markersize=2)\n",
    "plt.xlabel(\"EO Correlation\")\n",
    "plt.grid(False)\n",
    "plt.ylabel(\"Lowpass Attenuation\")"
   ]
  },
  {
   "cell_type": "code",
   "execution_count": null,
   "metadata": {},
   "outputs": [],
   "source": []
  }
 ],
 "metadata": {
  "kernelspec": {
   "display_name": "Python 3",
   "language": "python",
   "name": "python3"
  },
  "language_info": {
   "codemirror_mode": {
    "name": "ipython",
    "version": 3
   },
   "file_extension": ".py",
   "mimetype": "text/x-python",
   "name": "python",
   "nbconvert_exporter": "python",
   "pygments_lexer": "ipython3",
   "version": "3.7.3"
  }
 },
 "nbformat": 4,
 "nbformat_minor": 2
}
