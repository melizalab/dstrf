{
 "cells": [
  {
   "cell_type": "code",
   "execution_count": 4,
   "metadata": {},
   "outputs": [],
   "source": [
    "from __future__ import print_function, division\n",
    "import numpy as np\n",
    "import scipy as sp\n",
    "\n",
    "# plotting packages\n",
    "%matplotlib inline\n",
    "from matplotlib.pyplot import * # plotting functions\n",
    "import seaborn as sns           # data visualization package\n",
    "\n",
    "from analysis_fns import load_emdat, load_mldat, crnplt\n"
   ]
  },
  {
   "cell_type": "code",
   "execution_count": null,
   "metadata": {},
   "outputs": [],
   "source": [
    "# load data\n",
    "select = [\"cm\",\"l2a\",\"l2b\",\"l3\",\"unknown\"]\n",
    "data = {}\n",
    "\n",
    "for s in select:\n",
    "    res, mp = load_mldat(s,EOcut=0.2,CORcut=0.2)\n",
    "    data[s] = {\"results\": res,\n",
    "               \"map\": mp}"
   ]
  },
  {
   "cell_type": "code",
   "execution_count": null,
   "metadata": {},
   "outputs": [],
   "source": [
    "# make corner plot\n",
    "sns.set_style(\"ticks\")\n",
    "sns.set_palette(\"cubehelix\",len(select))\n",
    "\n",
    "figure(figsize=(10,10))\n",
    "\n",
    "matlabs =  [r'$\\omega$',r'$\\alpha_1$',r'$\\alpha_2$']\n",
    "\n",
    "mrange=[[  0  , 20  ],\n",
    "        [-5.1, 5.1],\n",
    "        [ -1.1,  1.1]],\n",
    "\n",
    "\n",
    "HIST = False\n",
    "\n",
    "for s in select:\n",
    "    crnplt(data[s][\"map\"],s,mrange=mrange,labs=matlabs,hist=HIST)\n",
    "\n",
    "suptitle(\"Population Parameter Distribution\",y=1.04)\n"
   ]
  },
  {
   "cell_type": "code",
   "execution_count": null,
   "metadata": {},
   "outputs": [],
   "source": []
  }
 ],
 "metadata": {
  "kernelspec": {
   "display_name": "Python 3",
   "language": "python",
   "name": "python3"
  },
  "language_info": {
   "codemirror_mode": {
    "name": "ipython",
    "version": 3
   },
   "file_extension": ".py",
   "mimetype": "text/x-python",
   "name": "python",
   "nbconvert_exporter": "python",
   "pygments_lexer": "ipython3",
   "version": "3.5.3"
  }
 },
 "nbformat": 4,
 "nbformat_minor": 2
}
