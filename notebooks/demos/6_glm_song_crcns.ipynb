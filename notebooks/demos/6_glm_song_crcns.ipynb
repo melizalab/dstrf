{
 "cells": [
  {
   "cell_type": "markdown",
   "metadata": {},
   "source": [
    "# GLM Demo: multivariate song stimulus, CRCNS neurons\n",
    "\n",
    "This notebook demonstrates fitting to a real neuron from the CRCNS dataset."
   ]
  },
  {
   "cell_type": "code",
   "execution_count": null,
   "metadata": {},
   "outputs": [],
   "source": [
    "from __future__ import print_function, division\n",
    "import os\n",
    "import sys\n",
    "import imp\n",
    "import numpy as np\n",
    "\n",
    "import mat_neuron._model as mat\n",
    "from dstrf import io, strf, mle, simulate, data, filters, models, spikes, performance\n",
    "\n",
    "# plotting packages\n",
    "import ruamel.yaml as yaml\n",
    "%reload_ext yamlmagic\n",
    "%matplotlib inline\n",
    "import matplotlib.pyplot as plt # plotting functions\n",
    "import seaborn as sns           # data visualization package\n",
    "sns.set_style(\"whitegrid\")\n",
    "\n",
    "cfg = {}"
   ]
  },
  {
   "cell_type": "code",
   "execution_count": null,
   "metadata": {},
   "outputs": [],
   "source": [
    "%%yaml cfg\n",
    "model:\n",
    "  dt: 0.5\n",
    "  ataus: [10.0, 200.0]\n",
    "  t_refract: 2.0\n",
    "  filter:\n",
    "    rank: 2\n",
    "    len: 50\n",
    "    ncos: 12\n",
    "  prior:\n",
    "    l1: 585.0558005127248\n",
    "    l2: 30.792410553301334\n",
    "data:\n",
    "  source: \"neurobank\"\n",
    "  cell: \"st376_4_3_1\"\n",
    "  #source: \"crcns\"\n",
    "  #root: \"../../crcns\"\n",
    "  #cell: \"yg0616_4_B\"\n",
    "  stimulus:\n",
    "    stim_type: \"conspecific\"\n",
    "    include:\n",
    "      - A0\n",
    "      - A0_motifs_000\n",
    "      - A0_motifs_001\n",
    "      - A0_motifs_002\n",
    "      - A0_motifs_003\n",
    "      - A1\n",
    "      - A2\n",
    "      - A2_motifs_000\n",
    "      - A3\n",
    "      - A4\n",
    "      - A5\n",
    "      - A6_motifs_000\n",
    "      - A8\n",
    "      - A8_motifs_000\n",
    "      - A8_motifs_001\n",
    "      - A8_motifs_002\n",
    "      - A8_motifs_003\n",
    "      - A9\n",
    "      - B0\n",
    "      - B0_motifs_000\n",
    "      - B0_motifs_001\n",
    "      - B0_motifs_002\n",
    "      - B0_motifs_003\n",
    "      - B1\n",
    "      - B2\n",
    "      - B2_motifs_000\n",
    "      - B3\n",
    "      - B4\n",
    "      - B5\n",
    "      - B6_motifs_000\n",
    "      - B8\n",
    "      - B8_motifs_000\n",
    "      - B8_motifs_001\n",
    "      - B8_motifs_002\n",
    "      - B8_motifs_003\n",
    "      - B9\n",
    "      - C0\n",
    "      - C0_motifs_000\n",
    "      - C0_motifs_001\n",
    "      - C0_motifs_002\n",
    "      - C0_motifs_003\n",
    "      - C1\n",
    "      - C2\n",
    "      - C2_motifs_000\n",
    "      - C6_motifs_000\n",
    "      - C8_motifs_000\n",
    "      - C8_motifs_001\n",
    "      - C8_motifs_002\n",
    "      - C8_motifs_003\n",
    "    spectrogram:\n",
    "      window: 4.0\n",
    "      compress: 1\n",
    "      f_min: 0.3\n",
    "      f_max: 10.0\n",
    "      f_count: 24\n",
    "      gammatone: True\n",
    "  prepadding: 50.0\n",
    "  dt: 1.0\n",
    "  test_trials: 50\n",
    "spike_detect:\n",
    "  thresh: -20.0\n",
    "  rise_dt: 1.0\n",
    "emcee:\n",
    "  nsteps: 10\n",
    "  nthreads: 8\n",
    "  nwalkers: 500\n",
    "  startpos_scale: 2.0\n",
    "  bounds:\n",
    "  - [0, 20]\n",
    "  - [-50, 200]\n",
    "  - [-5, 10]  "
   ]
  },
  {
   "cell_type": "code",
   "execution_count": null,
   "metadata": {},
   "outputs": [],
   "source": [
    "from munch import munchify\n",
    "cf = munchify(cfg)"
   ]
  },
  {
   "cell_type": "code",
   "execution_count": null,
   "metadata": {},
   "outputs": [],
   "source": [
    "imp.reload(data)\n",
    "imp.reload(io)\n",
    "stim_fun = getattr(data, cf.data.source)\n",
    "raw_data = stim_fun(cf)\n",
    "p_test = cf.data.get(\"test_proportion\", None)\n",
    "assim_data = io.merge_data(io.subselect_data(raw_data, p_test))"
   ]
  },
  {
   "cell_type": "code",
   "execution_count": null,
   "metadata": {},
   "outputs": [],
   "source": [
    "#raw_data[0]\n",
    "[d['stim_name'] for d in raw_data]\n",
    "#[d[\"spike_v\"].shape[1] for d in raw_data]"
   ]
  },
  {
   "cell_type": "code",
   "execution_count": null,
   "metadata": {},
   "outputs": [],
   "source": [
    "psth_dt = 5\n",
    "upsample = int(psth_dt / cf.model.dt)   \n",
    "eo = performance.corrcoef(assim_data[\"spike_v\"][::2], assim_data[\"spike_v\"][1::2], upsample, 1)\n",
    "\n",
    "print(\"duration:\", assim_data[\"duration\"])\n",
    "print(\"stim bins:\", assim_data[\"stim\"].shape[1])\n",
    "print(\"spike bins:\", assim_data[\"spike_v\"].shape[0])\n",
    "print(\"total spikes:\", np.sum(assim_data[\"spike_v\"]))\n",
    "print(\"avg spike rate:\", 1000 * np.sum(assim_data[\"spike_v\"]) / assim_data[\"duration\"] / assim_data[\"spike_v\"].shape[1])\n",
    "print(\"EO cc: %3.3f\" % eo)"
   ]
  },
  {
   "cell_type": "code",
   "execution_count": null,
   "metadata": {},
   "outputs": [],
   "source": [
    "t_stim = np.linspace(0, assim_data[\"duration\"], assim_data[\"stim\"].shape[1])\n",
    "t_spike = np.linspace(0, assim_data[\"duration\"], assim_data[\"spike_v\"].shape[0])\n",
    "\n",
    "fig, axes = plt.subplots(nrows=2, ncols=1, sharex=True, figsize=(16, 5))\n",
    "axes[0].imshow(assim_data[\"stim\"], \n",
    "               extent=(0, assim_data[\"duration\"], cf.data.stimulus.spectrogram.f_min, cf.data.stimulus.spectrogram.f_max),\n",
    "               cmap='jet', origin='lower', aspect='auto')\n",
    "for i, spk in enumerate(assim_data[\"spike_t\"]):\n",
    "    axes[1].vlines(spk * cf.model.dt, i, i + 0.5)\n",
    "    \n",
    "axes[0].set_xlim(0, 8000);"
   ]
  },
  {
   "cell_type": "markdown",
   "metadata": {},
   "source": [
    "## Estimate parameters"
   ]
  },
  {
   "cell_type": "code",
   "execution_count": null,
   "metadata": {},
   "outputs": [],
   "source": [
    "# initial guess of parameters using ML\n",
    "krank = cf.model.filter.rank\n",
    "kcosbas = strf.cosbasis(cf.model.filter.len, cf.model.filter.ncos)\n",
    "try:\n",
    "    mlest = mle.matfact(assim_data[\"stim\"], kcosbas, krank, assim_data[\"spike_v\"], assim_data[\"spike_h\"],\n",
    "                        assim_data[\"stim_dt\"], assim_data[\"spike_dt\"])\n",
    "except TypeError:\n",
    "    mlest = mle.matfact(assim_data[\"stim\"], kcosbas, krank, assim_data[\"spike_v\"], assim_data[\"spike_h\"],\n",
    "                        assim_data[\"stim_dt\"], assim_data[\"spike_dt\"])"
   ]
  },
  {
   "cell_type": "code",
   "execution_count": null,
   "metadata": {},
   "outputs": [],
   "source": [
    "%%time\n",
    "nparams = 1 + mlest.n_hparams + mlest.n_kparams\n",
    "constraint = models.matconstraint(nparams, cf.model.ataus[0], cf.model.ataus[1], cf.model.t_refract)\n",
    "w0 = mlest.estimate(reg_lambda=cf.model.prior.l2, reg_alpha=cf.model.prior.l1, \n",
    "                    method='trust-constr', constraints=[constraint],\n",
    "                    gtol=1e-2)"
   ]
  },
  {
   "cell_type": "code",
   "execution_count": null,
   "metadata": {},
   "outputs": [],
   "source": [
    "%time w0 = mlest.estimate(reg_lambda=cf.model.prior.l2, reg_alpha=cf.model.prior.l1)"
   ]
  },
  {
   "cell_type": "code",
   "execution_count": null,
   "metadata": {},
   "outputs": [],
   "source": [
    "print(\"MLE rate and adaptation parameters:\", w0[:3])\n",
    "fig, axes = plt.subplots(nrows=1, ncols=2, sharex=True, sharey=True, figsize=(6, 3))\n",
    "rf_sta = strf.as_matrix(mlest.sta(), kcosbas)\n",
    "rf_mle = strf.from_basis(strf.defactorize(w0[3:], cf.data.stimulus.spectrogram.f_count, krank), kcosbas)\n",
    "axes[0].imshow(rf_sta, cmap='jet', aspect='auto')\n",
    "axes[0].set_title(\"STA\")\n",
    "axes[1].imshow(rf_mle, cmap='jet', aspect='auto')\n",
    "axes[1].set_title(\"MLE (rank-{})\".format(krank));"
   ]
  },
  {
   "cell_type": "code",
   "execution_count": null,
   "metadata": {},
   "outputs": [],
   "source": [
    "matboundprior = models.matbounds(cf.model.ataus[0], cf.model.ataus[1], cf.model.t_refract)\n",
    "if not matboundprior(w0):\n",
    "    print(\"parameters out of bounds\")"
   ]
  },
  {
   "cell_type": "markdown",
   "metadata": {},
   "source": [
    "## Predict responses"
   ]
  },
  {
   "cell_type": "code",
   "execution_count": null,
   "metadata": {},
   "outputs": [],
   "source": [
    "# test_data = io.merge_data(raw_data[:-n_test])\n",
    "test_data = io.merge_data(io.subselect_data(raw_data, p_test, first=False))\n",
    "mltest = mle.matfact(test_data[\"stim\"], kcosbas, krank, test_data[\"spike_v\"], test_data[\"spike_h\"],\n",
    "                     test_data[\"stim_dt\"], test_data[\"spike_dt\"])"
   ]
  },
  {
   "cell_type": "code",
   "execution_count": null,
   "metadata": {},
   "outputs": [],
   "source": [
    "print(\"duration:\", test_data[\"duration\"])\n",
    "print(\"stim bins:\", test_data[\"stim\"].shape[1])\n",
    "print(\"spike bins:\", test_data[\"spike_v\"].shape[0])\n",
    "print(\"total spikes:\", np.sum(test_data[\"spike_v\"]))\n",
    "print(\"avg spike rate:\", 1000 * np.sum(assim_data[\"spike_v\"]) / assim_data[\"duration\"] / assim_data[\"spike_v\"].shape[1])"
   ]
  },
  {
   "cell_type": "code",
   "execution_count": null,
   "metadata": {},
   "outputs": [],
   "source": [
    "fig, axes = plt.subplots(nrows=4, ncols=1, sharex=True, figsize=(18, 9))\n",
    "axes[0].imshow(test_data[\"stim\"], \n",
    "               extent=(0, test_data[\"duration\"], cf.data.stimulus.spectrogram.f_min, cf.data.stimulus.spectrogram.f_max),\n",
    "               cmap='jet', origin='lower', aspect='auto')\n",
    "\n",
    "t_stim = np.linspace(0, test_data[\"duration\"], test_data[\"stim\"].shape[1])\n",
    "t_spike = np.linspace(0, test_data[\"duration\"], test_data[\"spike_v\"].shape[0])\n",
    "\n",
    "Vpred = mltest.V(w0)\n",
    "axes[1].plot(t_stim, Vpred)\n",
    "\n",
    "n_trials = cf.data.get('test_trials', test_data[\"ntrials\"])\n",
    "for i, spk in enumerate(test_data[\"spike_t\"]):\n",
    "    axes[2].vlines(spk * cf.model.dt, i - 0.4 + n_trials, i + 0.4 + n_trials)\n",
    "pred = np.zeros((t_spike.size, n_trials), dtype=mltest.spikes.dtype)\n",
    "\n",
    "for j in range(n_trials):\n",
    "    pred[:, j] = models.predict_spikes_glm(Vpred, w0[:3], cf)\n",
    "    spk_t = pred[:, j].nonzero()[0]\n",
    "    axes[2].vlines(spk_t * cf.model.dt, j - 0.4, j + 0.4, color='r')\n",
    "\n",
    "psth_dt = 10\n",
    "upsample = int(psth_dt / cf.model.dt)   \n",
    "pred_psth = spikes.psth(pred, upsample, 1) / n_trials\n",
    "test_psth = spikes.psth(test_data[\"spike_v\"], upsample, 1) / test_data[\"ntrials\"]\n",
    "t_psth = np.linspace(0, test_data[\"duration\"], test_psth.size)\n",
    "axes[3].plot(t_psth, test_psth, t_psth, pred_psth)\n",
    "axes[3].set_xlim(0, 8000);\n",
    "\n",
    "eo = performance.corrcoef(test_data[\"spike_v\"][::2], test_data[\"spike_v\"][1::2], upsample, 1)\n",
    "cc = performance.corrcoef(test_data[\"spike_v\"], pred, upsample, 1)\n",
    "print(\"EO cc: %3.3f\" % eo)\n",
    "print(\"pred cc: %3.3f\" % cc)\n",
    "print(\"log-likelihood: %f\" % mltest.loglike(w0))\n",
    "print(\"spike count: data = {}, pred = {}\".format(test_data[\"spike_v\"].sum(0).mean(), pred.sum(0).mean()))"
   ]
  },
  {
   "cell_type": "code",
   "execution_count": null,
   "metadata": {},
   "outputs": [],
   "source": []
  }
 ],
 "metadata": {
  "kernelspec": {
   "display_name": "Python 3",
   "language": "python",
   "name": "python3"
  },
  "language_info": {
   "codemirror_mode": {
    "name": "ipython",
    "version": 3
   },
   "file_extension": ".py",
   "mimetype": "text/x-python",
   "name": "python",
   "nbconvert_exporter": "python",
   "pygments_lexer": "ipython3",
   "version": "3.7.3"
  }
 },
 "nbformat": 4,
 "nbformat_minor": 2
}
