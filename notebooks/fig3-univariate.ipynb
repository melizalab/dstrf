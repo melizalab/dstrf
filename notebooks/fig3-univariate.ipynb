{
 "cells": [
  {
   "cell_type": "markdown",
   "metadata": {},
   "source": [
    "# Figure: Example univariate fit\n",
    "\n",
    "This figure demonstrates how intrinsic dynamics distort receptive field estimates for a simple univariate case with white-noise stimuli. Requires `batch/univariate.sh` to have been run."
   ]
  },
  {
   "cell_type": "code",
   "execution_count": null,
   "metadata": {},
   "outputs": [],
   "source": [
    "from __future__ import print_function, division\n",
    "import sys\n",
    "import imp\n",
    "import os\n",
    "import numpy as np\n",
    "from munch import Munch\n",
    "from dstrf import spikes, strf, filters\n",
    "from corner import corner\n",
    "\n",
    "# plotting packages\n",
    "%matplotlib inline\n",
    "import matplotlib as mpl\n",
    "import matplotlib.pyplot as plt # plotting functions\n",
    "import seaborn as sns           # data visualization package\n",
    "sns.set_style(\"ticks\")\n",
    "sns.set_context(\"paper\", font_scale=0.7)\n",
    "mpl.rcParams['pdf.fonttype'] = 42\n",
    "mpl.rcParams['ps.fonttype'] = 42\n",
    "mpl.rcParams['lines.linewidth'] = 0.5\n",
    "mpl.rcParams['axes.linewidth'] = 0.5\n",
    "mpl.rcParams['xtick.major.width'] = 0.5\n",
    "mpl.rcParams['ytick.major.width'] = 0.5\n",
    "mpl.rcParams['xtick.major.size'] = 1.5\n",
    "mpl.rcParams['ytick.major.size'] = 1.5\n",
    "#print(mpl.rcParams.keys())\n",
    "outdir = os.path.join(\"..\", \"figures\")\n",
    "est_clr = [\"goldenrod\", \"darkcyan\"]\n",
    "names = [\"tonic\", \"phasic\"]\n",
    "figsize = (1.5, 1.7)"
   ]
  },
  {
   "cell_type": "code",
   "execution_count": null,
   "metadata": {},
   "outputs": [],
   "source": [
    "base_dir = \"../results/20191004_univariate\"\n",
    "\n",
    "with open(\"../config/univariate_dynamical.yml\", \"rt\") as fp:\n",
    "    cf = Munch.fromYAML(fp)"
   ]
  },
  {
   "cell_type": "markdown",
   "metadata": {},
   "source": [
    "### A: example stimulus, PSTH, and raster plots"
   ]
  },
  {
   "cell_type": "code",
   "execution_count": null,
   "metadata": {
    "scrolled": false
   },
   "outputs": [],
   "source": [
    "for row, name in enumerate(names):\n",
    "    data = np.load(os.path.join(base_dir, \"univariate_{}_predict.npz\".format(name)))\n",
    "    V = data[\"V\"]\n",
    "    stim = data[\"stim\"].squeeze()\n",
    "    tspk = data[\"spike_v\"]\n",
    "    pspk = data[\"pspike_v\"]\n",
    "    ntrials = min(tspk.shape[1], 10)\n",
    "    fig, axes = plt.subplots(nrows=4, ncols=1, sharex=True, figsize=figsize)\n",
    "    t_stim = np.linspace(0, data[\"duration\"], stim.size) - 1000\n",
    "    t_resp = np.linspace(0, data[\"duration\"], V.size) - 1000\n",
    "\n",
    "    upsample = int(cf.data.dt / cf.model.dt)\n",
    "    test_psth = spikes.psth(tspk, upsample, 1)\n",
    "    pred_psth = spikes.psth(pspk, upsample, 1)\n",
    "\n",
    "    axes[0].plot(t_stim, stim)\n",
    "    # axes 1: example voltage response\n",
    "    axes[1].plot(t_resp, V)\n",
    "    # axes 2: psth\n",
    "    axes[2].plot(t_stim, test_psth, linewidth=1, color='k', label=\"data\")\n",
    "    axes[2].plot(t_stim, pred_psth, linewidth=1, color=est_clr[row], label=\"pred\")\n",
    "    # axes 3: rasters\n",
    "    for i in range(ntrials):\n",
    "        spk_t = np.nonzero(tspk[:, i])[0] * cf.model.dt - 1000\n",
    "        axes[3].vlines(spk_t, i - 0.4 + ntrials, i + 0.4 + ntrials)\n",
    "    for i in range(ntrials):\n",
    "        spk_t = np.nonzero(pspk[:, i])[0] * cf.model.dt - 1000\n",
    "        axes[3].vlines(spk_t, i - 0.4, i + 0.4, color=est_clr[row])\n",
    "\n",
    "    axes[3].set_xlim(-10, 3000);\n",
    "    axes[0].set_title(name)\n",
    "    plt.subplots_adjust(hspace=0.01);\n",
    "    sns.despine()\n",
    "\n",
    "    plt.savefig(os.path.join(outdir, \"univariate_{}_example.pdf\".format(name)))"
   ]
  },
  {
   "cell_type": "markdown",
   "metadata": {},
   "source": [
    "### B: Plot RF and adaptation kernel for all three models"
   ]
  },
  {
   "cell_type": "code",
   "execution_count": null,
   "metadata": {
    "scrolled": true
   },
   "outputs": [],
   "source": [
    "fig, axes = plt.subplots(nrows=2, ncols=2, sharex='col', figsize=(2.6, 3.0))\n",
    "\n",
    "ntau = cf.model.filter.len\n",
    "ncos = cf.model.filter.ncos\n",
    "kcosbas = strf.cosbasis(ntau, ncos)\n",
    "k1, kt = filters.gammadiff(**cf.data.filter)\n",
    "# expected kernel due to the filtering properties of the membrane\n",
    "km, kmt = filters.exponential(46, 1.0, ntau * cf.data.dt, cf.data.dt)\n",
    "kconv = np.convolve(km, k1.squeeze(), mode=\"full\")[:-km.size:-1]\n",
    "\n",
    "for row, name in enumerate(names):\n",
    "    data = np.load(os.path.join(base_dir, \"univariate_{}_samples.npz\".format(name)))\n",
    "    pos = data[\"samples\"]\n",
    "    prob = data[\"prob\"]\n",
    "    theta = np.median(pos, 0)\n",
    "\n",
    "    minprob = np.percentile(prob, 5)\n",
    "\n",
    "    for i in range(prob.size):\n",
    "        if prob[i] <= minprob: continue\n",
    "        k = strf.from_basis(pos[i,3:], kcosbas)[::-1]\n",
    "        axes[row, 0].plot(k, 'k', alpha=0.01)\n",
    "\n",
    "    kmap = strf.from_basis(theta[3:], kcosbas)[::-1]\n",
    "    axes[row, 0].plot(kmap, color=est_clr[row], label=name)\n",
    "    axes[row, 0].plot(k1.squeeze()[::-1] * kmap.max() / k1.max(), 'r', label=\"I\")\n",
    "    axes[row, 0].plot(kconv * kmap.max() / kconv.max(), 'b', label=\"E\")\n",
    "\n",
    "    axes[row, 0].legend()\n",
    "\n",
    "    # posterior distribution of post-spike kernels\n",
    "    t = np.arange(0, 400)\n",
    "    for i in range(prob.size):\n",
    "        if prob[i] <= minprob: continue\n",
    "        axes[row, 1].plot(t, \n",
    "                 - pos[i,1] * np.exp(-t / cf.model.ataus[0]) - pos[i,2] * np.exp(-t / cf.model.ataus[1]),\n",
    "                 'k', alpha=0.01)\n",
    "    axes[row, 1].plot(t, - theta[1] * np.exp(-t / cf.model.ataus[0]) - theta[2] * np.exp(-t / cf.model.ataus[1]), \n",
    "                      color=est_clr[row], label=\"MAP\")\n",
    "    axes[row, 1].legend()\n",
    "    \n",
    "sns.despine()\n",
    "# for ax in axes.flat:\n",
    "#     ax.tick_params(length=1)\n",
    "plt.subplots_adjust(wspace=0.3);\n",
    "plt.savefig(os.path.join(outdir, \"univariate_rfs.pdf\"))"
   ]
  },
  {
   "cell_type": "markdown",
   "metadata": {},
   "source": [
    "### C: corner plots\n",
    "\n",
    "Doesn't appear possible to overlay the plots directly, so plot each separately and then recombine in illustrator."
   ]
  },
  {
   "cell_type": "code",
   "execution_count": null,
   "metadata": {},
   "outputs": [],
   "source": [
    "matlabs = ['w','a1','a2']\n",
    "ranges = [(4, 9), (-10, 60), (-0.5,1)]\n",
    "\n",
    "fig, axes = plt.subplots(nrows=3, ncols=3, figsize=(3, 3))\n",
    "for row, name in enumerate(names):\n",
    "    data = np.load(os.path.join(base_dir, \"univariate_{}_samples.npz\".format(name)))\n",
    "    c = corner(data[\"samples\"][:, :3],\n",
    "               fig=fig,\n",
    "               color=est_clr[row],\n",
    "               range=ranges,\n",
    "               bins=50, smooth=1,smooth1d=0,\n",
    "               labels=matlabs)\n",
    "\n",
    "for ax in axes.flat:\n",
    "    ax.tick_params(labelrotation=0)\n",
    "fig.legend((\"Tonic\", \"Phasic\"), framealpha=0, loc=\"upper right\")\n",
    "#plt.savefig(os.path.join(outdir, \"univariate_corner.pdf\"))"
   ]
  },
  {
   "cell_type": "code",
   "execution_count": null,
   "metadata": {},
   "outputs": [],
   "source": []
  }
 ],
 "metadata": {
  "git": {
   "suppress_outputs": true
  },
  "kernelspec": {
   "display_name": "Python 3",
   "language": "python",
   "name": "python3"
  },
  "language_info": {
   "codemirror_mode": {
    "name": "ipython",
    "version": 3
   },
   "file_extension": ".py",
   "mimetype": "text/x-python",
   "name": "python",
   "nbconvert_exporter": "python",
   "pygments_lexer": "ipython3",
   "version": "3.7.3"
  }
 },
 "nbformat": 4,
 "nbformat_minor": 2
}
