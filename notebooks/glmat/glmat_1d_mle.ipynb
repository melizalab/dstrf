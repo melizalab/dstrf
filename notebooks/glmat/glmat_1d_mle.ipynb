{
 "cells": [
  {
   "cell_type": "code",
   "execution_count": null,
   "metadata": {},
   "outputs": [],
   "source": [
    "from __future__ import print_function, division\n",
    "import numpy as np\n",
    "import scipy as sp\n",
    "from numba import jit\n",
    "\n",
    "from dstrf import mat, strf, mle\n",
    "\n",
    "# plotting packages\n",
    "%matplotlib inline\n",
    "import matplotlib.pyplot as plt # plotting functions\n",
    "import seaborn as sns           # data visualization package\n",
    "sns.set_style(\"whitegrid\")"
   ]
  },
  {
   "cell_type": "code",
   "execution_count": null,
   "metadata": {},
   "outputs": [],
   "source": [
    "# model parameters: (\u03b11, \u03b12, \u03c9, \u03c41, \u03c42, tref)\n",
    "matparams = np.asarray([100, 2, 7, 10, 200, 2], dtype='d')\n",
    "model_dt = 0.5\n",
    "\n",
    "# data parameters\n",
    "duration = 500000\n",
    "n_samples = int(duration / model_dt)\n",
    "n_assim = 1\n",
    "n_test = 0"
   ]
  },
  {
   "cell_type": "code",
   "execution_count": null,
   "metadata": {},
   "outputs": [],
   "source": [
    "# convolution - simple alpha kernel\n",
    "from scipy.signal import resample\n",
    "stim_dt = 10.0\n",
    "upsample = int(stim_dt / model_dt)\n",
    "\n",
    "# alpha filter\n",
    "tau_h = 50\n",
    "tt = np.arange(0, 600, stim_dt)\n",
    "ka = np.flipud(tt / tau_h * np.exp(-tt / tau_h))\n",
    "\n",
    "# difference of gammas:\n",
    "from scipy.special import gamma\n",
    "tau_h1 = 600. / 32\n",
    "tau_h2 = 600. / 16\n",
    "kg1 = 1/(gamma(6)*tau_h1)*(tt/tau_h1)**5 * np.exp(-tt/tau_h1)\n",
    "kg2 = 1/(gamma(6)*tau_h2)*(tt/tau_h2)**5 * np.exp(-tt/tau_h2)\n",
    "kg = np.flipud(kg1 - kg2 / 1.5)\n",
    "kg /= np.linalg.norm(kg)\n",
    "\n",
    "# select a filter\n",
    "k1 = (kg * 5)[::-1]\n",
    "plt.plot(k1)\n",
    "\n",
    "def filter_stimulus(S, k1, upsample=None):\n",
    "    X = np.convolve(S, k1, mode=\"full\")[:S.size]\n",
    "    if upsample is not None:\n",
    "        t = np.arange(X.size)\n",
    "        tu = np.arange(0, X.size, 1 / upsample)\n",
    "        return np.interp(tu, t, X)\n",
    "    else:\n",
    "        return X\n",
    "    "
   ]
  },
  {
   "cell_type": "code",
   "execution_count": null,
   "metadata": {},
   "outputs": [],
   "source": [
    "@jit\n",
    "def predict_spikes(V, params, dt, upsample):\n",
    "    N = V.size * upsample\n",
    "    S = np.zeros(N, dtype='i')\n",
    "    Vi = np.zeros(N, dtype='d')\n",
    "    R = np.random.uniform(size=N)\n",
    "    omega = params[2]\n",
    "    A1 = np.exp(-dt / params[3])\n",
    "    A2 = np.exp(-dt / params[4])\n",
    "    i_refrac = int(params[5] / dt)\n",
    "    H1 = H2 = 0\n",
    "    iref = 0\n",
    "    for i in range(N):\n",
    "        Vi[i] = V[i // upsample]\n",
    "        H1 *= A1\n",
    "        H2 *= A2\n",
    "        p = np.exp(Vi[i] - H1 - H2 - omega) * dt\n",
    "        if i > iref and p > R[i]:\n",
    "            H1 += params[0]\n",
    "            H2 += params[1]\n",
    "            iref = i + i_refrac\n",
    "            S[i] = 1\n",
    "    return Vi, S\n",
    "\n",
    "\n",
    "def lci_poisson(V, H, spikes, params, dt):\n",
    "    mu = V - H[:, 0] * params[0] - H[:, 1] * params[1] - params[2]\n",
    "    lp = spikes * mu - dt * np.exp(mu)\n",
    "    return lp.sum()\n"
   ]
  },
  {
   "cell_type": "code",
   "execution_count": null,
   "metadata": {},
   "outputs": [],
   "source": [
    "# generate data to fit\n",
    "np.random.seed(1)\n",
    "data = []\n",
    "stim = np.random.randn(int(n_samples / (stim_dt / model_dt)))\n",
    "stim[:100] = 0\n",
    "        \n",
    "V = filter_stimulus(stim, k1, upsample=1)\n",
    "for i in range(n_assim + n_test):\n",
    "    Vinterp, spikes = predict_spikes(V, matparams, model_dt, upsample)\n",
    "    H = np.column_stack([mat.adaptation(spikes, tau, model_dt)\n",
    "                         for tau in matparams[3:5]])\n",
    "    z = np.nonzero(spikes)[0]\n",
    "    d = {\"V\": Vinterp,\n",
    "         \"H\": H,\n",
    "         \"duration\": duration,\n",
    "         \"spike_t\": z, \n",
    "         \"spike_v\": spikes,\n",
    "         \"lci\": lci_poisson(Vinterp, H, spikes, matparams, model_dt)\n",
    "         }\n",
    "    data.append(d)\n",
    "\n",
    "# split into assimilation and test sets\n",
    "assim_data = data[:n_assim]\n",
    "test_data = data[n_assim:]"
   ]
  },
  {
   "cell_type": "code",
   "execution_count": null,
   "metadata": {},
   "outputs": [],
   "source": [
    "ax1 = plt.subplot(211)\n",
    "ax2 = plt.subplot(212)\n",
    "for i, d in enumerate(data):\n",
    "    ax2.vlines(d[\"spike_t\"], i, i + 0.5)\n",
    "ax1.plot(d[\"V\"])\n",
    "ax1.set_xlim(0, 8000)\n",
    "ax2.set_xlim(0, 8000)\n",
    "print(sum(d[\"lci\"] for d in data))\n",
    "print(\"spikes: {}; rate: {} / dt\".format(np.mean([d[\"spike_t\"].size for d in data]), \n",
    "                                         np.mean([d[\"spike_t\"].size / d[\"duration\"] for d in data])))"
   ]
  },
  {
   "cell_type": "code",
   "execution_count": null,
   "metadata": {},
   "outputs": [],
   "source": [
    "# generate design matrix for stimulus\n",
    "X_stim = strf.lagged_matrix(stim.reshape(1, stim.size), k1.size)\n",
    "# initial guess of strf\n",
    "sta = strf.correlate(X_stim, d[\"spike_v\"])\n",
    "plt.plot(sta[::-1])\n",
    "plt.plot(k1)"
   ]
  },
  {
   "cell_type": "code",
   "execution_count": null,
   "metadata": {},
   "outputs": [],
   "source": [
    "psth = np.sum([d[\"spike_v\"] for d in data], axis=0)\n",
    "H = np.column_stack([mat.predict_adaptation(psth, tau, model_dt)\n",
    "                     for tau in matparams[3:5]])\n",
    "plt.plot(psth[:8000])\n",
    "plt.plot(d[\"spike_v\"][:8000])"
   ]
  },
  {
   "cell_type": "code",
   "execution_count": null,
   "metadata": {},
   "outputs": [],
   "source": [
    "lfuns = mle.make_likelihood(X_stim, d[\"H\"], d[\"spike_t\"], stim_dt, model_dt)\n",
    "w = np.r_[matparams[2], matparams[:2], k1[::-1]]\n",
    "lci = lfuns['lci'](w)\n",
    "plt.plot(lci[:8000])\n",
    "lfuns['loglike'](w)"
   ]
  },
  {
   "cell_type": "code",
   "execution_count": null,
   "metadata": {},
   "outputs": [],
   "source": [
    "import scipy.optimize as op\n",
    "w0 = np.r_[0, 0, 0, sta]\n",
    "w1 = op.fmin_ncg(lfuns['loglike'], w, lfuns['gradient'], \n",
    "                 fhess=lfuns['hessian'], maxiter=100)"
   ]
  },
  {
   "cell_type": "code",
   "execution_count": null,
   "metadata": {},
   "outputs": [],
   "source": [
    "print(w1[:3])\n",
    "rf_est = w1[:3:-1]\n",
    "plt.plot(rf_est)\n",
    "plt.plot(w0[:3:-1])\n",
    "plt.plot(k1)"
   ]
  },
  {
   "cell_type": "code",
   "execution_count": null,
   "metadata": {},
   "outputs": [],
   "source": []
  }
 ],
 "metadata": {
  "git": {
   "suppress_outputs": true
  },
  "kernelspec": {
   "display_name": "dstrf",
   "language": "python",
   "name": "dstrf"
  },
  "language_info": {
   "codemirror_mode": {
    "name": "ipython",
    "version": 3
   },
   "file_extension": ".py",
   "mimetype": "text/x-python",
   "name": "python",
   "nbconvert_exporter": "python",
   "pygments_lexer": "ipython3",
   "version": "3.5.4"
  }
 },
 "nbformat": 4,
 "nbformat_minor": 2
}