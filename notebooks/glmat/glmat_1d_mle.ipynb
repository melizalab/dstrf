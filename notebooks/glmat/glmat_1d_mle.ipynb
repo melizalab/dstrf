{
 "cells": [
  {
   "cell_type": "code",
   "execution_count": null,
   "metadata": {
    "collapsed": false
   },
   "outputs": [],
   "source": [
    "from __future__ import print_function, division\n",
    "import numpy as np\n",
    "import scipy as sp\n",
    "\n",
    "import mat_neuron._model as mat\n",
    "from dstrf import strf, mle\n",
    "\n",
    "# plotting packages\n",
    "%matplotlib inline\n",
    "import matplotlib.pyplot as plt # plotting functions\n",
    "import seaborn as sns           # data visualization package\n",
    "sns.set_style(\"whitegrid\")"
   ]
  },
  {
   "cell_type": "code",
   "execution_count": null,
   "metadata": {
    "collapsed": true
   },
   "outputs": [],
   "source": [
    "# model parameters: (\u03b11, \u03b12, \u03c9, \u03c41, \u03c42, tref)\n",
    "matparams = np.asarray([100, 2, 7, 10, 200, 2], dtype='d')\n",
    "model_dt = 0.5\n",
    "\n",
    "# data parameters\n",
    "duration = 50000\n",
    "n_samples = int(duration / model_dt)\n",
    "n_assim = 3\n",
    "n_test = 0"
   ]
  },
  {
   "cell_type": "code",
   "execution_count": null,
   "metadata": {
    "collapsed": false
   },
   "outputs": [],
   "source": [
    "# convolution - simple alpha kernel\n",
    "from scipy.signal import resample\n",
    "stim_dt = 10.0\n",
    "upsample = int(stim_dt / model_dt)\n",
    "\n",
    "# alpha filter\n",
    "tau_h = 50\n",
    "tt = np.arange(0, 600, stim_dt)\n",
    "ka = np.flipud(tt / tau_h * np.exp(-tt / tau_h))\n",
    "\n",
    "# difference of gammas:\n",
    "from scipy.special import gamma\n",
    "tau_h1 = 600. / 32\n",
    "tau_h2 = 600. / 16\n",
    "kg1 = 1/(gamma(6)*tau_h1)*(tt/tau_h1)**5 * np.exp(-tt/tau_h1)\n",
    "kg2 = 1/(gamma(6)*tau_h2)*(tt/tau_h2)**5 * np.exp(-tt/tau_h2)\n",
    "kg = np.flipud(kg1 - kg2 / 1.5)\n",
    "kg /= np.linalg.norm(kg)\n",
    "\n",
    "# select a filter\n",
    "k1 = (kg * 5)[::-1]\n",
    "plt.plot(k1)\n",
    "    "
   ]
  },
  {
   "cell_type": "code",
   "execution_count": null,
   "metadata": {
    "collapsed": true
   },
   "outputs": [],
   "source": [
    "def filter_stimulus(S, k1):\n",
    "    return np.convolve(S, k1, mode=\"full\")[:S.size]\n",
    "\n",
    "def predict_spikes(V, params, dt, upsample):\n",
    "    a1, a2, omega, t1, t2, tref = params\n",
    "    return mat.predict_poisson(V - omega, (a1, a2), (t1, t2), tref, \n",
    "                               dt, upsample)"
   ]
  },
  {
   "cell_type": "code",
   "execution_count": null,
   "metadata": {
    "collapsed": false
   },
   "outputs": [],
   "source": [
    "# generate data to fit\n",
    "np.random.seed(1)\n",
    "mat.random_seed(1)\n",
    "data = []\n",
    "stim = np.random.randn(int(n_samples / (stim_dt / model_dt)))\n",
    "stim[:100] = 0\n",
    "        \n",
    "V = filter_stimulus(stim, k1)\n",
    "for i in range(n_assim + n_test):\n",
    "    spikes = predict_spikes(V, matparams, model_dt, upsample)\n",
    "    H = mat.adaptation(spikes, matparams[3:5], model_dt)\n",
    "    z = np.nonzero(spikes)[0]\n",
    "    d = {\"H\": H,\n",
    "         \"duration\": duration,\n",
    "         \"spike_t\": z, \n",
    "         \"spike_v\": spikes,\n",
    "        }\n",
    "    data.append(d)\n",
    "\n",
    "# split into assimilation and test sets\n",
    "assim_data = data[:n_assim]\n",
    "test_data = data[n_assim:]"
   ]
  },
  {
   "cell_type": "code",
   "execution_count": null,
   "metadata": {
    "collapsed": false
   },
   "outputs": [],
   "source": [
    "ax1 = plt.subplot(211)\n",
    "ax2 = plt.subplot(212)\n",
    "for i, d in enumerate(data):\n",
    "    ax2.vlines(d[\"spike_t\"], i, i + 0.5)\n",
    "ax1.plot(V)\n",
    "ax1.set_xlim(0, 8000 // upsample)\n",
    "ax2.set_xlim(0, 8000)\n",
    "print(\"spikes: {}; rate: {} / dt\".format(np.mean([d[\"spike_t\"].size for d in data]), \n",
    "                                         np.mean([d[\"spike_t\"].size / d[\"duration\"] for d in data])))"
   ]
  },
  {
   "cell_type": "markdown",
   "metadata": {},
   "source": [
    "### Estimation"
   ]
  },
  {
   "cell_type": "code",
   "execution_count": null,
   "metadata": {
    "collapsed": false
   },
   "outputs": [],
   "source": [
    "from theano import config\n",
    "import scipy.optimize as op\n",
    "\n",
    "ftype = config.floatX\n",
    "# combine the trials\n",
    "spikes = np.stack([d[\"spike_v\"] for d in data], axis=1).astype(ftype)\n",
    "# spikes in the exponential basis set\n",
    "X_spikes = np.stack([d[\"H\"] for d in data], axis=2).astype(ftype)\n",
    "# generate design matrix for stimulus\n",
    "X_stim = strf.lagged_matrix(stim.reshape(1, stim.size), k1.size).astype(ftype)\n",
    "# initial guess of strf\n",
    "sta = strf.correlate(X_stim, spikes)\n",
    "plt.plot(sta[::-1])\n",
    "plt.plot(k1)"
   ]
  },
  {
   "cell_type": "code",
   "execution_count": null,
   "metadata": {
    "collapsed": false
   },
   "outputs": [],
   "source": [
    "lfuns = mle.make_likelihood(X_stim, X_spikes, spikes, stim_dt, model_dt)\n",
    "w = np.r_[matparams[2], matparams[:2], k1[::-1]].astype(ftype)\n",
    "lci = lfuns['lci'](w)\n",
    "plt.plot(lci[:8000])\n",
    "lfuns['loglike'](w)"
   ]
  },
  {
   "cell_type": "code",
   "execution_count": null,
   "metadata": {
    "collapsed": true
   },
   "outputs": [],
   "source": [
    "%%time\n",
    "w0 = np.r_[0, 0, 0, sta]\n",
    "w1 = op.fmin_ncg(lfuns['loglike'], w, lfuns['gradient'], \n",
    "                 fhess_p=lfuns['hessianv'], maxiter=100)"
   ]
  },
  {
   "cell_type": "code",
   "execution_count": null,
   "metadata": {
    "collapsed": true
   },
   "outputs": [],
   "source": [
    "print(w1[:3])\n",
    "rf_est = w1[:3:-1]\n",
    "plt.plot(rf_est)\n",
    "plt.plot(w0[:3:-1])\n",
    "plt.plot(k1)"
   ]
  },
  {
   "cell_type": "code",
   "execution_count": null,
   "metadata": {
    "collapsed": true
   },
   "outputs": [],
   "source": []
  }
 ],
 "metadata": {
  "git": {
   "suppress_outputs": true
  },
  "kernelspec": {
   "display_name": "dstrf",
   "language": "python",
   "name": "dstrf"
  },
  "language_info": {
   "codemirror_mode": {
    "name": "ipython",
    "version": 2
   },
   "file_extension": ".py",
   "mimetype": "text/x-python",
   "name": "python",
   "nbconvert_exporter": "python",
   "pygments_lexer": "ipython2",
   "version": "2.7.9"
  }
 },
 "nbformat": 4,
 "nbformat_minor": 2
}