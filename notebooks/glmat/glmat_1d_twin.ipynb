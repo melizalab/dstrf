{
 "cells": [
  {
   "cell_type": "code",
   "execution_count": null,
   "metadata": {},
   "outputs": [],
   "source": [
    "from __future__ import print_function, division\n",
    "import numpy as np\n",
    "import scipy as sp\n",
    "\n",
    "import mat_neuron._model as mat\n",
    "from dstrf import strf, mle\n",
    "\n",
    "# plotting packages\n",
    "%matplotlib inline\n",
    "import matplotlib.pyplot as plt # plotting functions\n",
    "import seaborn as sns           # data visualization package\n",
    "sns.set_style(\"whitegrid\")"
   ]
  },
  {
   "cell_type": "code",
   "execution_count": null,
   "metadata": {},
   "outputs": [],
   "source": [
    "# model parameters: (\u03b11, \u03b12, \u03c9, \u03c41, \u03c42, tref)\n",
    "matparams = np.asarray([100, 2, 7, 10, 200, 2], dtype='d')\n",
    "model_dt = 0.5\n",
    "\n",
    "# data parameters\n",
    "duration = 100000\n",
    "n_samples = int(duration / model_dt)\n",
    "n_assim = 1\n",
    "n_test = 0\n",
    "\n",
    "# assimilation parameters\n",
    "nthreads = 4\n",
    "nwalkers = 500\n",
    "nsteps = 500\n",
    "matparams_i = [0,1,2]\n",
    "matparams_n = len(matparams_i)\n",
    "matparams_f = matparams[matparams_i]"
   ]
  },
  {
   "cell_type": "code",
   "execution_count": null,
   "metadata": {},
   "outputs": [],
   "source": [
    "# convolution - simple alpha kernel\n",
    "from scipy.signal import resample\n",
    "stim_dt = 10.0\n",
    "upsample = int(stim_dt / model_dt)\n",
    "\n",
    "# alpha filter\n",
    "tau_max = 600\n",
    "tau_h = 50\n",
    "tt = np.arange(0, tau_max, stim_dt)\n",
    "ka = np.flipud(tt / tau_h * np.exp(-tt / tau_h))\n",
    "\n",
    "# difference of gammas:\n",
    "from scipy.special import gamma\n",
    "tau_h1 = 600. / 32\n",
    "tau_h2 = 600. / 16\n",
    "kg1 = 1/(gamma(6)*tau_h1)*(tt/tau_h1)**5 * np.exp(-tt/tau_h1)\n",
    "kg2 = 1/(gamma(6)*tau_h2)*(tt/tau_h2)**5 * np.exp(-tt/tau_h2)\n",
    "kg = np.flipud(kg1 - kg2 / 1.5)\n",
    "kg /= np.linalg.norm(kg)\n",
    "\n",
    "# select a filter\n",
    "k1 = (ka * 7)[::-1]\n",
    "plt.plot(k1)\n",
    "    "
   ]
  },
  {
   "cell_type": "code",
   "execution_count": null,
   "metadata": {},
   "outputs": [],
   "source": [
    "def filter_stimulus(S, k1):\n",
    "    return np.convolve(S, k1, mode=\"full\")[:S.size]\n",
    "\n",
    "\n",
    "def predict_spikes(V, params, dt, upsample):\n",
    "    a1, a2, omega, t1, t2, tref = params\n",
    "    return mat.predict_poisson(V - omega, (a1, a2), (t1, t2), tref, \n",
    "                               dt, upsample)\n"
   ]
  },
  {
   "cell_type": "code",
   "execution_count": null,
   "metadata": {},
   "outputs": [],
   "source": [
    "# generate data to fit\n",
    "np.random.seed(1)\n",
    "mat.random_seed(1)\n",
    "data = []\n",
    "stim = np.random.randn(int(n_samples / (stim_dt / model_dt)))\n",
    "stim[:100] = 0\n",
    "        \n",
    "V = filter_stimulus(stim, k1)\n",
    "for i in range(n_assim + n_test):\n",
    "    spikes = predict_spikes(V, matparams, model_dt, upsample)\n",
    "    H = mat.adaptation(spikes, matparams[3:5], model_dt)\n",
    "    z = np.nonzero(spikes)[0]\n",
    "    d = {\"H\": H,\n",
    "         \"duration\": duration,\n",
    "         \"spike_t\": z, \n",
    "         \"spike_v\": spikes,\n",
    "         \"loglike\": mat.log_likelihood_poisson(V - matparams[2], H, spikes, matparams[:2], model_dt, upsample)\n",
    "        }\n",
    "    data.append(d)\n",
    "\n",
    "# split into assimilation and test sets\n",
    "assim_data = data[:n_assim]\n",
    "test_data = data[n_assim:]"
   ]
  },
  {
   "cell_type": "code",
   "execution_count": null,
   "metadata": {},
   "outputs": [],
   "source": [
    "ax1 = plt.subplot(211)\n",
    "ax2 = plt.subplot(212)\n",
    "for i, d in enumerate(data):\n",
    "    ax2.vlines(d[\"spike_t\"], i, i + 0.5)\n",
    "ax1.plot(V)\n",
    "ax1.set_xlim(0, 8000 / upsample)\n",
    "ax2.set_xlim(0, 8000)\n",
    "print(\"log likelihood: {}\".format(np.sum([d[\"loglike\"] for d in data])))\n",
    "print(\"spikes: {}; rate: {} / dt\".format(np.mean([d[\"spike_t\"].size for d in data]), \n",
    "                                         np.mean([d[\"spike_t\"].size / d[\"duration\"] for d in data])))"
   ]
  },
  {
   "cell_type": "code",
   "execution_count": null,
   "metadata": {},
   "outputs": [],
   "source": [
    "# initial guess of parameters using ML\n",
    "spikes = np.stack([d[\"spike_v\"] for d in data], axis=1)\n",
    "w0 = mle.estimate(stim, spikes, k1.size, matparams[3:5], \n",
    "                        stim_dt, model_dt)"
   ]
  },
  {
   "cell_type": "code",
   "execution_count": null,
   "metadata": {},
   "outputs": [],
   "source": [
    "mparam_ml = w0[[1, 2, 0]]\n",
    "rf_ml = w0[:2:-1]\n",
    "print(mparam_ml)\n",
    "plt.plot(rf_ml)\n",
    "plt.plot(k1)"
   ]
  },
  {
   "cell_type": "code",
   "execution_count": null,
   "metadata": {},
   "outputs": [],
   "source": [
    "# estimate parameters using emcee\n",
    "from neurofit import priors, costs, utils, startpos\n",
    "import emcee\n",
    "\n",
    "mat_prior = priors.joint_independent(\n",
    "                [ priors.uniform(-50,  200),\n",
    "                  priors.uniform(-5,   10),\n",
    "                  priors.uniform( 0,  20),\n",
    "                ])\n",
    "startparams = np.asarray([[-50, 200],\n",
    "                          [-5, 10],\n",
    "                          [0, 20],\n",
    "                         ], dtype='d')\n",
    "\n",
    "# lasso prior on RF parameters\n",
    "rf_lambda = 1.0\n",
    "\n",
    "# this is the local copy of the parameters that we'll update in each step\n",
    "mparams = matparams.copy()\n",
    "rfparams = k1.copy()\n",
    "\n",
    "def lnpost_dyn(theta):\n",
    "    \"\"\"Posterior probability for dynamical parameters\"\"\"\n",
    "    mparams[matparams_i] = theta[:matparams_n]\n",
    "    rfparams[:] = theta[matparams_n:]\n",
    "    rf_prior = -np.sum(np.abs(rfparams)) * rf_lambda\n",
    "    ll = mat_prior(theta[:matparams_n]) + rf_prior\n",
    "    if not np.isfinite(ll):\n",
    "        return -np.inf\n",
    "    lp = 0\n",
    "    V = filter_stimulus(stim, rfparams)\n",
    "    for d in assim_data:\n",
    "        lp += mat.log_likelihood_poisson(V - matparams[2], d[\"H\"], d[\"spike_v\"], matparams[:2], model_dt, upsample)\n",
    "    return ll + lp        "
   ]
  },
  {
   "cell_type": "code",
   "execution_count": null,
   "metadata": {},
   "outputs": [],
   "source": [
    "# theoretically this is as good as it can get\n",
    "theta_true = np.concatenate([matparams_f, k1])\n",
    "print(\"lnpost of p_true: {}\".format(lnpost_dyn(theta_true)))\n",
    "# initial state is a gaussian ball around the ML estimate\n",
    "theta_ml = np.concatenate([mparam_ml, rf_ml])\n",
    "p0 = startpos.normal_independent(nwalkers, theta_ml, np.abs(theta_ml) * 0.2)\n",
    "theta_0 = np.median(p0, 0)\n",
    "print(\"lnpost of p0 median: {}\".format(lnpost_dyn(theta_0)))\n",
    "%timeit lnpost_dyn(theta_true)"
   ]
  },
  {
   "cell_type": "code",
   "execution_count": null,
   "metadata": {},
   "outputs": [],
   "source": [
    "sampler = emcee.EnsembleSampler(nwalkers, theta_true.size, lnpost_dyn, threads=nthreads)\n",
    "tracker = utils.convergence_tracker(nsteps, 25)\n",
    "\n",
    "for pos, prob, _ in tracker(sampler.sample(p0, iterations=nsteps, storechain=False)): \n",
    "    continue"
   ]
  },
  {
   "cell_type": "code",
   "execution_count": null,
   "metadata": {},
   "outputs": [],
   "source": [
    "print(\"lnpost of p median: {}\".format(np.median(prob)))\n",
    "print(\"average acceptance fraction: {}\".format(sampler.acceptance_fraction.mean()))\n",
    "theta = np.median(pos, 0)\n",
    "mparams[matparams_i] = theta[:matparams_n]\n",
    "rfparams[:] = theta[matparams_n:]\n",
    "plt.plot(k1)\n",
    "plt.plot(rfparams)\n",
    "print(matparams_f)\n",
    "print(theta[:matparams_n])"
   ]
  },
  {
   "cell_type": "code",
   "execution_count": null,
   "metadata": {},
   "outputs": [],
   "source": [
    "from corner import corner\n",
    "sns.set_style(\"whitegrid\")\n",
    "\n",
    "mpos = pos[:,:matparams_n]\n",
    "matlabs = ['a1','a2','w']\n",
    "c = corner(mpos,\n",
    "           #range=[sp for sp in startparams],\n",
    "       bins=50, smooth=2,smooth1d=0,\n",
    "       labels=matlabs,\n",
    "       truths=matparams_f)"
   ]
  },
  {
   "cell_type": "code",
   "execution_count": null,
   "metadata": {},
   "outputs": [],
   "source": [
    "# see how well predictions line up\n",
    "d = assim_data[0]\n",
    "Vpred = filter_stimulus(stim, rfparams)\n",
    "\n",
    "plt.plot(V[:400])\n",
    "plt.plot(Vpred[:400])"
   ]
  },
  {
   "cell_type": "code",
   "execution_count": null,
   "metadata": {},
   "outputs": [],
   "source": [
    "for i, d in enumerate(data):\n",
    "    plt.vlines(d[\"spike_t\"], i, i + 0.5, 'r')\n",
    "\n",
    "for i in range(len(data), len(data) + 10):\n",
    "    S = predict_spikes(Vpred, mparams, model_dt, upsample)\n",
    "    spk_t = S.nonzero()[0]\n",
    "    plt.vlines(spk_t, i, i + 0.5)\n",
    "\n",
    "plt.xlim(0, 10000)"
   ]
  },
  {
   "cell_type": "code",
   "execution_count": null,
   "metadata": {},
   "outputs": [],
   "source": []
  }
 ],
 "metadata": {
  "git": {
   "suppress_outputs": true
  },
  "kernelspec": {
   "display_name": "dstrf",
   "language": "python",
   "name": "dstrf"
  },
  "language_info": {
   "codemirror_mode": {
    "name": "ipython",
    "version": 3
   },
   "file_extension": ".py",
   "mimetype": "text/x-python",
   "name": "python",
   "nbconvert_exporter": "python",
   "pygments_lexer": "ipython3",
   "version": "3.5.4"
  }
 },
 "nbformat": 4,
 "nbformat_minor": 2
}