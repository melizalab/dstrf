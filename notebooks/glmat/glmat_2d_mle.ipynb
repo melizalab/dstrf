{
 "cells": [
  {
   "cell_type": "markdown",
   "metadata": {},
   "source": [
    "## GLMAT: 2D kernel, noise stimulus, ML estimation"
   ]
  },
  {
   "cell_type": "code",
   "execution_count": null,
   "metadata": {},
   "outputs": [],
   "source": [
    "from __future__ import print_function, division\n",
    "import os\n",
    "import sys\n",
    "import numpy as np\n",
    "import scipy as sp\n",
    "\n",
    "import mat_neuron._model as mat\n",
    "from dstrf import strf, mle\n",
    "\n",
    "# plotting packages\n",
    "%matplotlib inline\n",
    "import matplotlib.pyplot as plt # plotting functions\n",
    "import seaborn as sns           # data visualization package\n",
    "sns.set_style(\"whitegrid\")"
   ]
  },
  {
   "cell_type": "code",
   "execution_count": null,
   "metadata": {},
   "outputs": [],
   "source": [
    "# model parameters: (\u03c9, \u03b11, \u03b12, \u03c41, \u03c42, tref)\n",
    "matparams = np.asarray([7, 100, 2, 10, 200, 2], dtype='d')\n",
    "model_dt = 0.5\n",
    "\n",
    "# data parameters\n",
    "duration = 400000\n",
    "n_samples = int(duration / model_dt)\n",
    "n_assim = 1\n",
    "n_test = 0"
   ]
  },
  {
   "cell_type": "code",
   "execution_count": null,
   "metadata": {},
   "outputs": [],
   "source": [
    "# STRF: keep this very simple for proof of principle\n",
    "stim_dt = 10.0\n",
    "nfreq = 28\n",
    "ntau  = 30\n",
    "ntbas = 8\n",
    "kscale = 5\n",
    "# raised-cosine basis functions\n",
    "kcosbas = strf.cosbasis(ntau, ntbas)\n",
    "\n",
    "from scipy.signal import resample\n",
    "filts = np.load('../../filters.npz')\n",
    "print(filts.keys())\n",
    "k1 = resample(filts['bbs'] * kscale, nfreq, axis=0)[:,ntau-1::-1]\n",
    "k1c = strf.to_basis(k1, kcosbas)\n",
    "\n",
    "plt.imshow(k1, cmap='jet', aspect='auto')"
   ]
  },
  {
   "cell_type": "code",
   "execution_count": null,
   "metadata": {},
   "outputs": [],
   "source": [
    "# generate some random data to fit\n",
    "np.random.seed(1)\n",
    "stim_dt = 10.0\n",
    "upsample = int(stim_dt / model_dt)\n",
    "stim = np.random.randn(nfreq, int(n_samples / (stim_dt / model_dt)))\n",
    "stim[:,:100] = 0\n",
    "plt.imshow(stim[:,:400], aspect='auto')"
   ]
  },
  {
   "cell_type": "code",
   "execution_count": null,
   "metadata": {},
   "outputs": [],
   "source": [
    "mat.random_seed(1)\n",
    "\n",
    "def predict_spikes(V, params, dt, upsample):\n",
    "    omega, a1, a2, t1, t2, tref = params\n",
    "    return mat.predict_poisson(V - omega, (a1, a2), (t1, t2), tref, \n",
    "                               dt, upsample)\n",
    "\n",
    "data = []\n",
    "V = strf.convolve(stim, k1)\n",
    "for i in range(n_assim + n_test):\n",
    "    spikes = predict_spikes(V, matparams, model_dt, upsample)\n",
    "    H = mat.adaptation(spikes, matparams[3:5], model_dt)\n",
    "    z = np.nonzero(spikes)[0]\n",
    "    d = {\"H\": H,\n",
    "         \"duration\": duration,\n",
    "         \"spike_t\": z, \n",
    "         \"spike_v\": spikes,\n",
    "        }\n",
    "    data.append(d)\n",
    "\n",
    "# split into assimilation and test sets\n",
    "assim_data = data[:n_assim]\n",
    "test_data = data[n_assim:]"
   ]
  },
  {
   "cell_type": "code",
   "execution_count": null,
   "metadata": {},
   "outputs": [],
   "source": [
    "ax1 = plt.subplot(211)\n",
    "ax2 = plt.subplot(212)\n",
    "ax1.plot(V)\n",
    "for i, d in enumerate(data):\n",
    "    ax2.vlines(d[\"spike_t\"], i, i + 0.5)\n",
    "ax1.set_xlim(0, 8000 // upsample)\n",
    "ax2.set_xlim(0, 8000)\n",
    "len(data[0][\"spike_t\"])"
   ]
  },
  {
   "cell_type": "markdown",
   "metadata": {},
   "source": [
    "## Estimate parameters"
   ]
  },
  {
   "cell_type": "code",
   "execution_count": null,
   "metadata": {},
   "outputs": [],
   "source": [
    "from theano import config\n",
    "import scipy.optimize as op\n",
    "ftype = config.floatX\n",
    "\n",
    "# combine the trials\n",
    "spikes = np.stack([d[\"spike_v\"] for d in data], axis=1).astype(ftype)\n",
    "# spikes in the exponential basis set\n",
    "X_spikes = np.stack([d[\"H\"] for d in data], axis=2).astype(ftype)\n",
    "# generate design matrix for stimulus\n",
    "X_stim = strf.lagged_matrix(stim, kcosbas).astype(ftype)\n",
    "\n",
    "# initial guess of strf\n",
    "sta = strf.correlate(X_stim, spikes)\n",
    "rf_sta = strf.as_matrix(sta, ntbas)\n",
    "plt.subplot(221).imshow(k1c, cmap='jet', aspect='auto')\n",
    "plt.subplot(222).imshow(rf_sta, cmap='jet', aspect='auto')\n",
    "plt.subplot(223).imshow(strf.from_basis(k1c, kcosbas), cmap='jet', aspect='auto')\n",
    "plt.subplot(224).imshow(strf.from_basis(rf_sta, kcosbas), cmap='jet', aspect='auto')"
   ]
  },
  {
   "cell_type": "code",
   "execution_count": null,
   "metadata": {},
   "outputs": [],
   "source": [
    "from theano import function, config, shared, sparse, gradient\n",
    "import theano.tensor as T\n",
    "import scipy.sparse as sps\n",
    "\n",
    "if X_spikes.ndim == 2:\n",
    "    spike_design = np.expand_dims(X_spikes, 2)\n",
    "if spikes.ndim == 1:\n",
    "    spikes = np.expand_dims(spikes, 1)\n",
    "\n",
    "nframes, nk = X_stim.shape\n",
    "nbins, nalpha, ntrials = X_spikes.shape\n",
    "upsample = int(stim_dt / model_dt)\n",
    "# make an interpolation matrix\n",
    "interp = sps.kron(sps.eye(nframes),\n",
    "                  np.ones((upsample, 1), dtype=config.floatX),\n",
    "                  format='csc')\n",
    "\n",
    "# load the data into theano.shared structures\n",
    "M = shared(interp)\n",
    "dt = shared(model_dt)\n",
    "Xstim = shared(X_stim)\n",
    "Xspke = shared(np.rollaxis(X_spikes, 2))\n",
    "spkx, spky = map(shared, spikes.nonzero())\n",
    "\n",
    "# split out the parameter vector\n",
    "w = T.vector('w')\n",
    "dc = w[0]\n",
    "h = w[1:(nalpha+1)]\n",
    "k = w[(nalpha+1):]\n",
    "Vx = T.dot(Xstim, k)\n",
    "# Vx has to be promoted to a matrix for structured_dot to work\n",
    "Vi = sparse.structured_dot(M, T.shape_padright(Vx))\n",
    "H = T.dot(Xspke, h).T\n",
    "mu = Vi - H - dc\n",
    "ll = T.exp(mu).sum() * dt - mu[spkx, spky].sum()\n",
    "dL = T.grad(ll, w)\n",
    "# arbitrary vector for hessian-vector product\n",
    "v = T.vector('v')\n",
    "ddLv = T.grad(T.sum(dL * v), w)\n",
    "\n",
    "fV = function([w], Vx)\n",
    "fH = function([w], H)\n",
    "fL = function([w], ll)\n",
    "fgrad = function([w], dL)\n",
    "fhess = function([w, v], ddLv)"
   ]
  },
  {
   "cell_type": "code",
   "execution_count": null,
   "metadata": {},
   "outputs": [],
   "source": [
    "# initial likelihood\n",
    "w0 = np.r_[0, 0, 0, sta]\n",
    "fL(w0)"
   ]
  },
  {
   "cell_type": "code",
   "execution_count": null,
   "metadata": {},
   "outputs": [],
   "source": [
    "%%time\n",
    "w0 = np.r_[0, 0, 0, sta]\n",
    "w1 =  op.fmin_ncg(fL, w0, fgrad, fhess_p=fhess, maxiter=100)"
   ]
  },
  {
   "cell_type": "code",
   "execution_count": null,
   "metadata": {},
   "outputs": [],
   "source": [
    "print(w1[:3])\n",
    "rf_mle = strf.as_matrix(w1[3:], ntbas)\n",
    "plt.subplot(131).imshow(strf.from_basis(k1c, kcosbas), cmap='jet', aspect='auto')\n",
    "plt.subplot(132).imshow(strf.from_basis(rf_sta, kcosbas), cmap='jet', aspect='auto')\n",
    "plt.subplot(133).imshow(strf.from_basis(rf_mle, kcosbas), cmap='jet', aspect='auto')"
   ]
  },
  {
   "cell_type": "code",
   "execution_count": null,
   "metadata": {},
   "outputs": [],
   "source": [
    "# fit low-rank approximation\n",
    "krank = 1\n",
    "k0f, k0t = strf.factorize(rf_mle, krank)\n",
    "plt.imshow(strf.from_basis(np.dot(k0f, k0t), kcosbas), cmap='jet', aspect='auto')"
   ]
  },
  {
   "cell_type": "code",
   "execution_count": null,
   "metadata": {},
   "outputs": [],
   "source": [
    "# bilinear version of the model\n",
    "nkf = nfreq * krank\n",
    "nkt = ntbas * krank\n",
    "# bilinear convolution\n",
    "Mkt = sps.kron(sps.eye(nkf), k0t.reshape(nkt, krank), format='csc')\n",
    "dSSdx = X_stim * Mkt # sparse dot product\n",
    "Vpb = np.dot(dSSdx, k0f)\n",
    "Vpp = np.dot(X_stim, w1[3:])\n",
    "plt.plot(Vpb[:400])\n",
    "plt.plot(Vpp[:400])"
   ]
  },
  {
   "cell_type": "code",
   "execution_count": null,
   "metadata": {},
   "outputs": [],
   "source": [
    "from theano.tensor import slinalg\n",
    "# split out the parameter vector\n",
    "\n",
    "_nkt = shared(nkt)\n",
    "_nkf = shared(nkf)\n",
    "w = T.vector('w')\n",
    "dc = w[0]\n",
    "h = w[1:(nalpha+1)]\n",
    "kt = w[(nalpha+1):(nalpha+_nkt+1)]\n",
    "kf = w[(nalpha+_nkt+1):(nalpha+_nkt+_nkf+1)]\n",
    "k = T.dot(kf.reshape((_nkf, krank)), kt.reshape((krank, _nkt))).ravel()\n",
    "\n",
    "# convolution: first with block-diagonal matrix containing temporal vectors then with freq vectors\n",
    "# it might be nice for these to be sparse\n",
    "# Mkt = T.slinalg.kron(T.eye(nkf), kt.reshape((nkt, krank)))\n",
    "# Vxt = T.dot(Xstim, Mkt)\n",
    "# Vx = T.dot(Vxt, kf)\n",
    "Vx = T.dot(Xstim, k)\n",
    "# Vx has to be promoted to a matrix for structured_dot to work\n",
    "Vi = sparse.structured_dot(M, T.shape_padright(Vx))\n",
    "H = T.dot(Xspke, h).T\n",
    "mu = Vi - H - dc\n",
    "ll = T.exp(mu).sum() * dt - mu[spkx, spky].sum()\n",
    "dL = T.grad(ll, w)\n",
    "# arbitrary vector for hessian-vector product\n",
    "v = T.vector('v')\n",
    "ddLv = T.grad(T.sum(dL * v), w)\n",
    "\n",
    "fVb = function([w], Vx)\n",
    "fHb = function([w], H)\n",
    "fLb = function([w], ll)\n",
    "fgradb = function([w], dL)\n",
    "fhessb = function([w, v], ddLv)"
   ]
  },
  {
   "cell_type": "code",
   "execution_count": null,
   "metadata": {},
   "outputs": [],
   "source": [
    "w2 = np.r_[0, 0, 0, k0t.squeeze(), k0f.squeeze()]\n",
    "%time w3 =  op.fmin_ncg(fLb, w2, fgradb, fhess_p=fhessb, maxiter=100)"
   ]
  },
  {
   "cell_type": "code",
   "execution_count": null,
   "metadata": {},
   "outputs": [],
   "source": [
    "print(w3[:3])\n",
    "w3_kt = w3[3:(3+nkt)]\n",
    "w3_kf = w3[(3+nkt):]\n",
    "rf_bl = np.outer(w3_kf, w3_kt)\n",
    "plt.subplot(211).imshow(strf.from_basis(rf_bl, kcosbas), cmap='jet', aspect='auto')\n",
    "plt.subplot(212).imshow(np.fliplr(k1), cmap='jet', aspect='auto')"
   ]
  },
  {
   "cell_type": "code",
   "execution_count": null,
   "metadata": {},
   "outputs": [],
   "source": []
  }
 ],
 "metadata": {
  "git": {
   "suppress_outputs": true
  },
  "kernelspec": {
   "display_name": "dstrf",
   "language": "python",
   "name": "dstrf"
  },
  "language_info": {
   "codemirror_mode": {
    "name": "ipython",
    "version": 3
   },
   "file_extension": ".py",
   "mimetype": "text/x-python",
   "name": "python",
   "nbconvert_exporter": "python",
   "pygments_lexer": "ipython3",
   "version": "3.5.4"
  }
 },
 "nbformat": 4,
 "nbformat_minor": 2
}