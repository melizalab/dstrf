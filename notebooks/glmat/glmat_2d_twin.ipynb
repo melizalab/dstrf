{
 "cells": [
  {
   "cell_type": "markdown",
   "metadata": {},
   "source": [
    "## GLMAT: 2D kernel"
   ]
  },
  {
   "cell_type": "code",
   "execution_count": null,
   "metadata": {},
   "outputs": [],
   "source": [
    "from __future__ import print_function, division\n",
    "import os\n",
    "import numpy as np\n",
    "import scipy as sp\n",
    "from numba import jit, guvectorize\n",
    "import mat_neuron.core as matmodel\n",
    "\n",
    "# plotting packages\n",
    "%matplotlib inline\n",
    "import matplotlib.pyplot as plt # plotting functions\n",
    "import seaborn as sns           # data visualization package\n",
    "sns.set_style(\"whitegrid\")"
   ]
  },
  {
   "cell_type": "code",
   "execution_count": null,
   "metadata": {},
   "outputs": [],
   "source": [
    "# model parameters: (\u03b11, \u03b12, \u03c9, \u03c41, \u03c42, tref)\n",
    "matparams = np.asarray([100, 2, 7, 10, 200, 2], dtype='d')\n",
    "model_dt = 0.5\n",
    "\n",
    "# data parameters\n",
    "duration = 40000\n",
    "n_samples = int(duration / model_dt)\n",
    "n_assim = 3\n",
    "n_test = 0\n",
    "\n",
    "# assimilation parameters\n",
    "nthreads = 4\n",
    "nwalkers = 2000\n",
    "nsteps = 500\n",
    "matparams_i = [0,1,2]\n",
    "matparams_n = len(matparams_i)\n",
    "matparams_f = matparams[matparams_i]"
   ]
  },
  {
   "cell_type": "code",
   "execution_count": null,
   "metadata": {},
   "outputs": [],
   "source": [
    "# STRF: keep this very simple for proof of principle\n",
    "stim_dt = 10.0\n",
    "nfreq = 30\n",
    "ntau  = 30\n",
    "\n",
    "from scipy.signal import resample\n",
    "filts = np.load('../../filters.npz')\n",
    "print(filts.keys())\n",
    "k1 = resample(filts['bbm'], nfreq, axis=0)[:,:ntau] * 5\n",
    "\n",
    "def filter_stimulus(S, k1, upsample=None):\n",
    "    nf, nt = S.shape\n",
    "    X = np.zeros(nt)\n",
    "    for i in range(nf):\n",
    "        X += np.convolve(S[i], k1[i], mode=\"same\")\n",
    "    if upsample is not None:\n",
    "        t = np.arange(X.size)\n",
    "        tu = np.arange(0, X.size, 1 / upsample)\n",
    "        return np.interp(tu, t, X)\n",
    "    else:\n",
    "        return X\n",
    "\n",
    "sns.heatmap(k1)\n"
   ]
  },
  {
   "cell_type": "code",
   "execution_count": null,
   "metadata": {},
   "outputs": [],
   "source": [
    "# generate some random data to fit\n",
    "np.random.seed(1)\n",
    "stim_dt = 10.0\n",
    "upsample = int(stim_dt / model_dt)\n",
    "data = []\n",
    "stim = np.random.randn(nfreq, int(n_samples / (stim_dt / model_dt)))\n",
    "stim[:,:100] = 0\n",
    "plt.imshow(stim)"
   ]
  },
  {
   "cell_type": "code",
   "execution_count": null,
   "metadata": {},
   "outputs": [],
   "source": [
    "@jit\n",
    "def predict_spikes(V, params, dt):\n",
    "    N = V.size\n",
    "    S = np.zeros(N, dtype='i')\n",
    "    P = np.zeros(N, dtype='d')\n",
    "    R = np.random.uniform(size=N)\n",
    "    omega = params[2]\n",
    "    A1 = np.exp(-dt / params[3])\n",
    "    A2 = np.exp(-dt / params[4])\n",
    "    i_refrac = int(params[5] / dt)\n",
    "    H1 = H2 = 0\n",
    "    iref = 0\n",
    "    for i in range(N):\n",
    "        Vt = V[i]\n",
    "        H1 *= A1\n",
    "        H2 *= A2\n",
    "        p = np.exp(Vt - H1 - H2 - omega) * dt\n",
    "        if i > iref and p > R[i]:\n",
    "            H1 += params[0]\n",
    "            H2 += params[1]\n",
    "            iref = i + i_refrac\n",
    "            S[i] = 1\n",
    "    return S\n",
    "\n",
    "\n",
    "@jit\n",
    "def lci_poisson(V, params, spikes, dt):\n",
    "    N = V.size\n",
    "    lp = 0\n",
    "    omega = params[2]\n",
    "    A1 = np.exp(-dt / params[3])\n",
    "    A2 = np.exp(-dt / params[4])\n",
    "    H1 = H2 = 0\n",
    "    for i in range(N):\n",
    "        Vt = V[i]\n",
    "        H1 *= A1\n",
    "        H2 *= A2\n",
    "        mu = Vt - H1 - H2 - omega\n",
    "        lp += spikes[i] * mu - dt * np.exp(mu)\n",
    "        if not np.isfinite(lp):\n",
    "            return np.inf\n",
    "        if spikes[i]:\n",
    "            H1 += params[0]\n",
    "            H2 += params[1]\n",
    "    return lp\n",
    "        \n",
    "V = filter_stimulus(stim, k1, upsample)\n",
    "for i in range(n_assim + n_test):\n",
    "    spikes = predict_spikes(V, matparams, model_dt)\n",
    "    lp = lci_poisson(V, matparams, spikes, model_dt)\n",
    "    z = np.nonzero(spikes)[0]\n",
    "    d = {\"V\": V,\n",
    "         \"duration\": duration,\n",
    "         \"spike_t\": z, \n",
    "         \"spike_v\": spikes,\n",
    "         \"lci\": lp\n",
    "         }\n",
    "    data.append(d)\n",
    "\n",
    "# split into assimilation and test sets\n",
    "assim_data = data[:n_assim]\n",
    "test_data = data[n_assim:]"
   ]
  },
  {
   "cell_type": "code",
   "execution_count": null,
   "metadata": {},
   "outputs": [],
   "source": [
    "ax1 = plt.subplot(211)\n",
    "ax2 = plt.subplot(212)\n",
    "for i, d in enumerate(data):\n",
    "    ax1.plot(data[0][\"V\"])\n",
    "    ax2.vlines(d[\"spike_t\"], i, i + 0.5)\n",
    "ax1.set_xlim(0, 8000)\n",
    "ax2.set_xlim(0, 8000)\n",
    "sum(d[\"lci\"] for d in data)\n",
    "len(data[0][\"spike_t\"])"
   ]
  },
  {
   "cell_type": "code",
   "execution_count": null,
   "metadata": {},
   "outputs": [],
   "source": [
    "# estimate parameters using emcee\n",
    "from neurofit import priors, costs, utils, startpos\n",
    "import emcee\n",
    "\n",
    "mat_prior = priors.joint_independent(\n",
    "                [ priors.uniform(-50,  200),\n",
    "                  priors.uniform(-5,   10),\n",
    "                  priors.uniform( 0,  20),\n",
    "                ])\n",
    "startparams = np.asarray([[-50, 200],\n",
    "                          [-5, 10],\n",
    "                          [0, 20],\n",
    "                         ], dtype='d')\n",
    "\n",
    "# lasso prior on RF parameters\n",
    "rf_lambda = 1.0\n",
    "\n",
    "# this is the local copy of the parameters that we'll update in each step\n",
    "mparams = matparams.copy()\n",
    "rfparams = k1.copy().flatten()\n",
    "\n",
    "def lnpost_dyn(theta):\n",
    "    \"\"\"Posterior probability for dynamical parameters\"\"\"\n",
    "    from mat_neuron._model import predict_adaptation\n",
    "    mparams[matparams_i] = theta[:matparams_n]\n",
    "    rfparams[:] = theta[matparams_n:]\n",
    "    rf_prior = -np.sum(np.abs(theta)) * rf_lambda\n",
    "    ll = mat_prior(theta[:matparams_n]) + rf_prior\n",
    "    if not np.isfinite(ll):\n",
    "        return -np.inf\n",
    "    lp = 0\n",
    "    V = filter_stimulus(stim, rfparams.reshape(nfreq, ntau), upsample)\n",
    "    for d in assim_data:\n",
    "        #H = predict_adaptation(matstate, mparams, d[\"spike_v\"], model_dt)\n",
    "        lp += lci_poisson(V, mparams, d[\"spike_v\"], model_dt)\n",
    "    return ll + lp        "
   ]
  },
  {
   "cell_type": "code",
   "execution_count": null,
   "metadata": {},
   "outputs": [],
   "source": [
    "# theoretically this is as good as it can get\n",
    "theta_true = np.concatenate([matparams_f, k1.flatten()])\n",
    "print(\"lnpost of p_true: {}\".format(lnpost_dyn(theta_true)))\n",
    "# and this is our initial state\n",
    "p0 = np.concatenate([startpos.uniform_independent(nwalkers, startparams[:,0], startparams[:,1]),\n",
    "                     startpos.normal_independent(nwalkers, k1.flatten(), [0.1] * k1.size)],\n",
    "                   axis=1)\n",
    "theta_0 = np.median(p0, 0)\n",
    "print(\"lnpost of p0 median: {}\".format(lnpost_dyn(theta_0)))\n",
    "%timeit lnpost_dyn(theta_true)\n",
    "%time for theta_0 in p0: lnpost_dyn(theta_0)"
   ]
  },
  {
   "cell_type": "code",
   "execution_count": null,
   "metadata": {},
   "outputs": [],
   "source": [
    "sampler = emcee.EnsembleSampler(nwalkers, theta_true.size, lnpost_dyn, threads=nthreads)\n",
    "tracker = utils.convergence_tracker(nsteps, 25)\n",
    "\n",
    "for pos, prob, _ in tracker(sampler.sample(p0, iterations=nsteps, storechain=False)): \n",
    "    continue"
   ]
  },
  {
   "cell_type": "code",
   "execution_count": null,
   "metadata": {},
   "outputs": [],
   "source": [
    "print(\"lnpost of p median: {}\".format(np.median(prob)))\n",
    "print(\"average acceptance fraction: {}\".format(sampler.acceptance_fraction.mean()))\n",
    "theta = np.median(pos, 0)\n",
    "mparams[matparams_i] = theta[:matparams_n]\n",
    "rfparams[:] = theta[matparams_n:]\n",
    "plt.subplot(121)\n",
    "sns.heatmap(k1)\n",
    "plt.subplot(122)\n",
    "sns.heatmap(rfparams.reshape(nfreq, ntau))\n",
    "print(matparams_f)\n",
    "print(theta[:matparams_n])"
   ]
  },
  {
   "cell_type": "code",
   "execution_count": null,
   "metadata": {},
   "outputs": [],
   "source": [
    "from corner import corner\n",
    "sns.set_style(\"whitegrid\")\n",
    "\n",
    "mpos = pos[:,:matparams_n]\n",
    "matlabs = ['a1','a2','b','w', 'R']\n",
    "c = corner(mpos,\n",
    "           range=[sp for sp in startparams],\n",
    "       bins=50, smooth=2,smooth1d=0,\n",
    "       labels=matlabs,\n",
    "       truths=matparams_f)"
   ]
  },
  {
   "cell_type": "code",
   "execution_count": null,
   "metadata": {},
   "outputs": [],
   "source": [
    "# see how well predictions line up\n",
    "d = assim_data[0]\n",
    "Vpred = filter_stimulus(stim, rfparams, 10, upsample)\n",
    "\n",
    "#Y, S = matmodel.predict(matstate, mparams, I, model_dt, upsample=upsample, stochastic=True)\n",
    "plt.plot(d[\"V\"][:4000])\n",
    "plt.plot(Vpred[:4000])"
   ]
  },
  {
   "cell_type": "code",
   "execution_count": null,
   "metadata": {},
   "outputs": [],
   "source": [
    "for i, d in enumerate(data):\n",
    "    plt.vlines(d[\"spike_t\"], i, i + 0.5, 'r')\n",
    "\n",
    "for i in range(len(data), len(data) + 10):\n",
    "    S = predict_spikes(Vpred, mparams, model_dt, upsample=1)\n",
    "    spk_t = S.nonzero()[0]\n",
    "    plt.vlines(spk_t, i, i + 0.5)\n",
    "\n",
    "plt.xlim(0, 10000)"
   ]
  },
  {
   "cell_type": "code",
   "execution_count": null,
   "metadata": {},
   "outputs": [],
   "source": []
  }
 ],
 "metadata": {
  "git": {
   "suppress_outputs": true
  },
  "kernelspec": {
   "display_name": "dstrf",
   "language": "python",
   "name": "dstrf"
  },
  "language_info": {
   "codemirror_mode": {
    "name": "ipython",
    "version": 3
   },
   "file_extension": ".py",
   "mimetype": "text/x-python",
   "name": "python",
   "nbconvert_exporter": "python",
   "pygments_lexer": "ipython3",
   "version": "3.5.4"
  }
 },
 "nbformat": 4,
 "nbformat_minor": 2
}