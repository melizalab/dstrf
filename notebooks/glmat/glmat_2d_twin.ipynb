{
 "cells": [
  {
   "cell_type": "markdown",
   "metadata": {},
   "source": [
    "## GLMAT: 2D kernel, ML estimation"
   ]
  },
  {
   "cell_type": "code",
   "execution_count": null,
   "metadata": {},
   "outputs": [],
   "source": [
    "from __future__ import print_function, division\n",
    "import os\n",
    "import sys\n",
    "import numpy as np\n",
    "\n",
    "import mat_neuron._model as mat\n",
    "from dstrf import strf, mle\n",
    "\n",
    "# plotting packages\n",
    "%matplotlib inline\n",
    "import matplotlib.pyplot as plt # plotting functions\n",
    "import seaborn as sns           # data visualization package\n",
    "sns.set_style(\"whitegrid\")"
   ]
  },
  {
   "cell_type": "code",
   "execution_count": null,
   "metadata": {},
   "outputs": [],
   "source": [
    "# model parameters: (\u03c9, \u03b11, \u03b12, \u03c41, \u03c42, tref)\n",
    "matparams = np.asarray([7, 100, 2, 10, 200, 2], dtype='d')\n",
    "model_dt = 0.5\n",
    "\n",
    "# data parameters\n",
    "duration = 400000\n",
    "n_samples = int(duration / model_dt)\n",
    "n_assim = 1\n",
    "n_test = 0"
   ]
  },
  {
   "cell_type": "code",
   "execution_count": null,
   "metadata": {},
   "outputs": [],
   "source": [
    "# STRF: keep this very simple for proof of principle\n",
    "stim_dt = 10.0\n",
    "nfreq = 30\n",
    "ntau  = 30\n",
    "\n",
    "from scipy.signal import resample\n",
    "filts = np.load('../../filters.npz')\n",
    "print(filts.keys())\n",
    "k1 = resample(filts['bbs'], nfreq, axis=0)[:,:ntau] * 5\n",
    "\n",
    "plt.imshow(k1, cmap='jet', aspect='auto')"
   ]
  },
  {
   "cell_type": "code",
   "execution_count": null,
   "metadata": {},
   "outputs": [],
   "source": [
    "# generate some random data to fit\n",
    "np.random.seed(1)\n",
    "stim_dt = 10.0\n",
    "upsample = int(stim_dt / model_dt)\n",
    "stim = np.random.randn(nfreq, int(n_samples / (stim_dt / model_dt)))\n",
    "stim[:,:100] = 0\n",
    "plt.imshow(stim, aspect='auto')"
   ]
  },
  {
   "cell_type": "code",
   "execution_count": null,
   "metadata": {},
   "outputs": [],
   "source": [
    "def filter_stimulus(S, kernel):\n",
    "    \"\"\"Convolve spectrogram S with spectrotemporal kernel. Kernel should not be flipped.\"\"\"\n",
    "    nf, nt = S.shape\n",
    "    X = np.zeros(nt)\n",
    "    for i in range(nf):\n",
    "        X += np.convolve(S[i], kernel[i], mode=\"full\")[:nt]\n",
    "    return X\n",
    "\n",
    "def predict_spikes(V, params, dt, upsample):\n",
    "    omega, a1, a2, t1, t2, tref = params\n",
    "    return mat.predict_poisson(V - omega, (a1, a2), (t1, t2), tref, \n",
    "                               dt, upsample)"
   ]
  },
  {
   "cell_type": "code",
   "execution_count": null,
   "metadata": {},
   "outputs": [],
   "source": [
    "data = []\n",
    "V = filter_stimulus(stim, k1)\n",
    "for i in range(n_assim + n_test):\n",
    "    spikes = predict_spikes(V, matparams, model_dt, upsample)\n",
    "    H = mat.adaptation(spikes, matparams[3:5], model_dt)\n",
    "    z = np.nonzero(spikes)[0]\n",
    "    d = {\"H\": H,\n",
    "         \"duration\": duration,\n",
    "         \"spike_t\": z, \n",
    "         \"spike_v\": spikes,\n",
    "        }\n",
    "    data.append(d)\n",
    "\n",
    "# split into assimilation and test sets\n",
    "assim_data = data[:n_assim]\n",
    "test_data = data[n_assim:]"
   ]
  },
  {
   "cell_type": "code",
   "execution_count": null,
   "metadata": {},
   "outputs": [],
   "source": [
    "ax1 = plt.subplot(211)\n",
    "ax2 = plt.subplot(212)\n",
    "ax1.plot(V)\n",
    "for i, d in enumerate(data):\n",
    "    ax2.vlines(d[\"spike_t\"], i, i + 0.5)\n",
    "ax1.set_xlim(0, 8000 // upsample)\n",
    "ax2.set_xlim(0, 8000)\n",
    "len(data[0][\"spike_t\"])"
   ]
  },
  {
   "cell_type": "markdown",
   "metadata": {},
   "source": [
    "## Estimate parameters"
   ]
  },
  {
   "cell_type": "code",
   "execution_count": null,
   "metadata": {},
   "outputs": [],
   "source": [
    "# initial guess of parameters using ML\n",
    "spikes = np.stack([d[\"spike_v\"] for d in data], axis=1)\n",
    "mlest = mle.estimator(stim, spikes, ntau, matparams[3:5], stim_dt, model_dt)\n",
    "w0 = mlest.estimate()"
   ]
  },
  {
   "cell_type": "code",
   "execution_count": null,
   "metadata": {},
   "outputs": [],
   "source": [
    "print(w0[:3])\n",
    "rf_est = strf.as_matrix(w0[3:], ntau)\n",
    "plt.subplot(121).imshow(k1, cmap='jet', aspect='auto')\n",
    "plt.subplot(122).imshow(np.fliplr(rf_est), cmap='jet', aspect='auto')"
   ]
  },
  {
   "cell_type": "code",
   "execution_count": null,
   "metadata": {},
   "outputs": [],
   "source": [
    "# estimate parameters using emcee\n",
    "from neurofit import priors, costs, utils, startpos\n",
    "import emcee\n",
    "\n",
    "# assimilation parameters\n",
    "nthreads = 4\n",
    "nwalkers = 2000\n",
    "nsteps = 500\n",
    "\n",
    "mat_prior = priors.joint_independent(\n",
    "                [ priors.uniform( 0,  20),\n",
    "                  priors.uniform(-50,  200),\n",
    "                  priors.uniform(-5,   10),\n",
    "                ])\n",
    "\n",
    "# lasso prior on RF parameters\n",
    "rf_lambda = 1.0\n",
    "\n",
    "def lnpost_dyn(theta):\n",
    "    \"\"\"Posterior probability for dynamical parameters\"\"\"\n",
    "    mparams = theta[:3]\n",
    "    rfparams = theta[3:]\n",
    "    rf_prior = -np.sum(np.abs(rfparams)) * rf_lambda\n",
    "    ll = mat_prior(mparams) + rf_prior\n",
    "    if not np.isfinite(ll):\n",
    "        return -np.inf\n",
    "    lp = mlest.loglike(theta.astype(mlest.dtype))\n",
    "    return ll + lp  "
   ]
  },
  {
   "cell_type": "code",
   "execution_count": null,
   "metadata": {},
   "outputs": [],
   "source": [
    "# theoretically this is as good as it can get\n",
    "theta_true = np.concatenate([matparams[:3], strf.as_vector(np.fliplr(k1))])\n",
    "print(\"lnpost of p_true: {}\".format(lnpost_dyn(theta_true)))\n",
    "# and this is our initial population of walkers\n",
    "p0 = startpos.normal_independent(nwalkers, w0, np.abs(w0) * 0.2)\n",
    "theta_0 = np.median(p0, 0)\n",
    "print(\"lnpost of p0 median: {}\".format(lnpost_dyn(theta_0)))\n",
    "%timeit lnpost_dyn(theta_true)"
   ]
  },
  {
   "cell_type": "code",
   "execution_count": null,
   "metadata": {},
   "outputs": [],
   "source": [
    "sampler = emcee.EnsembleSampler(nwalkers, theta_true.size, lnpost_dyn, threads=nthreads)\n",
    "tracker = utils.convergence_tracker(nsteps, 25)\n",
    "\n",
    "for pos, prob, _ in tracker(sampler.sample(p0, iterations=nsteps, storechain=False)): \n",
    "    continue"
   ]
  },
  {
   "cell_type": "code",
   "execution_count": null,
   "metadata": {},
   "outputs": [],
   "source": []
  }
 ],
 "metadata": {
  "git": {
   "suppress_outputs": true
  },
  "kernelspec": {
   "display_name": "dstrf",
   "language": "python",
   "name": "dstrf"
  },
  "language_info": {
   "codemirror_mode": {
    "name": "ipython",
    "version": 3
   },
   "file_extension": ".py",
   "mimetype": "text/x-python",
   "name": "python",
   "nbconvert_exporter": "python",
   "pygments_lexer": "ipython3",
   "version": "3.5.4"
  }
 },
 "nbformat": 4,
 "nbformat_minor": 2
}