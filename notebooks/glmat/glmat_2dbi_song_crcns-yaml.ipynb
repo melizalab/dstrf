{
 "cells": [
  {
   "cell_type": "markdown",
   "metadata": {},
   "source": [
    "## GLMAT: 2D kernel, song stimuli, ML+MC estimation\n",
    "\n",
    "This notebook demonstrates the full assimilation technique using song stimuli. The song waveform is processed to a 2D spectrogram, then convolved with a 2D STRF to produce the \"voltage\" of the GLMAT model. The adaptation \"current\" is calculated by convolving the spike trains with two exponential kernels. The goal of the assimilation is to estimate the parameters of the RF and the adaptation kernels. The parameter count of the RF is minimized by using a low-rank approximation (i.e., an outer product of two vectors) and by projecting time into a basis set of raised cosine filters that are spaced exponentially.\n",
    "\n",
    "The approach is to use elastic-net penalized maximum-likelihood estimation to get a first guess at the parameters. The regularization parameters and rank are selected using cross-validation. Then MCMC is used to sample the posterior distribution of the parameters."
   ]
  },
  {
   "cell_type": "code",
<<<<<<< HEAD
   "execution_count": 2,
=======
   "execution_count": null,
>>>>>>> 9aeed779c08d0882474ab3eafc66e375a7dcccf0
   "metadata": {},
   "outputs": [],
   "source": [
    "from __future__ import print_function, division\n",
    "import os\n",
    "import sys\n",
    "import imp\n",
    "import numpy as np\n",
    "\n",
    "import yaml\n",
    "\n",
    "import mat_neuron._model as mat\n",
    "from dstrf import strf, mle, io, performance, spikes\n",
    "\n",
    "# plotting packages\n",
    "%matplotlib inline\n",
    "import matplotlib as mpl\n",
    "import matplotlib.pyplot as plt # plotting functions\n",
    "import seaborn as sns           # data visualization package\n",
    "sns.set_style(\"whitegrid\")\n",
    "mpl.rcParams['image.origin'] = 'lower'\n",
    "mpl.rcParams['image.aspect'] = 'auto'\n",
    "mpl.rcParams['image.cmap'] = 'jet'"
   ]
  },
  {
   "cell_type": "markdown",
   "metadata": {},
   "source": [
    "The MAT model is governed by a small number of parameters: the spike threshold (omega), the amplitudes of the adaptation kernels (alpha_1, alpha_2), the time constants of the adaptation kernels (tau_1, tau_2), and the absolute refactory period. In addition, a function must be chosen for spike generation. The 'softplus' function, log(1 + exp(mu)), is a good choice because it doesn't saturate as readily when mu is large. Because there can only be one spike per bin, saturation causes the estimated parameters to be less than the true parameters."
   ]
  },
  {
   "cell_type": "code",
<<<<<<< HEAD
   "execution_count": 5,
=======
   "execution_count": null,
>>>>>>> 9aeed779c08d0882474ab3eafc66e375a7dcccf0
   "metadata": {},
   "outputs": [],
   "source": [
    "with open(\"../../scripts/crcns_quick.yml\",\"r\") as yf:\n",
    "    config = yaml.load(yf)\n",
    "    \n",
    "# set variables based on `config`\n",
    "ntaus = len(config[\"mat\"][\"taus\"])\n",
    "mat_fixed = np.asanyarray(config[\"mat\"][\"taus\"] + [config[\"mat\"][\"refract\"]],dtype='d')\n",
    "upsample = int(config[\"strf\"][\"stim_dt\"] / config[\"mat\"][\"model_dt\"])\n",
    "kcosbas = strf.cosbasis(config[\"strf\"][\"ntau\"], config[\"strf\"][\"ntbas\"])\n",
    "ntbas = kcosbas.shape[1]"
   ]
  },
  {
   "cell_type": "markdown",
   "metadata": {},
   "source": [
    "Here we load some data from a real neural recording from the CRCNS dataset. To simplify the model, we concatenate the stimuli, setting padding between the stimuli sufficient to capture any offset responses. Note that the spike responses are convolved with the adaptation kernels before merging stimuli so that we don't inadvertently carry over spike history from trials that are not truly contiguous."
   ]
  },
  {
   "cell_type": "code",
   "execution_count": null,
   "metadata": {},
   "outputs": [
    {
     "ename": "IndexError",
     "evalue": "list index out of range",
     "output_type": "error",
     "traceback": [
      "\u001b[0;31m---------------------------------------------------------------------------\u001b[0m",
      "\u001b[0;31mIndexError\u001b[0m                                Traceback (most recent call last)",
      "\u001b[0;32m<ipython-input-6-19cfe2f8fdaa>\u001b[0m in \u001b[0;36m<module>\u001b[0;34m()\u001b[0m\n\u001b[1;32m     19\u001b[0m \u001b[0;34m\u001b[0m\u001b[0m\n\u001b[1;32m     20\u001b[0m \u001b[0;31m# split into assimilation and test sets and merge stimuli\u001b[0m\u001b[0;34m\u001b[0m\u001b[0;34m\u001b[0m\u001b[0m\n\u001b[0;32m---> 21\u001b[0;31m \u001b[0massim_data\u001b[0m \u001b[0;34m=\u001b[0m \u001b[0mio\u001b[0m\u001b[0;34m.\u001b[0m\u001b[0mmerge_data\u001b[0m\u001b[0;34m(\u001b[0m\u001b[0mdata\u001b[0m\u001b[0;34m[\u001b[0m\u001b[0;34m:\u001b[0m\u001b[0;34m-\u001b[0m\u001b[0mn_test\u001b[0m\u001b[0;34m]\u001b[0m\u001b[0;34m)\u001b[0m\u001b[0;34m\u001b[0m\u001b[0m\n\u001b[0m\u001b[1;32m     22\u001b[0m \u001b[0mtest_data\u001b[0m \u001b[0;34m=\u001b[0m \u001b[0mio\u001b[0m\u001b[0;34m.\u001b[0m\u001b[0mmerge_data\u001b[0m\u001b[0;34m(\u001b[0m\u001b[0mdata\u001b[0m\u001b[0;34m[\u001b[0m\u001b[0;34m-\u001b[0m\u001b[0mn_test\u001b[0m\u001b[0;34m:\u001b[0m\u001b[0;34m]\u001b[0m\u001b[0;34m)\u001b[0m\u001b[0;34m\u001b[0m\u001b[0m\n",
      "\u001b[0;32m/scratch/tyler/dstrf/dstrf/io.py\u001b[0m in \u001b[0;36mmerge_data\u001b[0;34m(seq)\u001b[0m\n\u001b[1;32m    223\u001b[0m     \u001b[0;32mimport\u001b[0m \u001b[0mscipy\u001b[0m\u001b[0;34m.\u001b[0m\u001b[0msparse\u001b[0m \u001b[0;32mas\u001b[0m \u001b[0msps\u001b[0m\u001b[0;34m\u001b[0m\u001b[0m\n\u001b[1;32m    224\u001b[0m     \u001b[0mstim_dts\u001b[0m \u001b[0;34m=\u001b[0m \u001b[0;34m[\u001b[0m\u001b[0md\u001b[0m\u001b[0;34m[\u001b[0m\u001b[0;34m\"stim_dt\"\u001b[0m\u001b[0;34m]\u001b[0m \u001b[0;32mfor\u001b[0m \u001b[0md\u001b[0m \u001b[0;32min\u001b[0m \u001b[0mseq\u001b[0m\u001b[0;34m]\u001b[0m\u001b[0;34m\u001b[0m\u001b[0m\n\u001b[0;32m--> 225\u001b[0;31m     \u001b[0mstim_dt\u001b[0m \u001b[0;34m=\u001b[0m \u001b[0mstim_dts\u001b[0m\u001b[0;34m[\u001b[0m\u001b[0;36m0\u001b[0m\u001b[0;34m]\u001b[0m\u001b[0;34m\u001b[0m\u001b[0m\n\u001b[0m\u001b[1;32m    226\u001b[0m     \u001b[0;32mif\u001b[0m \u001b[0;32mnot\u001b[0m \u001b[0mnp\u001b[0m\u001b[0;34m.\u001b[0m\u001b[0mall\u001b[0m\u001b[0;34m(\u001b[0m\u001b[0mnp\u001b[0m\u001b[0;34m.\u001b[0m\u001b[0mequal\u001b[0m\u001b[0;34m(\u001b[0m\u001b[0mstim_dts\u001b[0m\u001b[0;34m,\u001b[0m \u001b[0mstim_dt\u001b[0m\u001b[0;34m)\u001b[0m\u001b[0;34m)\u001b[0m\u001b[0;34m:\u001b[0m\u001b[0;34m\u001b[0m\u001b[0m\n\u001b[1;32m    227\u001b[0m         \u001b[0;32mraise\u001b[0m \u001b[0mValueError\u001b[0m\u001b[0;34m(\u001b[0m\u001b[0;34m\"not all stimuli have the same sampling rate\"\u001b[0m\u001b[0;34m)\u001b[0m\u001b[0;34m\u001b[0m\u001b[0m\n",
      "\u001b[0;31mIndexError\u001b[0m: list index out of range"
     ]
    }
   ],
   "source": [
    "pad_after = config[\"strf\"][\"ntau\"] * config[\"strf\"][\"stim_dt\"] # how much to pad after offset\n",
    "\n",
    "# load stimuli and responses\n",
    "# cell = \"oo1920_6_B\"   # L2a\n",
    "# cell = \"yg0616_4_B\"   # CM\n",
    "# cell = \"pipu0617_4_B\"    # Problem Neuron\n",
    "cell = \"g0869_10\" #OV\n",
    "\n",
    "data = io.load_crcns(cell, config[\"data\"][\"stim_type\"], config[\"data\"][\"root\"], \n",
    "                     config[\"strf\"][\"spec_window\"], config[\"strf\"][\"stim_dt\"], \n",
    "                     f_min=config[\"strf\"][\"f_min\"], \n",
    "                     f_max=config[\"strf\"][\"f_max\"], f_count=config[\"strf\"][\"nfreq\"], \n",
    "                     compress=config[\"strf\"][\"spec_compress\"], \n",
    "                     gammatone=config[\"strf\"][\"gammatone\"])\n",
    "io.pad_stimuli(data, config[\"data\"][\"pad_before\"], pad_after, fill_value=0.0)\n",
    "io.preprocess_spikes(data, config[\"mat\"][\"model_dt\"], config[\"mat\"][\"taus\"])\n",
    "\n",
    "n_test = int(config[\"data\"][\"p_test\"] * len(data))\n",
    "\n",
    "# split into assimilation and test sets and merge stimuli\n",
    "assim_data = io.merge_data(data[:-n_test])\n",
    "test_data = io.merge_data(data[-n_test:])"
   ]
  },
  {
   "cell_type": "code",
   "execution_count": null,
   "metadata": {},
   "outputs": [],
   "source": [
    "sns.heatmap(stim)"
   ]
  },
  {
   "cell_type": "code",
   "execution_count": null,
   "metadata": {},
   "outputs": [],
   "source": [
    "stim = assim_data[\"stim\"]\n",
    "plt.subplot(311).imshow(assim_data[\"stim\"], extent=(0, assim_data[\"duration\"], \n",
    "                                            config[\"strf\"][\"f_min\"], config[\"strf\"][\"f_max\"]))\n",
    "t_spike = np.linspace(0, assim_data[\"duration\"], assim_data[\"spike_v\"].shape[0])\n",
    "plt.subplot(312).plot(t_spike, assim_data[\"spike_v\"].sum(1))\n",
    "ax = plt.subplot(313)\n",
    "for i, spk in enumerate(assim_data[\"spike_t\"]):\n",
    "    ax.vlines(spk * config[\"mat\"][\"model_dt\"], i, i + 0.5)\n",
    "    ax.plot(t_spike, assim_data[\"spike_h\"][:, :, i])\n",
    "for ax in plt.gcf().axes:\n",
    "    ax.set_xlim(3500, 4500)"
   ]
  },
  {
   "cell_type": "markdown",
   "metadata": {},
   "source": [
    "## Estimate parameters\n",
    "\n",
    "The reg_alpha and reg_lambda parameters set the L1 and L2 penalties for the initial ML estimation. Note that we supply the nonlinearity function to the constructor too, as this determines how the log-likelihood is calculated."
   ]
  },
  {
   "cell_type": "code",
   "execution_count": null,
   "metadata": {},
   "outputs": [],
   "source": [
    "# initial guess of parameters using penalized ML. Note that we provide the cosine basis set to the constructor of\n",
    "# mle.estimator, which causes the design matrix to be in the cosine basis set\n",
    "# we'll do an initial fit with some strong regularization to see if there's an RF. Leave this out of production\n",
    "# NB: This cell sometimes fails in initializing the estimator; just run it again.\n",
    "mlest = mle.mat(assim_data[\"stim\"], kcosbas, assim_data[\"spike_v\"], assim_data[\"spike_h\"],\n",
    "                assim_data[\"stim_dt\"], assim_data[\"spike_dt\"], nlin=config[\"mat\"][\"nlin\"])\n",
    "%time w0 = mlest.estimate(reg_lambda=1e1, reg_alpha=1e1)"
   ]
  },
  {
   "cell_type": "markdown",
   "metadata": {},
   "source": [
    "The regularization parameters (L1/L2 ratio and total penalty) are chosen using cross-validation."
   ]
  },
  {
   "cell_type": "code",
   "execution_count": null,
   "metadata": {},
   "outputs": [],
   "source": [
    "import progressbar\n",
    "from dstrf import crossvalidate\n",
    "\n",
    "#reg_grid = np.logspace(-1, 5, 50)[::-1]\n",
    "l1_ratios = config[\"crossval\"][\"l1_ratios\"] #[0.1, 0.5, 0.7, 0.9, 0.95]\n",
    "reg_grid = np.logspace(config[\"crossval\"][\"logspace_start\"], config[\"crossval\"][\"logspace_end\"], \n",
    "                       config[\"crossval\"][\"logspace_steps\"])[::-1]\n",
    "\n",
    "bar = progressbar.ProgressBar(max_value=2 * len(l1_ratios) * len(reg_grid),\n",
    "                              widgets=[\n",
    "                                ' [', progressbar.Timer(), '] ',\n",
    "                                progressbar.Bar(),\n",
    "                                ' (', progressbar.ETA(), ') ',\n",
    "                            ])\n",
    "\n",
    "i = 0\n",
    "scores = []\n",
    "results = []\n",
    "for krank in (1, 2):\n",
    "    mlest = mle.matfact(assim_data[\"stim\"], kcosbas, krank, assim_data[\"spike_v\"], assim_data[\"spike_h\"],\n",
    "                        assim_data[\"stim_dt\"], assim_data[\"spike_dt\"], nlin=config[\"mat\"][\"nlin\"])\n",
    "    for reg, s, w in crossvalidate.elasticnet(mlest, 4, reg_grid, l1_ratios, avextol=1e-5, disp=False):\n",
    "        i += 1\n",
    "        bar.update(i)\n",
    "        scores.append(s)\n",
    "        results.append((reg, krank, s, w))\n",
    "    \n",
    "best_idx = np.argmax(scores)\n",
    "best = results[best_idx]\n",
    "\n",
    "krank = best[1]\n",
    "rf_alpha, rf_lambda = best[0]\n",
    "w0 = best[3]\n",
    "print(\"best solution: rank={}, alpha={}, lambda={}, loglike={}\".format(krank, rf_alpha, rf_lambda, best[2]))"
   ]
  },
  {
   "cell_type": "code",
   "execution_count": null,
   "metadata": {},
   "outputs": [],
   "source": [
    "print(\"best solution: rank={}, alpha={}, lambda={}, loglike={}\".format(krank, rf_alpha, rf_lambda, best[2]))"
   ]
  },
  {
   "cell_type": "code",
   "execution_count": null,
   "metadata": {},
   "outputs": [],
   "source": [
    "mlest = mle.matfact(assim_data[\"stim\"], kcosbas, krank, assim_data[\"spike_v\"], assim_data[\"spike_h\"],\n",
    "                        assim_data[\"stim_dt\"], assim_data[\"spike_dt\"], \n",
    "                        nlin=config[\"mat\"][\"nlin\"])"
   ]
  },
  {
   "cell_type": "code",
   "execution_count": null,
   "metadata": {},
   "outputs": [],
   "source": [
    "print(w0[:3])\n",
    "rf_sta = strf.as_matrix(mlest.sta(), kcosbas)\n",
    "rf_mle = strf.from_basis(mlest.strf(w0), kcosbas)\n",
    "plt.subplot(221).imshow(rf_sta, extent=(-config[\"strf\"][\"ntau\"], 0, config[\"strf\"][\"f_min\"], config[\"strf\"][\"f_max\"]))\n",
    "plt.title(\"STA\")\n",
    "plt.subplot(222).imshow(rf_mle, extent=(-config[\"strf\"][\"ntau\"], 0, config[\"strf\"][\"f_min\"], config[\"strf\"][\"f_max\"]))\n",
    "plt.title(\"MAP (rank {})\".format(krank))"
   ]
  },
  {
   "cell_type": "code",
   "execution_count": null,
   "metadata": {},
   "outputs": [],
   "source": [
    "mltest = mle.matfact(test_data[\"stim\"], kcosbas, krank, test_data[\"spike_v\"], test_data[\"spike_h\"],\n",
    "                     test_data[\"stim_dt\"], test_data[\"spike_dt\"], nlin=config[\"mat\"][\"nlin\"])\n",
    "\n",
    "n_ppost = 10\n",
    "mat.random_seed(1)\n",
    "t_stim = np.linspace(0, test_data[\"duration\"], test_data[\"stim\"].shape[1])\n",
    "plt.subplot(311).imshow(test_data[\"stim\"], extent=(0, test_data[\"duration\"], \n",
    "                                                   config[\"strf\"][\"f_min\"], config[\"strf\"][\"f_max\"]))\n",
    "V = mltest.V(w0)\n",
    "plt.subplot(312).plot(t_stim, V)\n",
    "ax = plt.subplot(313)\n",
    "for j, spk in enumerate(test_data[\"spike_t\"]):\n",
    "    ax.vlines(spk * config[\"mat\"][\"model_dt\"], j, j + 0.5, 'r')\n",
    "pred = np.zeros_like(test_data[\"spike_v\"])\n",
    "for i in range(n_ppost):\n",
    "    pred[:, i] = mltest.predict(w0, mat_fixed, V)\n",
    "    spk_t = pred[:, i].nonzero()[0]\n",
    "    ax.vlines(spk_t * config[\"mat\"][\"model_dt\"], i + j + 1, i + j + 1.5)\n",
    "pred_psth = spikes.psth(pred, upsample, 1)\n",
    "test_psth = spikes.psth(test_data[\"spike_v\"], upsample, 1)\n",
    "ax.plot(t_stim, test_psth, t_stim, pred_psth)\n",
    "for ax in plt.gcf().axes:\n",
    "    ax.set_xlim(0, 4200)\n",
    "\n",
    "eo = performance.corrcoef(test_data[\"spike_v\"][:,::2], test_data[\"spike_v\"][:,1::2], downsample=upsample, smooth=1)\n",
    "print(\"loglike: {}\".format(-mltest.loglike(w0)))\n",
    "print(\"CC: {}/{}\".format(np.corrcoef(test_psth, pred_psth)[0, 1], eo))\n",
    "print(\"spike count: data = {}, pred = {}\".format(test_data[\"spike_v\"].sum(), pred.sum()))"
   ]
  },
  {
   "cell_type": "code",
   "execution_count": null,
   "metadata": {},
   "outputs": [],
   "source": [
    "import pickle\n",
    "with open('split-test.dat', 'wb') as outfile:\n",
    "    pickle.dump(dict(w0=w0,\n",
    "                  assim_data=assim_data,\n",
    "                  test_data=test_data,\n",
    "                  rf_lambda=rf_lambda,\n",
    "                  rf_alpha=rf_alpha,\n",
    "                 krank=krank,\n",
    "                 mlest=mlest,\n",
    "                  mltest=mltest),\n",
    "                 outfile,protocol=pickle.HIGHEST_PROTOCOL)"
   ]
  },
  {
   "cell_type": "markdown",
   "metadata": {},
   "source": [
    "We'll use the ML estimate to seed the MCMC sampler. We're going to reduce the size of the parameter space by factorizing the RF (i.e., a bilinear approximation). Note that we try to use the mlest object as much as possible to do the calculations rather than reimplement things; however, there can be some significant performance enhancements from an optimized implementation."
   ]
  },
  {
   "cell_type": "code",
   "execution_count": null,
   "metadata": {},
   "outputs": [],
   "source": [
    "# estimate parameters using emcee\n",
    "from neurofit import priors, costs, utils, startpos\n",
    "\n",
    "# the MAT parameters are just bounded between reasonable limits. These may need to be expanded when using real data\"][\n",
    "mat_prior = priors.joint_independent(\n",
    "                [ priors.uniform(config[\"mat\"][\"bounds\"][0][0], config[\"mat\"][\"bounds\"][0][1]),\n",
    "                  priors.uniform(config[\"mat\"][\"bounds\"][1][0], config[\"mat\"][\"bounds\"][1][1]),\n",
    "                  priors.uniform(config[\"mat\"][\"bounds\"][2][0], config[\"mat\"][\"bounds\"][2][1]),\n",
    "                ])\n",
    "\n",
    "# use the regularization parameters from the cross-validation\n",
    "rf_alpha, rf_lambda = best[0]\n",
    "\n",
    "def lnpost(theta):\n",
    "    \"\"\"Posterior probability for dynamical parameters\"\"\"\n",
    "    mparams = theta[:3]\n",
    "    rfparams = theta[3:]\n",
    "    ll = mat_prior(mparams)\n",
    "    if not np.isfinite(ll):\n",
    "        return -np.inf\n",
    "    w = np.r_[mparams, rfparams]\n",
    "    ll -= mlest.loglike(w, rf_lambda, rf_alpha)\n",
    "    return -np.inf if not np.isfinite(ll) else ll\n"
   ]
  },
  {
   "cell_type": "code",
   "execution_count": null,
   "metadata": {},
   "outputs": [],
   "source": [
    "print(\"lnpost of ML estimate: {}\".format(lnpost(w0)))\n",
    "%timeit lnpost(w0)"
   ]
  },
  {
   "cell_type": "code",
   "execution_count": null,
   "metadata": {},
   "outputs": [],
   "source": [
    "tag = \"test\"\n",
    "save_file = saveplace + cell + \"_\" + tag\n",
    "np.savez(saveplace + cell + \"_\" + tag,w0=w0,assim_data=assim_data,test_data=test_data)"
   ]
  },
  {
   "cell_type": "markdown",
   "metadata": {},
   "source": [
    "This code starts the MCMC sampler. We initialize the walkers (chains) in a gaussian around the ML estimate, with standard deviation 2x the absolute value of the best guess. The model converges fairly quickly, but then we let it sample for a while."
   ]
  },
  {
   "cell_type": "code",
   "execution_count": null,
   "metadata": {},
   "outputs": [],
   "source": [
    "import emcee\n",
    "if sys.platform == 'darwin':\n",
    "    config[\"emcee\"][\"nthreads\"] = 1\n",
    "\n",
    "# initialize walkers\n",
    "pos = p0 = startpos.normal_independent(config[\"emcee\"][\"nwalkers\"], w0, np.abs(w0) * 2)\n",
    "# initialize the sampler\n",
    "sampler = emcee.EnsembleSampler(config[\"emcee\"][\"nwalkers\"], w0.size, lnpost, \n",
    "                                threads=config[\"emcee\"][\"nthreads\"])"
   ]
  },
  {
   "cell_type": "code",
   "execution_count": null,
   "metadata": {},
   "outputs": [],
   "source": [
    "# start the sampler\n",
    "tracker = utils.convergence_tracker(config[\"emcee\"][\"nsteps\"], 100)\n",
    "for pos, prob, like in tracker(sampler.sample(pos, iterations=config[\"emcee\"][\"nsteps\"], storechain=True)): \n",
    "    continue"
   ]
  },
  {
   "cell_type": "code",
   "execution_count": null,
   "metadata": {},
   "outputs": [],
   "source": [
    "print(\"lnpost of p median: {}\".format(np.median(prob)))\n",
    "print(\"average acceptance fraction: {}\".format(sampler.acceptance_fraction.mean()))\n",
    "try:\n",
    "    print(\"autocorrelation time: {}\".format(sampler.acor))\n",
    "except:\n",
    "    pass    \n",
    "w1 = np.median(pos, 0)\n",
    "rfparams = w1[3:]\n",
    "rf_map = strf.from_basis(mlest.strf(w0), kcosbas)\n",
    "print(w0[:3])\n",
    "print(w1[:3])\n",
    "plt.subplot(221)\n",
    "plt.imshow(rf_mle, extent=(0, config[\"strf\"][\"ntau\"], config[\"strf\"][\"f_min\"], config[\"strf\"][\"f_max\"]))\n",
    "plt.title(\"ML estimate\")\n",
    "plt.subplot(222)\n",
    "plt.imshow(rf_map, extent=(0, config[\"strf\"][\"ntau\"], config[\"strf\"][\"f_min\"], config[\"strf\"][\"f_max\"]))\n",
    "plt.title(\"MAP estimate\")"
   ]
  },
  {
   "cell_type": "code",
   "execution_count": null,
   "metadata": {},
   "outputs": [],
   "source": [
    "from corner import corner\n",
    "sns.set_style(\"whitegrid\")\n",
    "\n",
    "mpos = pos[:,:3]\n",
    "matlabs = ['w','a1','a2',]\n",
    "c = corner(mpos,\n",
    "       bins=50, smooth=2,smooth1d=0,\n",
    "       labels=matlabs,)"
   ]
  },
  {
   "cell_type": "code",
   "execution_count": null,
   "metadata": {},
   "outputs": [],
   "source": [
    "n_ppost = 10\n",
    "mat.random_seed(1)\n",
    "t_stim = np.linspace(0, test_data[\"duration\"], test_data[\"stim\"].shape[1])\n",
    "plt.subplot(311).imshow(test_data[\"stim\"], extent=(0, test_data[\"duration\"], \n",
    "                                                config[\"strf\"][\"f_min\"], config[\"strf\"][\"f_max\"]))\n",
    "vax = plt.subplot(312)\n",
    "ax = plt.subplot(313)\n",
    "for j, spk in enumerate(test_data[\"spike_t\"]):\n",
    "    ax.vlines(spk * config[\"mat\"][\"model_dt\"], j, j + 0.5, 'r')\n",
    "    \n",
    "samples = np.random.permutation(config[\"emcee\"][\"nwalkers\"])[:n_ppost]\n",
    "pred = np.zeros((test_data[\"spike_v\"].shape[0], n_ppost), dtype=test_data[\"spike_v\"].dtype)\n",
    "for i, idx in enumerate(samples):\n",
    "    mparams = pos[idx]\n",
    "    V_mc = mltest.V(mparams)\n",
    "    vax.plot(t_stim, V_mc)\n",
    "    pred[:, i] = mltest.predict(mparams, mat_fixed, V_mc)\n",
    "    spk_t = pred[:, i].nonzero()[0]\n",
    "    ax.vlines(spk_t * config[\"mat\"][\"model_dt\"], i + j + 1, i + j + 1.5)\n",
    "pred_psth = spikes.psth(pred, upsample, 1)\n",
    "test_psth = spikes.psth(test_data[\"spike_v\"], upsample, 1)\n",
    "ax.plot(t_stim, test_psth, t_stim, pred_psth)\n",
    "for ax in plt.gcf().axes:\n",
    "    ax.set_xlim(0, 4200)\n",
    "\n",
    "psth_corr = np.corrcoef(test_psth, pred_psth)[0, 1]\n",
    "eo = performance.corrcoef(test_data[\"spike_v\"][:,::2], test_data[\"spike_v\"][:,1::2], upsample, 1)\n",
    "print(\"loglike: {:.3f}\".format(-mltest.loglike(w1)))\n",
    "print(\"CC: {:.3f}/{:.3f} ({:.3f})\".format(psth_corr, eo, psth_corr/eo))\n",
    "print(\"spike count: data = {}, pred = {}\".format(test_data[\"spike_v\"].sum() / config[\"data\"][\"n_trials\"], pred.sum() / n_ppost))"
   ]
  }
 ],
 "metadata": {
  "git": {
   "suppress_outputs": true
  },
  "kernelspec": {
   "display_name": "Python 3",
   "language": "python",
   "name": "python3"
  },
  "language_info": {
   "codemirror_mode": {
    "name": "ipython",
    "version": 3
   },
   "file_extension": ".py",
   "mimetype": "text/x-python",
   "name": "python",
   "nbconvert_exporter": "python",
   "pygments_lexer": "ipython3",
   "version": "3.5.3"
  }
 },
 "nbformat": 4,
 "nbformat_minor": 2
}