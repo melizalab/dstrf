{
 "cells": [
  {
   "cell_type": "markdown",
   "metadata": {},
   "source": [
    "## GLMAT: 2D kernel, song stimuli, ML+MC estimation\n",
    "\n",
    "This notebook demonstrates the full assimilation technique using song stimuli. The song waveform is processed to a 2D spectrogram, then convolved with a 2D STRF to produce the \"voltage\" of the GLMAT model. The adaptation \"current\" is calculated by convolving the spike trains with two exponential kernels. The goal of the assimilation is to estimate the parameters of the RF and the adaptation kernels. The parameter count of the RF is minimized by using a low-rank approximation (i.e., an outer product of two vectors) and by projecting time into a basis set of raised cosine filters that are spaced exponentially.\n",
    "\n",
    "The approach is to use elastic-net penalized maximum-likelihood estimation to get a first guess at the parameters. This model uses the time-compression basis set but does not factorize the RF. The next step involves factorizing the RF to further reduce the parameters and then using MCMC to sample the posterior distribution of the parameters."
   ]
  },
  {
   "cell_type": "code",
   "execution_count": null,
   "metadata": {},
   "outputs": [],
   "source": [
    "from __future__ import print_function, division\n",
    "import os\n",
    "import sys\n",
    "import imp\n",
    "import numpy as np\n",
    "\n",
    "import mat_neuron._model as mat\n",
    "from dstrf import strf, mle, io\n",
    "\n",
    "# plotting packages\n",
    "%matplotlib inline\n",
    "import matplotlib as mpl\n",
    "import matplotlib.pyplot as plt # plotting functions\n",
    "import seaborn as sns           # data visualization package\n",
    "sns.set_style(\"whitegrid\")\n",
    "mpl.rcParams['image.origin'] = 'lower'\n",
    "mpl.rcParams['image.aspect'] = 'auto'\n",
    "mpl.rcParams['image.cmap'] = 'jet'"
   ]
  },
  {
   "cell_type": "markdown",
   "metadata": {},
   "source": [
    "The MAT model is governed by a small number of parameters: the spike threshold (omega), the amplitudes of the adaptation kernels (alpha_1, alpha_2), the time constants of the adaptation kernels (tau_1, tau_2), and the absolute refactory period. In addition, a function must be chosen for spike generation. The 'softplus' function, log(1 + exp(mu)), is a good choice because it doesn't saturate as readily when mu is large. Because there can only be one spike per bin, saturation causes the estimated parameters to be less than the true parameters."
   ]
  },
  {
   "cell_type": "code",
   "execution_count": null,
   "metadata": {},
   "outputs": [],
   "source": [
    "# model parameters: (\u03c9, \u03b11, \u03b12, \u03c41, \u03c42, tref)\n",
    "matparams = np.asarray([7, 100, 2, 10, 200, 2], dtype='d')\n",
    "model_dt = 0.5\n",
    "nlin = \"exp\"\n",
    "\n",
    "matparams_i = [0,1,2]\n",
    "matparams_n = len(matparams_i)\n",
    "matparams_f = matparams[matparams_i]"
   ]
  },
  {
   "cell_type": "code",
   "execution_count": null,
   "metadata": {},
   "outputs": [],
   "source": [
    "# STRF: keep this very simple for proof of principle\n",
    "stim_dt = 3.0\n",
    "upsample = int(stim_dt / model_dt)\n",
    "spec_window = 4.0\n",
    "spec_compress = 10\n",
    "f_min = 1.0\n",
    "f_max = 8.0\n",
    "nfreq = 20\n",
    "ntau  = 40\n",
    "# these parameters influence how the STRF dimensional reduction will work\n",
    "ntbas = 10       # number of temporal basis functions\n",
    "krank = 2        # rank of bilinear approximation\n",
    "kcosbas = strf.cosbasis(ntau, ntbas)\n",
    "ntbas = kcosbas.shape[1]"
   ]
  },
  {
   "cell_type": "markdown",
   "metadata": {},
   "source": [
    "Here we load some data from a real neural recording from the CRCNS dataset. We're going to replace the actual neural response with a simulation based on the dstrf model. In the original experiment, stimuli were presented individually in a pseudorandom order. To simplify the model, we concatenate the stimuli, setting padding between the stimuli sufficient to capture any offset responses.\n",
    "\n",
    "The method of concatenation is a bit clumsy, because we don't know what was \"presented\" during the silent gaps. Simply filling in zeros is not a good idea, because this creates edges in the spectrogram that were not present in the actual stimulation. The current solution is to use the first and last frames of the spectrograms, but some sort of linear ramping to further eliminate transients would be even better."
   ]
  },
  {
   "cell_type": "code",
   "execution_count": null,
   "metadata": {},
   "outputs": [],
   "source": [
    "# data parameters\n",
    "pad_before = 0    # how much to pad stimulus before onset\n",
    "pad_after = ntau * stim_dt # how much to pad after offset\n",
    "n_trials = 10     # set the number of trials to use (needs to be the same for all stimuli)\n",
    "p_test = 0.2      # proportion of trials to use for test\n",
    "\n",
    "# load stimuli and responses\n",
    "root = os.path.join(os.environ[\"HOME\"], \"data\", \"crcns\")\n",
    "cell = \"blabla0903_2_B\"\n",
    "stim_type = \"conspecific\"\n",
    "data = io.load_crcns(cell, stim_type, root, spec_window, stim_dt, f_min=f_min, f_max=f_max, f_count=nfreq, \n",
    "                     compress=spec_compress, gammatone=True)\n",
    "io.pad_stimuli(data, pad_before, pad_after, fill_value=0.0)\n",
    "io.preprocess_spikes(data, model_dt, matparams[3:5])\n",
    "\n",
    "n_test = int(p_test * len(data))\n",
    "# split into assimilation and test sets and merge stimuli\n",
    "assim_data = io.merge_data(data[:-n_test])\n",
    "test_data = io.merge_data(data[-n_test:])"
   ]
  },
  {
   "cell_type": "code",
   "execution_count": null,
   "metadata": {},
   "outputs": [],
   "source": [
    "plt.subplot(211).imshow(assim_data['stim'], extent=(0, assim_data[\"duration\"], f_min, f_max))\n",
    "ax = plt.subplot(212)\n",
    "for i, d in enumerate(assim_data[\"spike_v\"]):\n",
    "    if i >= n_trials: break\n",
    "    ax.vlines(d, i, i + 0.5)\n",
    "for ax in plt.gcf().axes:\n",
    "    ax.set_xlim(272, 900)\n",
    "    # ax.set_xlim(0, assim_data[\"duration\"])"
   ]
  },
  {
   "cell_type": "code",
   "execution_count": null,
   "metadata": {
    "collapsed": true
   },
   "outputs": [],
   "source": [
    "# calculate the binary spike vectors and convolve with spike-history kernels\n",
    "assim_resp = []\n",
    "stim = assim_data[\"stim\"]\n",
    "nframes = stim.shape[1]\n",
    "nbins = nframes * upsample\n",
    "for i, spk in enumerate(assim_data[\"spikes\"]):\n",
    "    if i >= n_trials: break\n",
    "    spike_t = (spk / model_dt).astype('i')\n",
    "    spike_v = np.zeros(nbins, dtype='i')\n",
    "    spike_v[spike_t] = 1\n",
    "    d = {\"spike_t\": spike_t,\n",
    "         \"spike_v\": spike_v,\n",
    "         \"H\": mat.adaptation(spike_v, matparams[3:5], model_dt)}\n",
    "    assim_resp.append(d)"
   ]
  },
  {
   "cell_type": "code",
   "execution_count": null,
   "metadata": {},
   "outputs": [],
   "source": [
    "stim = assim_data[\"stim\"]\n",
    "plt.subplot(311).imshow(assim_data[\"stim\"], extent=(0, assim_data[\"duration\"], f_min, f_max))\n",
    "t_spike = np.linspace(0, assim_data[\"duration\"], assim_data[\"spike_v\"].shape[0])\n",
    "plt.subplot(312).plot(t_spike, assim_data[\"spike_v\"].sum(1))\n",
    "ax = plt.subplot(313)\n",
    "for i, spk in enumerate(assim_data[\"spike_t\"]):\n",
    "    ax.vlines(spk * model_dt, i, i + 0.5)\n",
    "    ax.plot(t_spike, assim_data[\"spike_h\"][:, i, :])\n",
    "for ax in plt.gcf().axes:\n",
    "    ax.set_xlim(1750, 2200)"
   ]
  },
  {
   "cell_type": "markdown",
   "metadata": {},
   "source": [
    "## Estimate parameters\n",
    "\n",
    "The reg_alpha and reg_lambda parameters set the L1 and L2 penalties for the initial ML estimation. Note that we supply the nonlinearity function to the constructor too, as this determines how the log-likelihood is calculated."
   ]
  },
  {
   "cell_type": "code",
   "execution_count": null,
   "metadata": {},
   "outputs": [],
   "source": [
    "# initial guess of parameters using penalized ML. Note that we provide the cosine basis set to the constructor of\n",
    "# mle.estimator, which causes the design matrix to be in the cosine basis set\n",
    "spikes = np.stack([d[\"spike_v\"] for d in assim_resp], axis=1)\n",
    "mlest = mle.estimator(stim, spikes, kcosbas, matparams[3:5], stim_dt, model_dt, nlin=\"exp\")\n",
    "%time w0 = mlest.estimate(reg_lambda=0, reg_alpha=1e1)\n",
    "# TODO: cross-validation to find best regularization parameters"
   ]
  },
  {
   "cell_type": "code",
   "execution_count": null,
   "metadata": {},
   "outputs": [],
   "source": [
    "print(w0[:3])\n",
    "# the RF is in the cosine basis set, which we need to convert back in order to visualize\n",
    "rf_sta = strf.as_matrix(mlest.sta(), kcosbas)\n",
    "rf_mle = strf.as_matrix(w0[3:], kcosbas)\n",
    "k0f, k0t = strf.factorize(strf.as_matrix(w0[3:], ntbas), krank)\n",
    "rf_mlb = strf.from_basis(np.dot(k0f, k0t), kcosbas)\n",
    "plt.subplot(221).imshow(rf_sta, extent=(0, ntau, f_min, f_max))\n",
    "plt.title(\"STA\")\n",
    "plt.subplot(222).imshow(rf_mle, extent=(0, ntau, f_min, f_max))\n",
    "plt.title(\"MAP estimate\")\n",
    "plt.subplot(224).imshow(rf_mlb, extent=(0, ntau, f_min, f_max))\n",
    "plt.title(\"MAP (rank {})\".format(krank))"
   ]
  },
  {
   "cell_type": "markdown",
   "metadata": {},
   "source": [
    "We'll use the ML estimate to seed the MCMC sampler. We're going to reduce the size of the parameter space by factorizing the RF (i.e., a bilinear approximation). Note that we try to use the mlest object as much as possible to do the calculations rather than reimplement things; however, there can be some significant performance enhancements from an optimized implementation."
   ]
  },
  {
   "cell_type": "code",
   "execution_count": null,
   "metadata": {
    "collapsed": true
   },
   "outputs": [],
   "source": [
    "# estimate parameters using emcee\n",
    "from neurofit import priors, costs, utils, startpos\n",
    "\n",
    "# the MAT parameters are just bounded between reasonable limits. These may need to be expanded when using real data.\n",
    "mat_prior = priors.joint_independent(\n",
    "                [ priors.uniform( 0,  20),\n",
    "                  priors.uniform(-50,  200),\n",
    "                  priors.uniform(-5,   10),\n",
    "                ])\n",
    "\n",
    "# lasso prior on RF parameters. This is the same as the reg_alpha parameter in the penalized MLE\n",
    "rf_alpha = 10.\n",
    "\n",
    "\n",
    "if nlin == \"exp\":\n",
    "    def loglike(V, H, spike_t, alpha, dt):\n",
    "        mu = V - np.dot(H, alpha)\n",
    "        return mu[spike_t].sum() - np.exp(mu).sum() * dt\n",
    "elif nlin == \"softplus\":\n",
    "    def loglike(V, H, spike_t, alpha, dt):\n",
    "        mu = V - np.dot(H, alpha)\n",
    "        # don't use np.log1p(np.exp(mu)) - it overflows!\n",
    "        lmb = mat.softplus(mu)\n",
    "        return np.log(lmb[spike_t]).sum() - lmb.sum() * dt \n",
    "\n",
    "def lnpost(theta):\n",
    "    \"\"\"Posterior probability for dynamical parameters\"\"\"\n",
    "    mparams = theta[:3]\n",
    "    rfparams = theta[3:]\n",
    "    rf_prior = -np.sum(np.abs(rfparams)) * rf_alpha\n",
    "    ll = mat_prior(mparams) + rf_prior\n",
    "    if not np.isfinite(ll):\n",
    "        return -np.inf\n",
    "    # reassemble strf from low-rank factors\n",
    "    k = strf.defactorize(rfparams, nfreq, krank).flatten()\n",
    "    w = np.r_[mparams, k]\n",
    "    # here we do some optimization. We'll use mlest object to calculate the interpolated convolution of the \n",
    "    # RF with the stimulus, but then directly calculate the loglikelihood ourselves on each trial. This can\n",
    "    # produce some significant savings on multi-trial responses.\n",
    "    Vi = mlest.V_interp(w).squeeze() - mparams[0]\n",
    "    lp = 0\n",
    "    for d in assim_resp:\n",
    "        lp += loglike(Vi, d[\"H\"], d[\"spike_t\"], mparams[1:3], model_dt)\n",
    "    return lp\n"
   ]
  },
  {
   "cell_type": "code",
   "execution_count": null,
   "metadata": {},
   "outputs": [],
   "source": [
    "# get low-rank approx of the ML STRF\n",
    "w0_bl = np.r_[w0[:3], k0f.flatten(), k0t.flatten()]\n",
    "print(\"lnpost of ML estimate: {}\".format(lnpost(w0_bl)))\n",
    "%timeit lnpost(w0_bl)"
   ]
  },
  {
   "cell_type": "markdown",
   "metadata": {},
   "source": [
    "This code starts the MCMC sampler. We initialize the walkers (chains) in a gaussian around the ML estimate, with standard deviation 2x the absolute value of the best guess. The model converges fairly quickly, but then we let it sample for a while."
   ]
  },
  {
   "cell_type": "code",
   "execution_count": null,
   "metadata": {
    "collapsed": true
   },
   "outputs": [],
   "source": [
    "import emcee\n",
    "# assimilation parameters\n",
    "if sys.platform == 'darwin':\n",
    "    nthreads = 1\n",
    "else:\n",
    "    nthreads = 8\n",
    "nwalkers = 500\n",
    "nsteps = 3000\n",
    "\n",
    "# initialize walkers\n",
    "pos = p0 = startpos.normal_independent(nwalkers, w0_bl, np.abs(w0_bl) * 2)\n",
    "# initialize the sampler\n",
    "sampler = emcee.EnsembleSampler(nwalkers, w0_bl.size, lnpost, threads=nthreads)"
   ]
  },
  {
   "cell_type": "code",
   "execution_count": null,
   "metadata": {},
   "outputs": [],
   "source": [
    "# start the sampler\n",
    "tracker = utils.convergence_tracker(nsteps, 100)\n",
    "for pos, prob, like in tracker(sampler.sample(pos, iterations=nsteps, storechain=True)): \n",
    "    continue"
   ]
  },
  {
   "cell_type": "code",
   "execution_count": null,
   "metadata": {},
   "outputs": [],
   "source": [
    "print(\"lnpost of p median: {}\".format(np.median(prob)))\n",
    "print(\"average acceptance fraction: {}\".format(sampler.acceptance_fraction.mean()))\n",
    "try:\n",
    "    print(\"autocorrelation time: {}\".format(sampler.acor))\n",
    "except:\n",
    "    pass    \n",
    "w1 = np.median(pos, 0)\n",
    "rfparams = w1[3:]\n",
    "rf_map = strf.from_basis(strf.defactorize(rfparams, nfreq, krank), kcosbas)\n",
    "print(w0[:matparams_n])\n",
    "print(w1[:matparams_n])\n",
    "plt.subplot(222)\n",
    "plt.imshow(rf_mle, extent=(0, ntau, f_min, f_max))\n",
    "plt.subplot(223)\n",
    "plt.imshow(rf_mlb, extent=(0, ntau, f_min, f_max))\n",
    "plt.subplot(224)\n",
    "plt.imshow(rf_map, extent=(0, ntau, f_min, f_max))"
   ]
  },
  {
   "cell_type": "code",
   "execution_count": null,
   "metadata": {},
   "outputs": [],
   "source": [
    "from corner import corner\n",
    "sns.set_style(\"whitegrid\")\n",
    "\n",
    "mpos = pos[:,:matparams_n]\n",
    "matlabs = ['w','a1','a2',]\n",
    "c = corner(mpos,\n",
    "       bins=50, smooth=2,smooth1d=0,\n",
    "       labels=matlabs,\n",
    "       truths=matparams[:3])"
   ]
  },
  {
   "cell_type": "code",
   "execution_count": null,
   "metadata": {},
   "outputs": [],
   "source": [
    "def predict_spikes(V, params, dt, upsample):\n",
    "    omega, a1, a2, t1, t2, tref = params\n",
    "    if nlin == \"exp\":\n",
    "        f = mat.predict_poisson\n",
    "    elif nlin == \"softplus\":\n",
    "        f = mat.predict_softplus\n",
    "    return f(V - omega, (a1, a2), (t1, t2), tref, dt, upsample)\n",
    "\n",
    "# posterior predictive distribution\n",
    "stim = test_data[\"stim\"]\n",
    "t_stim = np.linspace(0, test_data[\"duration\"], stim.shape[1])\n",
    "plt.subplot(311).imshow(stim, extent=(0, test_data[\"duration\"], f_min, f_max))\n",
    "vax = plt.subplot(312)\n",
    "spax = plt.subplot(313)\n",
    "for j, spk in enumerate(test_data[\"spikes\"]):\n",
    "    spax.vlines(spk, j, j + 0.5, 'r')\n",
    "mparams = matparams.copy()\n",
    "samples = np.random.permutation(nwalkers)[:j]\n",
    "for i, idx in enumerate(samples):\n",
    "    rfparams = pos[idx, matparams_n:]\n",
    "    k = strf.defactorize(rfparams, nfreq, krank)\n",
    "    rf = strf.from_basis(k, kcosbas)\n",
    "    V = strf.convolve(stim, rf)\n",
    "    vax.plot(t_stim, V)\n",
    "    mparams[matparams_i] = pos[idx, :matparams_n]\n",
    "    S = predict_spikes(V, mparams, model_dt, upsample)\n",
    "    spk_t = S.nonzero()[0]\n",
    "    spax.vlines(spk_t * model_dt, i + j + 1, i + j + 1.5)\n",
    "\n",
    "for ax in plt.gcf().axes:\n",
    "    ax.set_xlim(0, 1000)"
   ]
  },
  {
   "cell_type": "code",
   "execution_count": null,
   "metadata": {
    "collapsed": true
   },
   "outputs": [],
   "source": []
  }
 ],
 "metadata": {
  "git": {
   "suppress_outputs": true
  },
  "kernelspec": {
   "display_name": "dstrf",
   "language": "python",
   "name": "dstrf"
  },
  "language_info": {
   "codemirror_mode": {
    "name": "ipython",
    "version": 3
   },
   "file_extension": ".py",
   "mimetype": "text/x-python",
   "name": "python",
   "nbconvert_exporter": "python",
   "pygments_lexer": "ipython3",
   "version": "3.5.4"
  }
 },
 "nbformat": 4,
 "nbformat_minor": 2
}