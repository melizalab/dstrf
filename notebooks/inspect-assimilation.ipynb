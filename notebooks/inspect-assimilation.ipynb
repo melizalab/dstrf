{
 "cells": [
  {
   "cell_type": "markdown",
   "metadata": {},
   "source": [
    "## Inspection plot for assimiliation and data simulation"
   ]
  },
  {
   "cell_type": "code",
   "execution_count": null,
   "metadata": {},
   "outputs": [],
   "source": [
    "from __future__ import print_function, division\n",
    "import sys\n",
    "import imp\n",
    "import os\n",
    "import numpy as np\n",
    "from munch import Munch\n",
    "from dstrf import spikes, strf, filters, mle\n",
    "from corner import corner\n",
    "\n",
    "# plotting packages\n",
    "%matplotlib notebook\n",
    "import matplotlib as mpl\n",
    "import matplotlib.pyplot as plt # plotting functions\n",
    "import seaborn as sns           # data visualization package\n",
    "sns.set_style(\"ticks\")\n",
    "sns.set_context(\"paper\", font_scale=0.7)\n",
    "mpl.rcParams['pdf.fonttype'] = 42\n",
    "mpl.rcParams['ps.fonttype'] = 42\n",
    "mpl.rcParams['lines.linewidth'] = 0.5\n",
    "mpl.rcParams['axes.linewidth'] = 0.5\n",
    "mpl.rcParams['xtick.major.width'] = 0.5\n",
    "mpl.rcParams['ytick.major.width'] = 0.5\n",
    "mpl.rcParams['xtick.major.size'] = 1.5\n",
    "mpl.rcParams['ytick.major.size'] = 1.5\n",
    "#print(mpl.rcParams.keys())\n",
    "outdir = os.path.join(\"..\", \"figures\")\n",
    "est_clr = [\"darkmagenta\", \"goldenrod\", \"darkcyan\"]\n",
    "names = [\"posp\", \"tonic\", \"phasic\"]"
   ]
  },
  {
   "cell_type": "code",
   "execution_count": null,
   "metadata": {},
   "outputs": [],
   "source": [
    "results = \"../results/song_phasic_samples_cold.npz\"\n",
    "data = np.load(results)\n",
    "with open(\"../config/song_dynamical.yml\", \"rt\") as fp:\n",
    "    cf = Munch.fromYAML(fp)"
   ]
  },
  {
   "cell_type": "code",
   "execution_count": null,
   "metadata": {},
   "outputs": [],
   "source": [
    "stim = data[\"stim\"]\n",
    "spike_v = data[\"spike_v\"]\n",
    "duration = data[\"duration\"]\n",
    "krank = cf.model.filter.rank\n",
    "kcosbas = strf.cosbasis(cf.model.filter.len, cf.model.filter.ncos)\n",
    "stim_dt = cf.data.dt\n",
    "model_dt = cf.model.dt"
   ]
  },
  {
   "cell_type": "code",
   "execution_count": null,
   "metadata": {
    "scrolled": false
   },
   "outputs": [],
   "source": [
    "bins, ntrials = spikes.shape\n",
    "t_stim = np.linspace(0, duration, stim.shape[1])\n",
    "t_spike = np.linspace(0, duration, spikes.shape[0])\n",
    "\n",
    "fig, axes = plt.subplots(nrows=2, ncols=1, sharex=True, figsize=(16, 4))\n",
    "\n",
    "axes[0].imshow(stim, \n",
    "               extent=(0, duration, cf.data.stimulus.spectrogram.f_min, cf.data.stimulus.spectrogram.f_max),\n",
    "               cmap='jet', origin='lower', aspect='auto')\n",
    "for i in range(ntrials):\n",
    "    spk = np.nonzero(spikes[:, i])[0]\n",
    "    axes[1].vlines(spk * cf.model.dt, i, i + 0.5)\n",
    "\n",
    "axes[0].set_xlim(0, duration);"
   ]
  },
  {
   "cell_type": "code",
   "execution_count": null,
   "metadata": {
    "scrolled": true
   },
   "outputs": [],
   "source": [
    "w0 = data[\"mle\"]\n",
    "print(\"MLE rate and adaptation parameters:\", w0[:3])\n",
    "\n",
    "fig, axes = plt.subplots(nrows=2, ncols=2, sharex=True, sharey=True, figsize=(6, 6))\n",
    "\n",
    "k1, k1t, k1f = simulate.get_filter(cf)\n",
    "k1c = strf.to_basis(k1, kcosbas)\n",
    "rf_mle = strf.from_basis(strf.defactorize(w0[3:], cf.data.filter.nfreq, krank), kcosbas)\n",
    "\n",
    "axes[0, 0].imshow(k1, cmap='jet', aspect='auto')\n",
    "axes[0, 0].set_title(\"True RF\")\n",
    "axes[1, 0].imshow(rf_mle, cmap='jet', aspect='auto')\n",
    "axes[1, 0].set_title(\"MLE (rank-{})\".format(krank));\n",
    "\n",
    "try:\n",
    "    w1 = np.median(data[\"samples\"], 0)\n",
    "    print(\"MLE rate and adaptation parameters:\", w1[:3])\n",
    "    rf_map = strf.from_basis(strf.defactorize(w1[3:], cf.data.filter.nfreq, krank), kcosbas)\n",
    "    axes[1, 1].imshow(rf_mle, cmap='jet', aspect='auto')\n",
    "    axes[1, 1].set_title(\"MLE (rank-{})\".format(krank))\n",
    "except KeyError:\n",
    "    pass"
   ]
  }
 ],
 "metadata": {
  "git": {
   "suppress_outputs": true
  },
  "kernelspec": {
   "display_name": "Python 3",
   "language": "python",
   "name": "python3"
  },
  "language_info": {
   "codemirror_mode": {
    "name": "ipython",
    "version": 3
   },
   "file_extension": ".py",
   "mimetype": "text/x-python",
   "name": "python",
   "nbconvert_exporter": "python",
   "pygments_lexer": "ipython3",
   "version": "3.5.3"
  }
 },
 "nbformat": 4,
 "nbformat_minor": 2
}
