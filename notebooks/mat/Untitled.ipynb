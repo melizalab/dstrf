{
 "cells": [
  {
   "cell_type": "code",
   "execution_count": 2,
   "metadata": {},
   "outputs": [],
   "source": [
    "from __future__ import print_function, division\n",
    "import numpy as np\n",
    "import scipy as sp\n",
    "import neurofit as nf\n",
    "import pyspike as pyspk\n",
    "from scipy.signal import resample\n",
    "\n",
    "import sys\n",
    "sys.path.append(\"../\") # for importing utils and glm\n",
    "\n",
    "import utils\n",
    "from models import cosstrf, adex, adex_zero_centered, dstrf_adex\n",
    "\n",
    "from neurofit import utils as nfutils\n",
    "\n",
    "\n",
    "# plotting packages\n",
    "%matplotlib inline\n",
    "from matplotlib.pyplot import * # plotting functions\n",
    "import seaborn as sns           # data visualization package\n",
    "sns.set_style(\"whitegrid\")"
   ]
  },
  {
   "cell_type": "code",
   "execution_count": null,
   "metadata": {
    "collapsed": true
   },
   "outputs": [],
   "source": []
  }
 ],
 "metadata": {
  "kernelspec": {
   "display_name": "Python 2",
   "language": "python",
   "name": "python2"
  },
  "language_info": {
   "codemirror_mode": {
    "name": "ipython",
    "version": 2
   },
   "file_extension": ".py",
   "mimetype": "text/x-python",
   "name": "python",
   "nbconvert_exporter": "python",
   "pygments_lexer": "ipython2",
   "version": "2.7.9"
  }
 },
 "nbformat": 4,
 "nbformat_minor": 2
}
