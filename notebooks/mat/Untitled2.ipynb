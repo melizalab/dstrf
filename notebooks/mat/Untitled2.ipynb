{
 "cells": [
  {
   "cell_type": "code",
   "execution_count": 1,
   "metadata": {
    "collapsed": true
   },
   "outputs": [],
   "source": [
    "import numpy as np\n",
    "import scipy.sparse as sps\n",
    "from sklearn.preprocessing import StandardScaler\n",
    "from pyglmnet import GLM\n",
    "\n",
    "# create an instance of the GLM class\n",
    "glm = GLM(distr='poisson')\n",
    "\n",
    "n_samples, n_features = 10000, 100\n",
    "\n",
    "# sample random coefficients\n",
    "beta0 = np.random.normal(0.0, 1.0, 1)\n",
    "beta = sps.rand(n_features, 1, 0.1)\n",
    "beta = np.array(beta.todense())\n",
    "\n",
    "# simulate training data\n",
    "X_train = np.random.normal(0.0, 1.0, [n_samples, n_features])\n",
    "y_train = glm.simulate(beta0, beta, X_train)\n",
    "\n",
    "# simulate testing data\n",
    "X_test = np.random.normal(0.0, 1.0, [n_samples, n_features])\n",
    "y_test = glm.simulate(beta0, beta, X_test)\n",
    "\n",
    "# fit the model on the training data\n",
    "scaler = StandardScaler().fit(X_train)\n",
    "glm.fit(scaler.transform(X_train), y_train)\n",
    "\n",
    "# predict using fitted model on the test data\n",
    "yhat_test = glm.predict(scaler.transform(X_test))\n",
    "\n",
    "# score the model\n",
    "deviance = glm.score(X_test, y_test)"
   ]
  }
 ],
 "metadata": {
  "kernelspec": {
   "display_name": "Python 2",
   "language": "python",
   "name": "python2"
  },
  "language_info": {
   "codemirror_mode": {
    "name": "ipython",
    "version": 2
   },
   "file_extension": ".py",
   "mimetype": "text/x-python",
   "name": "python",
   "nbconvert_exporter": "python",
   "pygments_lexer": "ipython2",
   "version": "2.7.9"
  }
 },
 "nbformat": 4,
 "nbformat_minor": 2
}
