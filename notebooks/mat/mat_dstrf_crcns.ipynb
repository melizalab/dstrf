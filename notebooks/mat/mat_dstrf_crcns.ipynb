{
 "cells": [
  {
   "cell_type": "markdown",
   "metadata": {},
   "source": [
    "# MAT dSTRF crcns fit\n",
    "\n",
    "This script fits crcns data to a dSTRF model composed of the augmented MAT model and a cosine basis STRF."
   ]
  },
  {
   "cell_type": "code",
   "execution_count": 30,
   "metadata": {},
   "outputs": [],
   "source": [
    "from __future__ import print_function, division\n",
    "import numpy as np\n",
    "import scipy as sp\n",
    "import neurofit as nf\n",
    "import pyspike as pyspk\n",
    "from scipy.signal import resample\n",
    "\n",
    "import sys\n",
    "sys.path.append(\"../\") # for importing utils and glm\n",
    "\n",
    "import utils\n",
    "from models import cosstrf, mat, dstrf_mat\n",
    "\n",
    "from neurofit import utils as nfutils\n",
    "\n",
    "\n",
    "# plotting packages\n",
    "%matplotlib inline\n",
    "from matplotlib.pyplot import * # plotting functions\n",
    "import seaborn as sns           # data visualization package\n",
    "sns.set_style(\"whitegrid\")"
   ]
  },
  {
   "cell_type": "markdown",
   "metadata": {},
   "source": [
    "## Setting paramters and loading data"
   ]
  },
  {
   "cell_type": "code",
   "execution_count": 31,
   "metadata": {},
   "outputs": [
    {
     "name": "stdout",
     "output_type": "stream",
     "text": [
      "EO: 0.34\n"
     ]
    }
   ],
   "source": [
    "# assimilation parameters\n",
    "nwalkers = 1000\n",
    "burn = 1000\n",
    "threads = 8\n",
    "keep = 1\n",
    "num_assim_stims = 15\n",
    "tracker = nfutils.convergence_tracker(burn,burn/10)\n",
    "\n",
    "# dstrf model settings\n",
    "free_ts = False\n",
    "scale = 10\n",
    "channels = 1\n",
    "ncos = 30\n",
    "coslin = 100\n",
    "norm = True\n",
    "center = True\n",
    "\n",
    "# data parameters \n",
    "nspec = 30\n",
    "t_dsample = 5\n",
    "tlen = int(np.rint(150/t_dsample))\n",
    "psth_smooth = 5/t_dsample\n",
    "compress = 1\n",
    "\n",
    "# setup cosine basis\n",
    "tbas, fromt, tot = utils.cosbasis(tlen,ncos,coslin,retfn=True,norm=True)\n",
    "\n",
    "# load data from crcns\n",
    "cell = \"yg0616_9_B\"\n",
    "stim_type = \"conspecific\"\n",
    "\n",
    "stims,durations,spikes_data,spiky_data = utils.load_crcns(cell,stim_type,nspec,t_dsample,compress)\n",
    "psth_data = [utils.psth(spk,dur,t_dsample,dsample=t_dsample) for spk,st,dur in zip(spikes_data,stims,durations)]\n",
    "\n",
    "# separate the simulation and validation sets\n",
    "assim_psth, test_psth = np.split(psth_data,[num_assim_stims])\n",
    "assim_spikes, test_spikes = np.split(spikes_data,[num_assim_stims])\n",
    "assim_spiky, test_spiky = np.split(spiky_data,[num_assim_stims])\n",
    "assim_stims, test_stims = stims[:num_assim_stims], stims[num_assim_stims:]\n",
    "assim_dur, test_dur = np.split(durations,[num_assim_stims])\n",
    "\n",
    "# calculate correlation between even and odd trial psths\n",
    "eocorr = [utils.evenoddcorr(spks,dur,dsample=t_dsample,smooth=psth_smooth) for spks,dur in zip(spikes_data,durations)]\n",
    "print(\"EO: {:.2f}\".format(np.mean(eocorr)))"
   ]
  },
  {
   "cell_type": "markdown",
   "metadata": {},
   "source": [
    "## Getting initial guess for STRF"
   ]
  },
  {
   "cell_type": "code",
   "execution_count": 32,
   "metadata": {},
   "outputs": [],
   "source": [
    "# estimate STRF using elastic net regression\n",
    "fit_psth = [p*1000 for p in assim_psth]\n",
    "#fit_psth = [normalize(p,False) for p in assim_psth]\n",
    "\n",
    "STRF_GUESS, B_GUESS = utils.get_strf(assim_stims,fit_psth,tlen,fit_intercept=False)\n",
    "SPEC,TIM = utils.factorize(STRF_GUESS,channels)\n",
    "\n",
    "# create initial paramter vector from estimated strf\n",
    "filt_start = np.hstack((SPEC,tot(TIM))).flatten()"
   ]
  },
  {
   "cell_type": "code",
   "execution_count": 33,
   "metadata": {
    "collapsed": true
   },
   "outputs": [],
   "source": [
    "hyp = utils.hyper_opt(assim_stims,assim_psth,STRF_GUESS,nspec,tlen,norm=norm,center=center)\n",
    "channels, ncos, coslin = hyp.search()\n",
    "\n",
    "# setup cosine basis\n",
    "tbas, fromt, tot = utils.cosbasis(tlen,ncos,coslin,retfn=True,norm=True)\n",
    "filt_start = np.hstack((SPEC,tot(TIM))).flatten()"
   ]
  },
  {
   "cell_type": "code",
   "execution_count": 34,
   "metadata": {},
   "outputs": [
    {
     "name": "stdout",
     "output_type": "stream",
     "text": [
      "0.598296035103\n"
     ]
    },
    {
     "data": {
      "image/png": "[encoded data removed]",
      "text/plain": [
       "<matplotlib.figure.Figure at 0x7f4f56f96050>"
      ]
     },
     "metadata": {},
     "output_type": "display_data"
    }
   ],
   "source": [
    "# plot elastic net and cosine estimate\n",
    "subplot(211)\n",
    "title(\"Elastic Net Estimate\")\n",
    "sns.heatmap(STRF_GUESS)\n",
    "\n",
    "subplot(212)\n",
    "title(\"Cosine Basis Estimate\")\n",
    "strf_model = cosstrf(channels,nspec,tlen,ncos,coslin,normalize=norm,center=center)\n",
    "strf_model.set(filt_start)\n",
    "sns.heatmap(strf_model.filt)\n",
    "\n",
    "tight_layout()\n",
    "print(utils.evaluate(strf_model.filt,test_stims,test_psth))"
   ]
  },
  {
   "cell_type": "markdown",
   "metadata": {},
   "source": [
    "## Define loss and prior functions"
   ]
  },
  {
   "cell_type": "code",
   "execution_count": 35,
   "metadata": {
    "collapsed": true
   },
   "outputs": [],
   "source": [
    "from neurofit import priors\n",
    "from neurofit import costs\n",
    "\n",
    "def spike_distance(predict,data):\n",
    "    trace, spikes = predict\n",
    "    spiky = pyspk.SpikeTrain(spikes,[0,data[0].t_end])\n",
    "    dist = 1000*np.mean([pyspk.spike_distance(spiky,trial) for trial in data])\n",
    "    return dist\n",
    "\n",
    "mat_prior = priors.joint_independent(\n",
    "                [ nf.priors.uniform(-1000,  1000),\n",
    "                  nf.priors.uniform( -100,   100),\n",
    "                  nf.priors.uniform( -100,   100),\n",
    "                  nf.priors.uniform( -1000,  1000)])\n",
    "\n",
    "cost = spike_distance\n",
    "unbounded = priors.unbounded()\n",
    "\n",
    "def dstrf_shrink_prior(theta):\n",
    "    return -np.sum(np.abs(theta[:-4])) + mat_prior(theta[-4:])"
   ]
  },
  {
   "cell_type": "markdown",
   "metadata": {},
   "source": [
    "## Run initial MAT parameter fit"
   ]
  },
  {
   "cell_type": "code",
   "execution_count": 36,
   "metadata": {},
   "outputs": [
    {
     "name": "stdout",
     "output_type": "stream",
     "text": [
      "  step      lnprob        time         ETA\n",
      "------------------------------------------\n",
      "   100     -3562.1     0:02:31     0:23:01\n",
      "   200     -3513.7     0:04:42     0:18:55\n",
      "   300     -3507.6     0:06:52     0:16:06\n",
      "   400     -3504.7     0:09:00     0:13:33\n",
      "   500     -3503.1     0:11:06     0:11:09\n",
      "   600     -3502.2     0:13:13     0:08:50\n",
      "   700     -3501.4     0:15:21     0:06:36\n",
      "   800     -3501.1     0:17:38     0:04:26\n",
      "   900     -3500.6     0:19:49     0:02:13\n",
      "  1000     -3500.3     0:21:56     0:00:01\n",
      "  1001     -3500.3     0:21:57     0:00:00\n"
     ]
    }
   ],
   "source": [
    "from neurofit import startpos\n",
    "\n",
    "# get I with STRF fixed\n",
    "Iapp = []\n",
    "for s,dur in zip(stims,durations):\n",
    "    R = resample(strf_model.run(s),dur)\n",
    "    Iapp.append(R*scale)\n",
    "    \n",
    "assim_Iapp, test_Iapp = np.split(Iapp,[num_assim_stims])\n",
    "\n",
    "# initalize the mat model\n",
    "mat_model = mat(free_ts=free_ts)\n",
    "\n",
    "# generate starting positions of emcee walkers\n",
    "p0 = startpos.uniform_independent(nwalkers,[-100,-10,-10,-10],[100,10,10,10])\n",
    "#p0 = startpos.normal_independent(nwalkers,[10,1,0.1,1],[0.1]*4)\n",
    "\n",
    "# run emcee\n",
    "mat_smplr = nf.sampler(mat_model,mat_prior,cost,nwalkers,zip(assim_Iapp,assim_spiky),8)\n",
    "\n",
    "for pos,_,_ in tracker(mat_smplr.sample(p0,iterations=burn)): continue\n",
    "mat_smplr.reset()\n",
    "mat_smplr.run_mcmc(pos,1);"
   ]
  },
  {
   "cell_type": "code",
   "execution_count": 37,
   "metadata": {},
   "outputs": [
    {
     "name": "stdout",
     "output_type": "stream",
     "text": [
      "Filt R: 0.560, MAT R: 0.418\n"
     ]
    }
   ],
   "source": [
    "# check the performance of the fit mat model\n",
    "mml = mat_smplr.flatchain[np.argmax(mat_smplr.flatlnprobability)]\n",
    "mat_map = mat()\n",
    "mat_map.set(mml)\n",
    "mat_corr = []\n",
    "\n",
    "param_corr = utils.evaluate(STRF_GUESS,test_stims,test_psth)\n",
    "\n",
    "for i,p,d in zip(test_Iapp,test_psth,test_dur):\n",
    "    trace,spikes = mat_map.run(i)\n",
    "    mat_psth = utils.psth_spiky(pyspk.SpikeTrain(spikes,[0,d]),binres=1,smooth=psth_smooth,dsample=t_dsample)\n",
    "    mat_corr.append(np.corrcoef(p,mat_psth)[0][1])\n",
    "        \n",
    "start = np.hstack((filt_start,mml))\n",
    "print(\"Filt R: {:.3f}, MAT R: {:.3f}\".format(param_corr,np.mean(mat_corr)))"
   ]
  },
  {
   "cell_type": "markdown",
   "metadata": {},
   "source": [
    "## Fit dSTRF model using emcee"
   ]
  },
  {
   "cell_type": "code",
   "execution_count": 38,
   "metadata": {},
   "outputs": [
    {
     "name": "stdout",
     "output_type": "stream",
     "text": [
      "  step      lnprob        time         ETA\n",
      "------------------------------------------\n",
      "   100     -4140.9     0:10:22     1:34:27\n",
      "   200     -3988.8     0:18:15     1:13:27\n",
      "   300     -3927.5     0:26:05     1:01:11\n",
      "   400     -3887.8     0:37:35     0:56:36\n",
      "   500     -3852.7     0:49:06     0:49:18\n",
      "   600     -3826.2     1:00:43     0:40:39\n",
      "   700     -3804.5     1:12:26     0:31:11\n",
      "   800     -3787.7     1:23:22     0:20:58\n",
      "   900     -3773.6     1:30:54     0:10:12\n",
      "  1000     -3762.8     1:38:29     0:00:05\n",
      "  1001     -3762.7     1:38:34     0:00:00\n"
     ]
    }
   ],
   "source": [
    "# initalize the model\n",
    "model = dstrf_mat(1,nspec,tlen,ncos,coslin,t_dsample,scale=scale,normalize=norm,center=center)\n",
    "\n",
    "# set starting positions for walkers\n",
    "p0 = startpos.normal_independent(nwalkers-1,start,[1e-4]*len(start))\n",
    "p0 = np.vstack((start,p0))\n",
    "\n",
    "# run emcee\n",
    "dstrf_smplr = nf.sampler(model,dstrf_shrink_prior,spike_distance,nwalkers,zip(assim_stims,assim_spiky),8)\n",
    "for pos,_,_ in tracker(dstrf_smplr.sample(p0,iterations=burn)): continue\n",
    "dstrf_smplr.reset()\n",
    "dstrf_smplr.run_mcmc(pos,1);"
   ]
  },
  {
   "cell_type": "markdown",
   "metadata": {},
   "source": [
    "## Evaluate the model fit"
   ]
  },
  {
   "cell_type": "code",
   "execution_count": 39,
   "metadata": {},
   "outputs": [
    {
     "data": {
      "image/png": "[encoded data removed]",
      "text/plain": [
       "<matplotlib.figure.Figure at 0x7f4f571c9810>"
      ]
     },
     "metadata": {},
     "output_type": "display_data"
    }
   ],
   "source": [
    "# initalize model with MAP parameter estimate\n",
    "dmap = dstrf_smplr.flatchain[np.argmax(dstrf_smplr.flatlnprobability)]\n",
    "model.set(dmap)\n",
    "\n",
    "figure(figsize=(4,4))\n",
    "\n",
    "# compare EN and dstrf STRFs\n",
    "subplot(211)\n",
    "sns.heatmap(strf_model.filt,cbar=False)\n",
    "\n",
    "subplot(212)\n",
    "sns.heatmap(model.pstrf.filt,cbar = False)\n",
    "tight_layout()"
   ]
  },
  {
   "cell_type": "code",
   "execution_count": null,
   "metadata": {},
   "outputs": [
    {
     "name": "stdout",
     "output_type": "stream",
     "text": [
      "\n",
      "MAP: 0.38, Dist: 0.48, EO: 0.34\n",
      "MAP/EO: 1.09, Dist/EO: 1.40\n"
     ]
    }
   ],
   "source": [
    "map_corr = utils.dstrf_sample_validate(model,dmap,test_stims,test_psth,t_dsample,psth_smooth)\n",
    "ppcorr = utils.posterior_predict_corr(model,test_stims,test_psth,dstrf_smplr.flatchain,t_dsample,psth_smooth,ntrials=100)\n",
    "corr_means = np.mean([map_corr,ppcorr,eocorr[num_assim_stims:]],axis=1)\n",
    "\n",
    "print(\"\\nMAP: {:.2f}, Dist: {:.2f}, EO: {:.2f}\".format(corr_means[0],corr_means[1],corr_means[2]))\n",
    "print(\"MAP/EO: {:.2f}, Dist/EO: {:.2f}\".format(corr_means[0]/corr_means[2],corr_means[1]/corr_means[2]))"
   ]
  },
  {
   "cell_type": "code",
   "execution_count": null,
   "metadata": {
    "scrolled": false
   },
   "outputs": [
    {
     "name": "stderr",
     "output_type": "stream",
     "text": [
      "/home/tyler/.virtualenvs/dstrf/local/lib/python2.7/site-packages/matplotlib/axes/_base.py:3179: UserWarning: Attempting to set identical bottom==top results\n",
      "in singular transformations; automatically expanding.\n",
      "bottom=0, top=0.0\n",
      "  'bottom=%s, top=%s') % (bottom, top))\n",
      "/home/tyler/.virtualenvs/dstrf/local/lib/python2.7/site-packages/corner/corner.py:532: RuntimeWarning: invalid value encountered in divide\n",
      "  sm /= sm[-1]\n",
      "/home/tyler/.virtualenvs/dstrf/local/lib/python2.7/site-packages/corner/corner.py:536: RuntimeWarning: invalid value encountered in less_equal\n",
      "  V[i] = Hflat[sm <= v0][-1]\n",
      "WARNING:root:Too few points to create valid contours\n"
     ]
    }
   ],
   "source": [
    "from corner import corner\n",
    "\n",
    "matlabs = ['a','b','c','w']\n",
    "corner(dstrf_smplr.flatchain[:,-4:],\n",
    "       range=[[-100,100],\n",
    "              [-10,10],\n",
    "              [-10,10],\n",
    "              [-100,100]],\n",
    "       bins=50, smooth=2,mooth1d=5,\n",
    "       labels=matlabs);"
   ]
  }
 ],
 "metadata": {
  "kernelspec": {
   "display_name": "Python 2",
   "language": "python",
   "name": "python2"
  },
  "language_info": {
   "codemirror_mode": {
    "name": "ipython",
    "version": 2
   },
   "file_extension": ".py",
   "mimetype": "text/x-python",
   "name": "python",
   "nbconvert_exporter": "python",
   "pygments_lexer": "ipython2",
   "version": "2.7.9"
  }
 },
 "nbformat": 4,
 "nbformat_minor": 1
}
