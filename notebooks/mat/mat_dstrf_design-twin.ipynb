{
 "cells": [
  {
   "cell_type": "markdown",
   "metadata": {},
   "source": [
    "# MAT dSTRF twin experiment\n",
    "\n",
    "This script runs a twin experiment with a dSTRF model composed of the augmented MAT model and a cosine basis STRF."
   ]
  },
  {
   "cell_type": "code",
   "execution_count": 11,
   "metadata": {
    "collapsed": true
   },
   "outputs": [],
   "source": [
    "from __future__ import print_function, division\n",
    "import numpy as np\n",
    "import scipy as sp\n",
    "import neurofit as nf\n",
    "import pyspike as pyspk\n",
    "from scipy.signal import resample\n",
    "\n",
    "import sys\n",
    "sys.path.append(\"../\") # for importing utils and glm\n",
    "\n",
    "import utils\n",
    "from neurofit import utils as nfutils\n",
    "\n",
    "\n",
    "# plotting packages\n",
    "%matplotlib inline\n",
    "from matplotlib.pyplot import * # plotting functions\n",
    "import seaborn as sns           # data visualization package\n",
    "sns.set_style(\"whitegrid\")"
   ]
  },
  {
   "cell_type": "markdown",
   "metadata": {},
   "source": [
    "## Setting paramters and loading data"
   ]
  },
  {
   "cell_type": "code",
   "execution_count": 12,
   "metadata": {
    "collapsed": true
   },
   "outputs": [],
   "source": [
    "# assimilation parameters\n",
    "nwalkers = 1000\n",
    "burn = 100\n",
    "threads = 8\n",
    "keep = 1\n",
    "num_assim_stims = 15\n",
    "tracker = nfutils.convergence_tracker(burn,burn/10)\n",
    "\n",
    "# dstrf model settings\n",
    "free_ts = False\n",
    "scale = 10\n",
    "channels = 1\n",
    "ncos = 10\n",
    "coslin = 100\n",
    "norm = True\n",
    "center = True\n",
    "\n",
    "# data parameters \n",
    "nspec = 30\n",
    "t_dsample = 5\n",
    "tlen = int(np.rint(150/t_dsample))\n",
    "psth_smooth = 5/t_dsample\n",
    "compress = 1\n",
    "\n",
    "# load data from crcns\n",
    "cell = \"yg0616_4_B\"\n",
    "stim_type = \"conspecific\"\n",
    "\n",
    "stims,durations = utils.load_crcns(cell,stim_type,nspec,t_dsample,compress)[:2]\n",
    "\n",
    "# reshape stims into design matricies\n",
    "stims = utils.specs_to_designs(stims,tlen)"
   ]
  },
  {
   "cell_type": "markdown",
   "metadata": {},
   "source": [
    "# Define the model"
   ]
  },
  {
   "cell_type": "code",
   "execution_count": 13,
   "metadata": {
    "collapsed": true
   },
   "outputs": [],
   "source": [
    "import cneurons as cn\n",
    "\n",
    "# strf model with time in cosine basis (a la Pillow)\n",
    "class cosstrf_design():\n",
    "    def __init__(self, channels, nspec, tlen, ncos=10,coslin=1,normalize=False,center=False):\n",
    "        self.channels = channels\n",
    "        self.nspec = nspec\n",
    "        self.tlen = tlen\n",
    "        self.ncos = ncos\n",
    "        self.cosbas = utils.cosbasis(tlen,ncos,lin=coslin)\n",
    "        self.invbas = np.linalg.pinv(self.cosbas)\n",
    "        self.tfilt = None\n",
    "        self.sfilt = None\n",
    "        self.flat = None\n",
    "        self.filt = None\n",
    "        self.norm = normalize\n",
    "        self.center = center\n",
    "        \n",
    "    def set(self,theta):\n",
    "        flat_sfilt = theta[:self.nspec*self.channels]\n",
    "        flat_tfilt = theta[self.nspec*self.channels:]\n",
    "        self.sfilt = np.reshape(flat_sfilt,(self.channels,self.nspec))\n",
    "        self.tfilt = np.matmul(self.cosbas,np.reshape(flat_tfilt,(self.channels,self.ncos)).T).T\n",
    "        self.filt  = np.matmul(self.sfilt.T,self.tfilt)\n",
    "        self.flat = np.matmul(self.sfilt.T,self.tfilt).flatten()\n",
    "\n",
    "    def run(self,stim):\n",
    "        R = np.matmul(stim,self.flat)\n",
    "        if self.norm: nfutils.normalize(R,center=self.center)\n",
    "        return R\n",
    "    \n",
    "# augmented mat model with R and tm fixed to 1\n",
    "class mat():\n",
    "    def __init__(self, free_ts=False):\n",
    "        self.nrn = None\n",
    "        self.free_ts = free_ts\n",
    "\n",
    "    def dim(self):\n",
    "        return 6 if self.free_ts else 4\n",
    "\n",
    "    def set(self, theta):\n",
    "        a, b, c, w = theta[:4]\n",
    "        self.nrn = cn.augmat(a, b, c, w)\n",
    "        self.nrn.R = 1\n",
    "        self.nrn.tm = 1\n",
    "\n",
    "        if self.free_ts:\n",
    "            t1, t2 = theta[4:]\n",
    "            self.nrn.t1 = t1\n",
    "            self.nrn.t2 = t2\n",
    "\n",
    "    def run(self, iapp):\n",
    "        self.nrn.apply_current(iapp, 1)\n",
    "        return self.nrn.simulate(len(iapp), 1)\n",
    "\n",
    "# combining the strf and mat models\n",
    "class dstrf_mat():\n",
    "    def __init__(self,channels=1,nspec=15,tlen=30,ncos=10,coslin=1,upsample=1,\n",
    "                 scale=1,free_ts=False,normalize=False,center=False,noise=None):\n",
    "        self.mat = mat(free_ts=free_ts)\n",
    "        self.pstrf = cosstrf_design(channels,nspec,tlen,ncos,coslin)\n",
    "        self.upsample = upsample\n",
    "        self.scale = scale\n",
    "        self.free_ts = free_ts\n",
    "        self.norm = normalize\n",
    "        self.center = center\n",
    "        self.channels = channels\n",
    "        self.nspec = nspec\n",
    "        self.tlen = tlen\n",
    "        self.ncos = ncos\n",
    "        self.noise = noise\n",
    "                \n",
    "    def dim(self):\n",
    "        return self.channels*(self.nspec+self.ncos) + ( 6 if self.free_ts else 4 )\n",
    "     \n",
    "    def set(self, theta):\n",
    "        cut = -6 if self.free_ts else -4\n",
    "        self.pstrf.set(theta[:cut])\n",
    "        self.mat.set(theta[cut:])\n",
    "        self.mat.nrn.R = 1\n",
    "        self.mat.nrn.tm = 1\n",
    "        \n",
    "    def run(self, stim):\n",
    "        r = self.pstrf.run(stim)\n",
    "        if noise is not None: r += np.random.randn(len(r))*noise\n",
    "        if self.norm: r = nfutils.normalize(r,center=self.center)\n",
    "        r = resample(r,len(r)*self.upsample)*self.scale\n",
    "        return self.mat.run(r)"
   ]
  },
  {
   "cell_type": "markdown",
   "metadata": {},
   "source": [
    "## Simulating data for the twin experiment\n",
    "\n",
    "### Building the STRF"
   ]
  },
  {
   "cell_type": "code",
   "execution_count": 14,
   "metadata": {
    "collapsed": false
   },
   "outputs": [
    {
     "data": {
      "image/png": "[encoded data removed]",
      "text/plain": [
       "<matplotlib.figure.Figure at 0x7fcde5e5cf10>"
      ]
     },
     "metadata": {},
     "output_type": "display_data"
    },
    {
     "data": {
      "image/png": "[encoded data removed]",
      "text/plain": [
       "<matplotlib.figure.Figure at 0x7fcde8a5b950>"
      ]
     },
     "metadata": {},
     "output_type": "display_data"
    }
   ],
   "source": [
    "#Construct the filter\n",
    "sres = nspec - 1 #resolution of the filter in pixels\n",
    "tres = tlen      #time window of the filter in ms\n",
    "maxfreq = 8000   #maximum frequency of the signal\n",
    "latency = 75     #offset between stimulus and response in ms (range: 0 to time)\n",
    "frequency = 4000 #centering frequency for the filter\n",
    "A = 0.25         #amplitude of the wavelet peak -- probably don't need to change this\n",
    "sigma = 0.01     #width of the filter in the time axis -- bigger sigma = narrower time band\n",
    "gamma = 0.0015   #width of the filter in the frequency axis -- bigger gamma = narrower frequency band\n",
    "alpha = 1        #depth of inhibitory sidebands on time axis -- bigger alpha = deeper sidebands\n",
    "beta = 1         #depth of inhibitory sidebands on frequency axis -- bigger beta = deeper sidebands\n",
    "\n",
    "#ss.strf returns three arguments: h is the strf, t and f are correctly labeled axes for plotting\n",
    "k, t, f = utils.strf(sres,150,maxfreq,latency,frequency,A,sigma,gamma,alpha,beta)\n",
    "\n",
    "k = resample(k,tres,axis=1)\n",
    "\n",
    "figure()\n",
    "sns.heatmap(k,linewidths = 0)\n",
    "\n",
    "figure()\n",
    "B = np.sum(k,axis=1)\n",
    "A = np.sum(k,axis=0)\n",
    "subplot(211)\n",
    "plot(A)\n",
    "subplot(212)\n",
    "plot(B)\n",
    "\n",
    "# create cosine basis for time dimension\n",
    "spec,tim = utils.factorize(k)\n",
    "tbas, fromt, tot = utils.cosbasis(tlen,ncos,coslin,retfn=True)\n",
    "costim = tot(tim)\n",
    " \n",
    "# set MAT model parameters\n",
    "matparam  = [10,2,0,8]"
   ]
  },
  {
   "cell_type": "markdown",
   "metadata": {},
   "source": [
    "### Generating noisy data"
   ]
  },
  {
   "cell_type": "code",
   "execution_count": 15,
   "metadata": {
    "collapsed": false
   },
   "outputs": [
    {
     "ename": "NameError",
     "evalue": "name 'dstrf' is not defined",
     "output_type": "error",
     "traceback": [
      "\u001b[0;31m---------------------------------------------------------------------------\u001b[0m",
      "\u001b[0;31mNameError\u001b[0m                                 Traceback (most recent call last)",
      "\u001b[0;32m<ipython-input-15-188c60e7b276>\u001b[0m in \u001b[0;36m<module>\u001b[0;34m()\u001b[0m\n\u001b[1;32m      3\u001b[0m \u001b[0mnoise\u001b[0m \u001b[0;34m=\u001b[0m \u001b[0;36m1\u001b[0m\u001b[0;34m\u001b[0m\u001b[0m\n\u001b[1;32m      4\u001b[0m \u001b[0mdataparam\u001b[0m \u001b[0;34m=\u001b[0m \u001b[0mnp\u001b[0m\u001b[0;34m.\u001b[0m\u001b[0mhstack\u001b[0m\u001b[0;34m(\u001b[0m\u001b[0;34m(\u001b[0m\u001b[0mspec\u001b[0m\u001b[0;34m[\u001b[0m\u001b[0;36m0\u001b[0m\u001b[0;34m]\u001b[0m\u001b[0;34m,\u001b[0m\u001b[0mcostim\u001b[0m\u001b[0;34m[\u001b[0m\u001b[0;36m0\u001b[0m\u001b[0;34m]\u001b[0m\u001b[0;34m,\u001b[0m\u001b[0mmatparam\u001b[0m\u001b[0;34m)\u001b[0m\u001b[0;34m)\u001b[0m\u001b[0;34m\u001b[0m\u001b[0m\n\u001b[0;32m----> 5\u001b[0;31m \u001b[0mM\u001b[0m \u001b[0;34m=\u001b[0m \u001b[0mdstrf\u001b[0m\u001b[0;34m(\u001b[0m\u001b[0;36m1\u001b[0m\u001b[0;34m,\u001b[0m\u001b[0mnspec\u001b[0m\u001b[0;34m,\u001b[0m\u001b[0mtlen\u001b[0m\u001b[0;34m,\u001b[0m\u001b[0mncos\u001b[0m\u001b[0;34m,\u001b[0m\u001b[0mcoslin\u001b[0m\u001b[0;34m,\u001b[0m\u001b[0mt_dsample\u001b[0m\u001b[0;34m,\u001b[0m\u001b[0mscale\u001b[0m\u001b[0;34m=\u001b[0m\u001b[0mscale\u001b[0m\u001b[0;34m,\u001b[0m\u001b[0mnoise\u001b[0m\u001b[0;34m=\u001b[0m\u001b[0mnoise\u001b[0m\u001b[0;34m,\u001b[0m\u001b[0mnormalize\u001b[0m\u001b[0;34m=\u001b[0m\u001b[0mnorm\u001b[0m\u001b[0;34m,\u001b[0m\u001b[0mcenter\u001b[0m\u001b[0;34m=\u001b[0m\u001b[0mcenter\u001b[0m\u001b[0;34m)\u001b[0m\u001b[0;34m\u001b[0m\u001b[0m\n\u001b[0m\u001b[1;32m      6\u001b[0m \u001b[0mM\u001b[0m\u001b[0;34m.\u001b[0m\u001b[0mset\u001b[0m\u001b[0;34m(\u001b[0m\u001b[0mdataparam\u001b[0m\u001b[0;34m)\u001b[0m\u001b[0;34m\u001b[0m\u001b[0m\n\u001b[1;32m      7\u001b[0m \u001b[0;34m\u001b[0m\u001b[0m\n",
      "\u001b[0;31mNameError\u001b[0m: name 'dstrf' is not defined"
     ]
    }
   ],
   "source": [
    "# data settings\n",
    "ntrials = 5\n",
    "noise = 1\n",
    "dataparam = np.hstack((spec[0],costim[0],matparam))\n",
    "M = dstrf(1,nspec,tlen,ncos,coslin,t_dsample,scale=scale,noise=noise,normalize=norm,center=center)\n",
    "M.set(dataparam)\n",
    "\n",
    "# generate the data\n",
    "spikes_data = []\n",
    "spiky_data = []\n",
    "binary_data = []\n",
    "model_data   = []\n",
    "for s,dur in zip(stims,durations):\n",
    "    dsdur = int(dur/t_dsample)\n",
    "    sr = []\n",
    "    sspk = []\n",
    "    s0 = []\n",
    "    sspiky = []\n",
    "    for n in range(ntrials):\n",
    "        z = np.zeros(dur,dtype=int)\n",
    "        r,spikes = M.run(s)\n",
    "        z[spikes] = 1\n",
    "        sr.append(r)\n",
    "        sspk.append(spikes)\n",
    "        sspiky.append(pyspk.SpikeTrain(spikes,[0,dur]))\n",
    "        s0.append(z)\n",
    "    model_data.append(sr)\n",
    "    spikes_data.append(sspk)\n",
    "    spiky_data.append(sspiky)\n",
    "    binary_data.append(s0)\n",
    "psth_data = [utils.psth(spk,dur,t_dsample,dsample=t_dsample) for spk,st,dur in zip(spikes_data,stims,durations)]\n",
    "\n",
    "# separate the simulation and validation sets\n",
    "assim_psth, test_psth = np.split(psth_data,[num_assim_stims])\n",
    "assim_spikes, test_spikes = np.split(spikes_data,[num_assim_stims])\n",
    "assim_spiky, test_spiky = np.split(spiky_data,[num_assim_stims])\n",
    "assim_stims, test_stims = stims[:num_assim_stims], stims[num_assim_stims:]\n",
    "assim_dur, test_dur = np.split(durations,[num_assim_stims])\n",
    "\n",
    "# calculate correlation between even and odd trial psths\n",
    "eocorr = [utils.evenoddcorr(spks,dur,dsample=t_dsample,smooth=psth_smooth) for spks,dur in zip(spikes_data,durations)]\n",
    "print(\"EO: {:.2f}\".format(np.mean(eocorr)))"
   ]
  },
  {
   "cell_type": "code",
   "execution_count": null,
   "metadata": {
    "collapsed": true
   },
   "outputs": [],
   "source": [
    "plot(model_data[0][0])"
   ]
  },
  {
   "cell_type": "markdown",
   "metadata": {},
   "source": [
    "## Getting initial guess for STRF"
   ]
  },
  {
   "cell_type": "code",
   "execution_count": null,
   "metadata": {
    "collapsed": true
   },
   "outputs": [],
   "source": [
    "from sklearn.linear_model import ElasticNetCV\n",
    "# estimate STRF using elastic net regression\n",
    "fit_psth = [p*1000 for p in assim_psth]\n",
    "#fit_psth = [normalize(p,False) for p in assim_psth]\n",
    "\n",
    "en_reg = ElasticNetCV(normalize=True)\n",
    "en_reg.fit(np.vstack(assim_stims),np.hstack(fit_psth))\n",
    "\n",
    "STRF_GUESS = np.fliplr(en_reg.coef_.reshape(nspec,tlen))\n",
    "SPEC,TIM = utils.factorize(STRF_GUESS,channels)\n",
    "\n",
    "# create initial paramter vector from estimated strf\n",
    "filt_start = np.hstack((SPEC,tot(TIM))).flatten()"
   ]
  },
  {
   "cell_type": "code",
   "execution_count": null,
   "metadata": {
    "collapsed": true
   },
   "outputs": [],
   "source": [
    "# plot true and estimated strf\n",
    "subplot(211)\n",
    "sns.heatmap(np.reshape(M.pstrf.filt,(nspec,tlen)))\n",
    "\n",
    "subplot(212)\n",
    "strf_model = cosstrf_design(channels,nspec,tlen,ncos,coslin,normalize=norm,center=center)\n",
    "strf_model.set(filt_start)\n",
    "sns.heatmap(strf_model.filt)"
   ]
  },
  {
   "cell_type": "markdown",
   "metadata": {},
   "source": [
    "## Define loss and prior functions"
   ]
  },
  {
   "cell_type": "code",
   "execution_count": null,
   "metadata": {
    "collapsed": true
   },
   "outputs": [],
   "source": [
    "from neurofit import priors\n",
    "from neurofit import costs\n",
    "\n",
    "def spike_distance(predict,data):\n",
    "    trace, spikes = predict\n",
    "    spiky = pyspk.SpikeTrain(spikes,[0,data[0].t_end])\n",
    "    dist = 1000*np.mean([pyspk.spike_distance(spiky,trial) for trial in data])\n",
    "    return dist\n",
    "\n",
    "mat_prior = priors.joint_independent(\n",
    "                [ nf.priors.uniform(-1000,  1000),\n",
    "                  nf.priors.uniform( -100,   100),\n",
    "                  nf.priors.uniform( -100,   100),\n",
    "                  nf.priors.uniform( -1000,  1000)])\n",
    "\n",
    "cost = spike_distance\n",
    "unbounded = priors.unbounded()\n",
    "\n",
    "def dstrf_shrink_prior(theta):\n",
    "    return np.sum(np.abs(start[:-4])) + mat_prior(start[-4:])"
   ]
  },
  {
   "cell_type": "markdown",
   "metadata": {},
   "source": [
    "## Run initial MAT parameter fit"
   ]
  },
  {
   "cell_type": "code",
   "execution_count": null,
   "metadata": {
    "collapsed": true
   },
   "outputs": [],
   "source": [
    "from neurofit import startpos\n",
    "# get I with STRF fixed\n",
    "Iapp = []\n",
    "for s,dur in zip(stims,durations):\n",
    "    R = resample(strf_model.run(s),dur)\n",
    "    Iapp.append(R*scale)\n",
    "    \n",
    "assim_Iapp, test_Iapp = np.split(Iapp,[num_assim_stims])\n",
    "\n",
    "# initalize the mat model\n",
    "mat_model = mat(free_ts=free_ts)\n",
    "\n",
    "# generate starting positions of emcee walkers\n",
    "p0 = startpos.uniform_independent(nwalkers,[-100,-10,-10,-10],[100,10,10,10])\n",
    "#p0 = startpos.normal_independent(nwalkers,[5,0,0,1],[0.1]*4)\n",
    "#p0 = startpos.normal_independent(nwalkers,matparam,[0.1]*4)\n",
    "\n",
    "# run emcee\n",
    "mat_smplr = nf.sampler(mat_model,mat_prior,cost,nwalkers,zip(assim_Iapp,assim_spiky),8)\n",
    "\n",
    "for pos,_,_ in tracker(mat_smplr.sample(p0,iterations=burn)): continue\n",
    "mat_smplr.reset()\n",
    "mat_smplr.run_mcmc(pos,1);"
   ]
  },
  {
   "cell_type": "code",
   "execution_count": null,
   "metadata": {
    "collapsed": true
   },
   "outputs": [],
   "source": [
    "# check the performance of the fit mat model\n",
    "mml = mat_smplr.flatchain[np.argmax(mat_smplr.flatlnprobability)]\n",
    "mat_map = mat()\n",
    "mat_map.set(mml)\n",
    "mat_corr = []\n",
    "\n",
    "#param_corr = utils.evaluate(STRF_GUESS,test_stims,test_psth)\n",
    "\n",
    "for i,p,d in zip(test_Iapp,test_psth,test_dur):\n",
    "    trace,spikes = mat_map.run(i)\n",
    "    mat_psth = utils.psth_spiky(pyspk.SpikeTrain(spikes,[0,d]),binres=1,smooth=psth_smooth,dsample=t_dsample)\n",
    "    mat_corr.append(np.corrcoef(p,mat_psth)[0][1])\n",
    "        \n",
    "start = np.hstack((filt_start,mml))\n",
    "print(\"MAT R: {:.3f}\".format(np.mean(mat_corr)))"
   ]
  },
  {
   "cell_type": "markdown",
   "metadata": {},
   "source": [
    "## Fit dSTRF model using emcee"
   ]
  },
  {
   "cell_type": "code",
   "execution_count": null,
   "metadata": {
    "collapsed": true
   },
   "outputs": [],
   "source": [
    "# initalize the model\n",
    "model = dstrf_mat(1,nspec,tlen,ncos,coslin,t_dsample,scale=scale,normalize=norm,center=center)\n",
    "\n",
    "# set starting positions for walkers\n",
    "p0 = startpos.normal_independent(nwalkers-1,start,[1e-4]*len(start))\n",
    "p0 = np.vstack((start,p0))\n",
    "\n",
    "# run emcee\n",
    "dstrf_smplr = nf.sampler(model,dstrf_shrink_prior,spike_distance,nwalkers,zip(assim_stims,assim_spiky),8)\n",
    "for pos,_,_ in tracker(dstrf_smplr.sample(p0,iterations=burn)): continue\n",
    "dstrf_smplr.reset()\n",
    "dstrf_smplr.run_mcmc(pos,1);"
   ]
  },
  {
   "cell_type": "markdown",
   "metadata": {},
   "source": [
    "## Evaluate the model fit"
   ]
  },
  {
   "cell_type": "code",
   "execution_count": null,
   "metadata": {
    "collapsed": true
   },
   "outputs": [],
   "source": [
    "# initalize model with MAP parameter estimate\n",
    "dmap = dstrf_smplr.flatchain[np.argmax(dstrf_smplr.flatlnprobability)]\n",
    "model.set(dmap)\n",
    "\n",
    "figure(figsize=(4,4))\n",
    "# compare true and estimated STRFs\n",
    "subplot(211)\n",
    "sns.heatmap(M.pstrf.filt,cbar=False)\n",
    "\n",
    "subplot(212)\n",
    "sns.heatmap(model.pstrf.filt,cbar = False)\n",
    "tight_layout()"
   ]
  },
  {
   "cell_type": "code",
   "execution_count": null,
   "metadata": {
    "collapsed": true
   },
   "outputs": [],
   "source": [
    "map_corr = utils.dstrf_sample_validate(model,dmap,test_stims,test_psth,test_spiky,t_dsample,psth_smooth,plt=True,figsize=(4,1))\n",
    "ppcorr = utils.posterior_predict_corr(model,test_stims,test_psth,dstrf_smplr.flatchain,t_dsample,psth_smooth)\n",
    "corr_means = np.mean([map_corr,ppcorr,eocorr[num_assim_stims:]],axis=1)\n",
    "print(\"MAP: {:.2f}, Dist: {:.2f}, EO: {:.2f}\".format(corr_means[0],corr_means[1],corr_means[2]))\n",
    "print(\"MAP/EO: {:.2f}, Dist/EO: {:.2f}\".format(corr_means[0]/corr_means[2],corr_means[1]/corr_means[2]))"
   ]
  },
  {
   "cell_type": "code",
   "execution_count": null,
   "metadata": {
    "collapsed": true,
    "scrolled": false
   },
   "outputs": [],
   "source": [
    "from corner import corner\n",
    "\n",
    "matlabs = ['a','b','c','w']\n",
    "corner(dstrf_smplr.flatchain[:,-4:],\n",
    "       range=[[-100,100],\n",
    "              [-10,10],\n",
    "              [-10,10],\n",
    "              [-100,100]],\n",
    "       bins=50, smooth=2,mooth1d=5,\n",
    "       labels=matlabs,\n",
    "       truths=matparam);"
   ]
  }
 ],
 "metadata": {
  "kernelspec": {
   "display_name": "Python 2",
   "language": "python",
   "name": "python2"
  },
  "language_info": {
   "codemirror_mode": {
    "name": "ipython",
    "version": 2
   },
   "file_extension": ".py",
   "mimetype": "text/x-python",
   "name": "python",
   "nbconvert_exporter": "python",
   "pygments_lexer": "ipython2",
   "version": "2.7.13"
  }
 },
 "nbformat": 4,
 "nbformat_minor": 1
}
